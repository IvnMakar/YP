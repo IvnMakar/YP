{
 "cells": [
  {
   "cell_type": "markdown",
   "id": "dff81d4b",
   "metadata": {},
   "source": [
    "\n",
    "<font color='blue'>Привет, Иван! Меня зовут Павел Григорьев, и я буду проверять этот проект.<br>Моя основная цель - не указать на совершённые тобой ошибки, а поделиться своим опытом и помочь тебе совершенствоваться как профессионалу.<br>Спасибо за проделанную работу! Предлагаю общаться на «ты».</font>\n",
    "<details>\n",
    "\t<summary><u>Инструкция по организационным мометнам (кликабельно)</u></summary>\n",
    "<font color='blue'>Я буду использовать различные цвета, чтобы было удобнее воспринимать мои комментарии:</font>\n",
    "\n",
    "\n",
    "---\n",
    "\n",
    "\n",
    "<font color='blue'>синий текст - просто текст комментария</font>\n",
    "\n",
    "<font color='green'>✔️ и зеленый текст - все отлично</font>\n",
    "\n",
    "<font color='orange'>⚠️ и оранжевый текст - сделано все правильно, однако есть рекомендации, на что стоит обратить внимание</font>\n",
    "\n",
    "<font color='red'>❌ и красный текст - есть недочеты</font>\n",
    "\n",
    "\n",
    "</details>    \n",
    "    </br>\n",
    "<font color='blue'>Пожалуйста, не удаляй мои комментарии в случае возврата работы, так будет проще разобраться, какие были недочеты, а также сразу увидеть исправленное. </font>\n",
    "\n",
    "Ответы на мои комментарии лучше тоже помечать.\n",
    "Например: <font color='purple'><b>Комментарий студента</b></font>\n",
    "\n",
    "<font color='blue'><b>Давай смотреть, что получилось!</b></font>"
   ]
  },
  {
   "cell_type": "markdown",
   "id": "28b5f6af",
   "metadata": {},
   "source": [
    "<font color='blue' size=3><b>Комментарий ревьюера 2</b></font>\n",
    "\n",
    "<font color='blue'>Привет еще раз. Спасибо, за исправления. Оформление комментариев по работе сохраняется. Только обозначим, что это вторая итерация.</font>"
   ]
  },
  {
   "cell_type": "markdown",
   "id": "319e3abd",
   "metadata": {},
   "source": [
    "<font color='blue' size=3><b>Комментарий ревьюера 3</b></font>\n",
    "\n",
    "<font color='blue'>Привет еще раз. Спасибо, за исправления. Оформление комментариев по работе сохраняется.</font>"
   ]
  },
  {
   "cell_type": "markdown",
   "id": "83b2d649",
   "metadata": {},
   "source": [
    "<font color='blue' size=3><b>Комментарий ревьюера 4</b></font>\n",
    "\n",
    "<font color='blue'>Привет еще раз. Спасибо, за исправления. Оформление комментариев по работе сохраняется.</font>"
   ]
  },
  {
   "cell_type": "markdown",
   "id": "b0260915",
   "metadata": {},
   "source": [
    "# Описание проекта"
   ]
  },
  {
   "cell_type": "markdown",
   "id": "ec716162",
   "metadata": {},
   "source": [
    "Данные находятся в трёх файлах:\n",
    "- gold_recovery_train_new.csv — обучающая выборка;\n",
    "- gold_recovery_test_new.csv — тестовая выборка;\n",
    "- gold_recovery_full_new.csv — исходные данные.\n",
    "\n",
    "Данные индексируются датой и временем получения информации (признак date). Соседние по времени параметры часто похожи.\n",
    "\n",
    "Некоторые параметры недоступны, потому что замеряются и/или рассчитываются значительно позже. Из-за этого в тестовой выборке отсутствуют некоторые признаки, которые могут быть в обучающей. Также в тестовом наборе нет целевых признаков.\n",
    "\n",
    "Исходный датасет содержит обучающую и тестовую выборки со всеми признаками.\n",
    "\n",
    "В вашем распоряжении сырые данные: их просто выгрузили из хранилища. Прежде чем приступить к построению модели, проверьте по нашей инструкции их на корректность."
   ]
  },
  {
   "cell_type": "markdown",
   "id": "cda62c2c",
   "metadata": {},
   "source": [
    "# Инструкция по выполнению проекта"
   ]
  },
  {
   "cell_type": "markdown",
   "id": "c6232932",
   "metadata": {},
   "source": [
    "1. Подготовьте данные\n",
    "- Откройте файлы и изучите их\n",
    "- Проверьте, что эффективность обогащения рассчитана правильно. Вычислите её на обучающей выборке для признака rougher.output.recovery. Найдите MAE между вашими расчётами и значением признака. Опишите выводы.\n",
    "- Проанализируйте признаки, недоступные в тестовой выборке. Что это за параметры? К какому типу относятся?\n",
    "- Проведите предобработку данных.\n",
    "2. Проанализируйте данные\n",
    "- Посмотрите, как меняется концентрация металлов (Au, Ag, Pb) на различных этапах очистки. Опишите выводы.\n",
    "- Сравните распределения размеров гранул сырья на обучающей и тестовой выборках. Если распределения сильно отличаются друг от друга, оценка модели будет неправильной.\n",
    "- Исследуйте суммарную концентрацию всех веществ на разных стадиях: в сырье, в черновом и финальном концентратах.\n",
    "3. Постройте модель\n",
    "- Напишите функцию для вычисления итоговой sMAPE.\n",
    "- Обучите разные модели и оцените их качество кросс-валидацией. Выберите лучшую модель и проверьте её на тестовой выборке. Опишите выводы."
   ]
  },
  {
   "cell_type": "markdown",
   "id": "65469daf",
   "metadata": {},
   "source": [
    "<div class=\"alert alert-block alert-warning\">\n",
    "<b>Комментарий студента:</b>Приветствую! Понимаю, что направил проект на проверку до его завершения, но это вынежденно. Не могу понять, в чем заключается моя ошибка. Вроде бы NAN'ы заполнил ffill'ом, но на этапе построения модели - результаты все равно NAN'ы. Очень прошу помочь и подсказать, что я пропустил, где ошибся. Заранее благодарен.\n",
    "</div>"
   ]
  },
  {
   "cell_type": "markdown",
   "id": "5ae25505",
   "metadata": {},
   "source": [
    "<font color='purple'><b>Комментарий студента V2: Павел, привет! Долго голову ломал, что делать и решил немного проект перелопатить, извини =).</b></font>"
   ]
  },
  {
   "cell_type": "markdown",
   "id": "bc299248",
   "metadata": {},
   "source": [
    "<font color='blue'><b>Комментарий ревьюера: </b></font> ✔️\\\n",
    "<font color='green'>👍</font>"
   ]
  },
  {
   "cell_type": "markdown",
   "id": "90121cf6",
   "metadata": {},
   "source": [
    "# 1. Подготовка данных"
   ]
  },
  {
   "cell_type": "markdown",
   "id": "9dd2cdd3",
   "metadata": {},
   "source": [
    "**Импортируем необходимые библиотеки, откроем файлы и взглянем на имеющиеся данные.**"
   ]
  },
  {
   "cell_type": "code",
   "execution_count": 1,
   "id": "de4b7052",
   "metadata": {},
   "outputs": [],
   "source": [
    "import pandas as pd \n",
    "\n",
    "import matplotlib.pyplot as plt\n",
    "\n",
    "import seaborn as sns\n",
    "\n",
    "import numpy as np\n",
    "\n",
    "from sklearn.model_selection import train_test_split, cross_val_score, GridSearchCV, KFold\n",
    "from sklearn.preprocessing import StandardScaler\n",
    "from sklearn.metrics import make_scorer, mean_absolute_error\n",
    "from sklearn.linear_model import LinearRegression\n",
    "from sklearn.tree import DecisionTreeRegressor\n",
    "from sklearn.ensemble import RandomForestRegressor\n",
    "from sklearn.dummy import DummyRegressor"
   ]
  },
  {
   "cell_type": "markdown",
   "id": "94f4e234",
   "metadata": {},
   "source": [
    "<font color='blue'><b>Комментарий ревьюера: </b></font> ✔️\\\n",
    "<font color='green'> Хорошее оформление импортов! \\\n",
    "Импорты собраны в одной ячейке, сгрупированы по функциональности. Можно ещё разделить группы пустой строкой.</font>"
   ]
  },
  {
   "cell_type": "markdown",
   "id": "edeb09b3",
   "metadata": {},
   "source": [
    "<font color='purple'><b>Комментарий студента V2: Вот так?</b></font>"
   ]
  },
  {
   "cell_type": "markdown",
   "id": "ddb52ac6",
   "metadata": {},
   "source": [
    "<font color='blue'><b>Комментарий ревьюера 2: </b></font> ✔️\\\n",
    "<font color='green'>Всё что import можно объединить в одну группу, это всё базовые библиотеки.</font>"
   ]
  },
  {
   "cell_type": "code",
   "execution_count": 2,
   "id": "93dce7af",
   "metadata": {
    "scrolled": true
   },
   "outputs": [],
   "source": [
    "# gold_train = pd.read_csv(\"C:/Users/user/Desktop/gold_recovery_train_new.csv\", index_col=0)\n",
    "# gold_test = pd.read_csv(\"C:/Users/user/Desktop/gold_recovery_test_new.csv\", index_col=0)\n",
    "# gold_full = pd.read_csv(\"C:/Users/user/Desktop/gold_recovery_full_new.csv\", index_col=0)"
   ]
  },
  {
   "cell_type": "code",
   "execution_count": 3,
   "id": "4ec6dfc9",
   "metadata": {},
   "outputs": [],
   "source": [
    "gold_train = pd.read_csv('https://code.s3.yandex.net/datasets/gold_recovery_train_new.csv' , index_col=0)\n",
    "gold_test = pd.read_csv('https://code.s3.yandex.net/datasets/gold_recovery_test_new.csv', index_col=0)\n",
    "gold_full = pd.read_csv('https://code.s3.yandex.net/datasets/gold_recovery_full_new.csv', index_col=0)"
   ]
  },
  {
   "cell_type": "markdown",
   "id": "21749d21",
   "metadata": {},
   "source": [
    "<font color='blue'><b>Комментарий ревьюера 4 : </b></font> ⚠️\\\n",
    "<font color='darkorange'>Используй try: except: для разных вариантов загрузки!</font>"
   ]
  },
  {
   "cell_type": "markdown",
   "id": "23b67969",
   "metadata": {},
   "source": [
    "<font color='purple'><b>Комментарий студента V2: Добавил index_col=0.</b></font>"
   ]
  },
  {
   "cell_type": "markdown",
   "id": "83ceab09",
   "metadata": {},
   "source": [
    "<font color='blue'><b>Комментарий ревьюера 2: </b></font> ✔️\\\n",
    "<font color='green'>Классно, что сразу объявляешь 'date' индексом.</font>"
   ]
  },
  {
   "cell_type": "code",
   "execution_count": 4,
   "id": "3d85bd09",
   "metadata": {},
   "outputs": [
    {
     "data": {
      "text/html": [
       "<div>\n",
       "<style scoped>\n",
       "    .dataframe tbody tr th:only-of-type {\n",
       "        vertical-align: middle;\n",
       "    }\n",
       "\n",
       "    .dataframe tbody tr th {\n",
       "        vertical-align: top;\n",
       "    }\n",
       "\n",
       "    .dataframe thead th {\n",
       "        text-align: right;\n",
       "    }\n",
       "</style>\n",
       "<table border=\"1\" class=\"dataframe\">\n",
       "  <thead>\n",
       "    <tr style=\"text-align: right;\">\n",
       "      <th></th>\n",
       "      <th>final.output.concentrate_ag</th>\n",
       "      <th>final.output.concentrate_pb</th>\n",
       "      <th>final.output.concentrate_sol</th>\n",
       "      <th>final.output.concentrate_au</th>\n",
       "      <th>final.output.recovery</th>\n",
       "      <th>final.output.tail_ag</th>\n",
       "      <th>final.output.tail_pb</th>\n",
       "      <th>final.output.tail_sol</th>\n",
       "      <th>final.output.tail_au</th>\n",
       "      <th>primary_cleaner.input.sulfate</th>\n",
       "      <th>...</th>\n",
       "      <th>secondary_cleaner.state.floatbank4_a_air</th>\n",
       "      <th>secondary_cleaner.state.floatbank4_a_level</th>\n",
       "      <th>secondary_cleaner.state.floatbank4_b_air</th>\n",
       "      <th>secondary_cleaner.state.floatbank4_b_level</th>\n",
       "      <th>secondary_cleaner.state.floatbank5_a_air</th>\n",
       "      <th>secondary_cleaner.state.floatbank5_a_level</th>\n",
       "      <th>secondary_cleaner.state.floatbank5_b_air</th>\n",
       "      <th>secondary_cleaner.state.floatbank5_b_level</th>\n",
       "      <th>secondary_cleaner.state.floatbank6_a_air</th>\n",
       "      <th>secondary_cleaner.state.floatbank6_a_level</th>\n",
       "    </tr>\n",
       "    <tr>\n",
       "      <th>date</th>\n",
       "      <th></th>\n",
       "      <th></th>\n",
       "      <th></th>\n",
       "      <th></th>\n",
       "      <th></th>\n",
       "      <th></th>\n",
       "      <th></th>\n",
       "      <th></th>\n",
       "      <th></th>\n",
       "      <th></th>\n",
       "      <th></th>\n",
       "      <th></th>\n",
       "      <th></th>\n",
       "      <th></th>\n",
       "      <th></th>\n",
       "      <th></th>\n",
       "      <th></th>\n",
       "      <th></th>\n",
       "      <th></th>\n",
       "      <th></th>\n",
       "      <th></th>\n",
       "    </tr>\n",
       "  </thead>\n",
       "  <tbody>\n",
       "    <tr>\n",
       "      <th>2016-01-15 00:00:00</th>\n",
       "      <td>6.055403</td>\n",
       "      <td>9.889648</td>\n",
       "      <td>5.507324</td>\n",
       "      <td>42.192020</td>\n",
       "      <td>70.541216</td>\n",
       "      <td>10.411962</td>\n",
       "      <td>0.895447</td>\n",
       "      <td>16.904297</td>\n",
       "      <td>2.143149</td>\n",
       "      <td>127.092003</td>\n",
       "      <td>...</td>\n",
       "      <td>14.016835</td>\n",
       "      <td>-502.488007</td>\n",
       "      <td>12.099931</td>\n",
       "      <td>-504.715942</td>\n",
       "      <td>9.925633</td>\n",
       "      <td>-498.310211</td>\n",
       "      <td>8.079666</td>\n",
       "      <td>-500.470978</td>\n",
       "      <td>14.151341</td>\n",
       "      <td>-605.841980</td>\n",
       "    </tr>\n",
       "    <tr>\n",
       "      <th>2016-01-15 01:00:00</th>\n",
       "      <td>6.029369</td>\n",
       "      <td>9.968944</td>\n",
       "      <td>5.257781</td>\n",
       "      <td>42.701629</td>\n",
       "      <td>69.266198</td>\n",
       "      <td>10.462676</td>\n",
       "      <td>0.927452</td>\n",
       "      <td>16.634514</td>\n",
       "      <td>2.224930</td>\n",
       "      <td>125.629232</td>\n",
       "      <td>...</td>\n",
       "      <td>13.992281</td>\n",
       "      <td>-505.503262</td>\n",
       "      <td>11.950531</td>\n",
       "      <td>-501.331529</td>\n",
       "      <td>10.039245</td>\n",
       "      <td>-500.169983</td>\n",
       "      <td>7.984757</td>\n",
       "      <td>-500.582168</td>\n",
       "      <td>13.998353</td>\n",
       "      <td>-599.787184</td>\n",
       "    </tr>\n",
       "    <tr>\n",
       "      <th>2016-01-15 02:00:00</th>\n",
       "      <td>6.055926</td>\n",
       "      <td>10.213995</td>\n",
       "      <td>5.383759</td>\n",
       "      <td>42.657501</td>\n",
       "      <td>68.116445</td>\n",
       "      <td>10.507046</td>\n",
       "      <td>0.953716</td>\n",
       "      <td>16.208849</td>\n",
       "      <td>2.257889</td>\n",
       "      <td>123.819808</td>\n",
       "      <td>...</td>\n",
       "      <td>14.015015</td>\n",
       "      <td>-502.520901</td>\n",
       "      <td>11.912783</td>\n",
       "      <td>-501.133383</td>\n",
       "      <td>10.070913</td>\n",
       "      <td>-500.129135</td>\n",
       "      <td>8.013877</td>\n",
       "      <td>-500.517572</td>\n",
       "      <td>14.028663</td>\n",
       "      <td>-601.427363</td>\n",
       "    </tr>\n",
       "    <tr>\n",
       "      <th>2016-01-15 03:00:00</th>\n",
       "      <td>6.047977</td>\n",
       "      <td>9.977019</td>\n",
       "      <td>4.858634</td>\n",
       "      <td>42.689819</td>\n",
       "      <td>68.347543</td>\n",
       "      <td>10.422762</td>\n",
       "      <td>0.883763</td>\n",
       "      <td>16.532835</td>\n",
       "      <td>2.146849</td>\n",
       "      <td>122.270188</td>\n",
       "      <td>...</td>\n",
       "      <td>14.036510</td>\n",
       "      <td>-500.857308</td>\n",
       "      <td>11.999550</td>\n",
       "      <td>-501.193686</td>\n",
       "      <td>9.970366</td>\n",
       "      <td>-499.201640</td>\n",
       "      <td>7.977324</td>\n",
       "      <td>-500.255908</td>\n",
       "      <td>14.005551</td>\n",
       "      <td>-599.996129</td>\n",
       "    </tr>\n",
       "    <tr>\n",
       "      <th>2016-01-15 04:00:00</th>\n",
       "      <td>6.148599</td>\n",
       "      <td>10.142511</td>\n",
       "      <td>4.939416</td>\n",
       "      <td>42.774141</td>\n",
       "      <td>66.927016</td>\n",
       "      <td>10.360302</td>\n",
       "      <td>0.792826</td>\n",
       "      <td>16.525686</td>\n",
       "      <td>2.055292</td>\n",
       "      <td>117.988169</td>\n",
       "      <td>...</td>\n",
       "      <td>14.027298</td>\n",
       "      <td>-499.838632</td>\n",
       "      <td>11.953070</td>\n",
       "      <td>-501.053894</td>\n",
       "      <td>9.925709</td>\n",
       "      <td>-501.686727</td>\n",
       "      <td>7.894242</td>\n",
       "      <td>-500.356035</td>\n",
       "      <td>13.996647</td>\n",
       "      <td>-601.496691</td>\n",
       "    </tr>\n",
       "  </tbody>\n",
       "</table>\n",
       "<p>5 rows × 86 columns</p>\n",
       "</div>"
      ],
      "text/plain": [
       "                     final.output.concentrate_ag  final.output.concentrate_pb  \\\n",
       "date                                                                            \n",
       "2016-01-15 00:00:00                     6.055403                     9.889648   \n",
       "2016-01-15 01:00:00                     6.029369                     9.968944   \n",
       "2016-01-15 02:00:00                     6.055926                    10.213995   \n",
       "2016-01-15 03:00:00                     6.047977                     9.977019   \n",
       "2016-01-15 04:00:00                     6.148599                    10.142511   \n",
       "\n",
       "                     final.output.concentrate_sol  \\\n",
       "date                                                \n",
       "2016-01-15 00:00:00                      5.507324   \n",
       "2016-01-15 01:00:00                      5.257781   \n",
       "2016-01-15 02:00:00                      5.383759   \n",
       "2016-01-15 03:00:00                      4.858634   \n",
       "2016-01-15 04:00:00                      4.939416   \n",
       "\n",
       "                     final.output.concentrate_au  final.output.recovery  \\\n",
       "date                                                                      \n",
       "2016-01-15 00:00:00                    42.192020              70.541216   \n",
       "2016-01-15 01:00:00                    42.701629              69.266198   \n",
       "2016-01-15 02:00:00                    42.657501              68.116445   \n",
       "2016-01-15 03:00:00                    42.689819              68.347543   \n",
       "2016-01-15 04:00:00                    42.774141              66.927016   \n",
       "\n",
       "                     final.output.tail_ag  final.output.tail_pb  \\\n",
       "date                                                              \n",
       "2016-01-15 00:00:00             10.411962              0.895447   \n",
       "2016-01-15 01:00:00             10.462676              0.927452   \n",
       "2016-01-15 02:00:00             10.507046              0.953716   \n",
       "2016-01-15 03:00:00             10.422762              0.883763   \n",
       "2016-01-15 04:00:00             10.360302              0.792826   \n",
       "\n",
       "                     final.output.tail_sol  final.output.tail_au  \\\n",
       "date                                                               \n",
       "2016-01-15 00:00:00              16.904297              2.143149   \n",
       "2016-01-15 01:00:00              16.634514              2.224930   \n",
       "2016-01-15 02:00:00              16.208849              2.257889   \n",
       "2016-01-15 03:00:00              16.532835              2.146849   \n",
       "2016-01-15 04:00:00              16.525686              2.055292   \n",
       "\n",
       "                     primary_cleaner.input.sulfate  ...  \\\n",
       "date                                                ...   \n",
       "2016-01-15 00:00:00                     127.092003  ...   \n",
       "2016-01-15 01:00:00                     125.629232  ...   \n",
       "2016-01-15 02:00:00                     123.819808  ...   \n",
       "2016-01-15 03:00:00                     122.270188  ...   \n",
       "2016-01-15 04:00:00                     117.988169  ...   \n",
       "\n",
       "                     secondary_cleaner.state.floatbank4_a_air  \\\n",
       "date                                                            \n",
       "2016-01-15 00:00:00                                 14.016835   \n",
       "2016-01-15 01:00:00                                 13.992281   \n",
       "2016-01-15 02:00:00                                 14.015015   \n",
       "2016-01-15 03:00:00                                 14.036510   \n",
       "2016-01-15 04:00:00                                 14.027298   \n",
       "\n",
       "                     secondary_cleaner.state.floatbank4_a_level  \\\n",
       "date                                                              \n",
       "2016-01-15 00:00:00                                 -502.488007   \n",
       "2016-01-15 01:00:00                                 -505.503262   \n",
       "2016-01-15 02:00:00                                 -502.520901   \n",
       "2016-01-15 03:00:00                                 -500.857308   \n",
       "2016-01-15 04:00:00                                 -499.838632   \n",
       "\n",
       "                     secondary_cleaner.state.floatbank4_b_air  \\\n",
       "date                                                            \n",
       "2016-01-15 00:00:00                                 12.099931   \n",
       "2016-01-15 01:00:00                                 11.950531   \n",
       "2016-01-15 02:00:00                                 11.912783   \n",
       "2016-01-15 03:00:00                                 11.999550   \n",
       "2016-01-15 04:00:00                                 11.953070   \n",
       "\n",
       "                     secondary_cleaner.state.floatbank4_b_level  \\\n",
       "date                                                              \n",
       "2016-01-15 00:00:00                                 -504.715942   \n",
       "2016-01-15 01:00:00                                 -501.331529   \n",
       "2016-01-15 02:00:00                                 -501.133383   \n",
       "2016-01-15 03:00:00                                 -501.193686   \n",
       "2016-01-15 04:00:00                                 -501.053894   \n",
       "\n",
       "                     secondary_cleaner.state.floatbank5_a_air  \\\n",
       "date                                                            \n",
       "2016-01-15 00:00:00                                  9.925633   \n",
       "2016-01-15 01:00:00                                 10.039245   \n",
       "2016-01-15 02:00:00                                 10.070913   \n",
       "2016-01-15 03:00:00                                  9.970366   \n",
       "2016-01-15 04:00:00                                  9.925709   \n",
       "\n",
       "                     secondary_cleaner.state.floatbank5_a_level  \\\n",
       "date                                                              \n",
       "2016-01-15 00:00:00                                 -498.310211   \n",
       "2016-01-15 01:00:00                                 -500.169983   \n",
       "2016-01-15 02:00:00                                 -500.129135   \n",
       "2016-01-15 03:00:00                                 -499.201640   \n",
       "2016-01-15 04:00:00                                 -501.686727   \n",
       "\n",
       "                     secondary_cleaner.state.floatbank5_b_air  \\\n",
       "date                                                            \n",
       "2016-01-15 00:00:00                                  8.079666   \n",
       "2016-01-15 01:00:00                                  7.984757   \n",
       "2016-01-15 02:00:00                                  8.013877   \n",
       "2016-01-15 03:00:00                                  7.977324   \n",
       "2016-01-15 04:00:00                                  7.894242   \n",
       "\n",
       "                     secondary_cleaner.state.floatbank5_b_level  \\\n",
       "date                                                              \n",
       "2016-01-15 00:00:00                                 -500.470978   \n",
       "2016-01-15 01:00:00                                 -500.582168   \n",
       "2016-01-15 02:00:00                                 -500.517572   \n",
       "2016-01-15 03:00:00                                 -500.255908   \n",
       "2016-01-15 04:00:00                                 -500.356035   \n",
       "\n",
       "                     secondary_cleaner.state.floatbank6_a_air  \\\n",
       "date                                                            \n",
       "2016-01-15 00:00:00                                 14.151341   \n",
       "2016-01-15 01:00:00                                 13.998353   \n",
       "2016-01-15 02:00:00                                 14.028663   \n",
       "2016-01-15 03:00:00                                 14.005551   \n",
       "2016-01-15 04:00:00                                 13.996647   \n",
       "\n",
       "                     secondary_cleaner.state.floatbank6_a_level  \n",
       "date                                                             \n",
       "2016-01-15 00:00:00                                 -605.841980  \n",
       "2016-01-15 01:00:00                                 -599.787184  \n",
       "2016-01-15 02:00:00                                 -601.427363  \n",
       "2016-01-15 03:00:00                                 -599.996129  \n",
       "2016-01-15 04:00:00                                 -601.496691  \n",
       "\n",
       "[5 rows x 86 columns]"
      ]
     },
     "execution_count": 4,
     "metadata": {},
     "output_type": "execute_result"
    }
   ],
   "source": [
    "gold_train.head()"
   ]
  },
  {
   "cell_type": "code",
   "execution_count": 5,
   "id": "eb194b7a",
   "metadata": {
    "scrolled": true
   },
   "outputs": [
    {
     "name": "stdout",
     "output_type": "stream",
     "text": [
      "<class 'pandas.core.frame.DataFrame'>\n",
      "Index: 14149 entries, 2016-01-15 00:00:00 to 2018-08-18 10:59:59\n",
      "Data columns (total 86 columns):\n",
      " #   Column                                              Non-Null Count  Dtype  \n",
      "---  ------                                              --------------  -----  \n",
      " 0   final.output.concentrate_ag                         14148 non-null  float64\n",
      " 1   final.output.concentrate_pb                         14148 non-null  float64\n",
      " 2   final.output.concentrate_sol                        13938 non-null  float64\n",
      " 3   final.output.concentrate_au                         14149 non-null  float64\n",
      " 4   final.output.recovery                               14149 non-null  float64\n",
      " 5   final.output.tail_ag                                14149 non-null  float64\n",
      " 6   final.output.tail_pb                                14049 non-null  float64\n",
      " 7   final.output.tail_sol                               14144 non-null  float64\n",
      " 8   final.output.tail_au                                14149 non-null  float64\n",
      " 9   primary_cleaner.input.sulfate                       14129 non-null  float64\n",
      " 10  primary_cleaner.input.depressant                    14117 non-null  float64\n",
      " 11  primary_cleaner.input.feed_size                     14149 non-null  float64\n",
      " 12  primary_cleaner.input.xanthate                      14049 non-null  float64\n",
      " 13  primary_cleaner.output.concentrate_ag               14149 non-null  float64\n",
      " 14  primary_cleaner.output.concentrate_pb               14063 non-null  float64\n",
      " 15  primary_cleaner.output.concentrate_sol              13863 non-null  float64\n",
      " 16  primary_cleaner.output.concentrate_au               14149 non-null  float64\n",
      " 17  primary_cleaner.output.tail_ag                      14148 non-null  float64\n",
      " 18  primary_cleaner.output.tail_pb                      14134 non-null  float64\n",
      " 19  primary_cleaner.output.tail_sol                     14103 non-null  float64\n",
      " 20  primary_cleaner.output.tail_au                      14149 non-null  float64\n",
      " 21  primary_cleaner.state.floatbank8_a_air              14145 non-null  float64\n",
      " 22  primary_cleaner.state.floatbank8_a_level            14148 non-null  float64\n",
      " 23  primary_cleaner.state.floatbank8_b_air              14145 non-null  float64\n",
      " 24  primary_cleaner.state.floatbank8_b_level            14148 non-null  float64\n",
      " 25  primary_cleaner.state.floatbank8_c_air              14147 non-null  float64\n",
      " 26  primary_cleaner.state.floatbank8_c_level            14148 non-null  float64\n",
      " 27  primary_cleaner.state.floatbank8_d_air              14146 non-null  float64\n",
      " 28  primary_cleaner.state.floatbank8_d_level            14148 non-null  float64\n",
      " 29  rougher.calculation.sulfate_to_au_concentrate       14148 non-null  float64\n",
      " 30  rougher.calculation.floatbank10_sulfate_to_au_feed  14148 non-null  float64\n",
      " 31  rougher.calculation.floatbank11_sulfate_to_au_feed  14148 non-null  float64\n",
      " 32  rougher.calculation.au_pb_ratio                     14149 non-null  float64\n",
      " 33  rougher.input.feed_ag                               14149 non-null  float64\n",
      " 34  rougher.input.feed_pb                               14049 non-null  float64\n",
      " 35  rougher.input.feed_rate                             14141 non-null  float64\n",
      " 36  rougher.input.feed_size                             14005 non-null  float64\n",
      " 37  rougher.input.feed_sol                              14071 non-null  float64\n",
      " 38  rougher.input.feed_au                               14149 non-null  float64\n",
      " 39  rougher.input.floatbank10_sulfate                   14120 non-null  float64\n",
      " 40  rougher.input.floatbank10_xanthate                  14141 non-null  float64\n",
      " 41  rougher.input.floatbank11_sulfate                   14113 non-null  float64\n",
      " 42  rougher.input.floatbank11_xanthate                  13721 non-null  float64\n",
      " 43  rougher.output.concentrate_ag                       14149 non-null  float64\n",
      " 44  rougher.output.concentrate_pb                       14149 non-null  float64\n",
      " 45  rougher.output.concentrate_sol                      14127 non-null  float64\n",
      " 46  rougher.output.concentrate_au                       14149 non-null  float64\n",
      " 47  rougher.output.recovery                             14149 non-null  float64\n",
      " 48  rougher.output.tail_ag                              14148 non-null  float64\n",
      " 49  rougher.output.tail_pb                              14149 non-null  float64\n",
      " 50  rougher.output.tail_sol                             14149 non-null  float64\n",
      " 51  rougher.output.tail_au                              14149 non-null  float64\n",
      " 52  rougher.state.floatbank10_a_air                     14148 non-null  float64\n",
      " 53  rougher.state.floatbank10_a_level                   14148 non-null  float64\n",
      " 54  rougher.state.floatbank10_b_air                     14148 non-null  float64\n",
      " 55  rougher.state.floatbank10_b_level                   14148 non-null  float64\n",
      " 56  rougher.state.floatbank10_c_air                     14148 non-null  float64\n",
      " 57  rougher.state.floatbank10_c_level                   14148 non-null  float64\n",
      " 58  rougher.state.floatbank10_d_air                     14149 non-null  float64\n",
      " 59  rougher.state.floatbank10_d_level                   14149 non-null  float64\n",
      " 60  rougher.state.floatbank10_e_air                     13713 non-null  float64\n",
      " 61  rougher.state.floatbank10_e_level                   14149 non-null  float64\n",
      " 62  rougher.state.floatbank10_f_air                     14149 non-null  float64\n",
      " 63  rougher.state.floatbank10_f_level                   14149 non-null  float64\n",
      " 64  secondary_cleaner.output.tail_ag                    14147 non-null  float64\n",
      " 65  secondary_cleaner.output.tail_pb                    14139 non-null  float64\n",
      " 66  secondary_cleaner.output.tail_sol                   12544 non-null  float64\n",
      " 67  secondary_cleaner.output.tail_au                    14149 non-null  float64\n",
      " 68  secondary_cleaner.state.floatbank2_a_air            13932 non-null  float64\n",
      " 69  secondary_cleaner.state.floatbank2_a_level          14148 non-null  float64\n",
      " 70  secondary_cleaner.state.floatbank2_b_air            14128 non-null  float64\n",
      " 71  secondary_cleaner.state.floatbank2_b_level          14148 non-null  float64\n",
      " 72  secondary_cleaner.state.floatbank3_a_air            14145 non-null  float64\n",
      " 73  secondary_cleaner.state.floatbank3_a_level          14148 non-null  float64\n",
      " 74  secondary_cleaner.state.floatbank3_b_air            14148 non-null  float64\n",
      " 75  secondary_cleaner.state.floatbank3_b_level          14148 non-null  float64\n",
      " 76  secondary_cleaner.state.floatbank4_a_air            14143 non-null  float64\n",
      " 77  secondary_cleaner.state.floatbank4_a_level          14148 non-null  float64\n",
      " 78  secondary_cleaner.state.floatbank4_b_air            14148 non-null  float64\n",
      " 79  secondary_cleaner.state.floatbank4_b_level          14148 non-null  float64\n",
      " 80  secondary_cleaner.state.floatbank5_a_air            14148 non-null  float64\n",
      " 81  secondary_cleaner.state.floatbank5_a_level          14148 non-null  float64\n",
      " 82  secondary_cleaner.state.floatbank5_b_air            14148 non-null  float64\n",
      " 83  secondary_cleaner.state.floatbank5_b_level          14148 non-null  float64\n",
      " 84  secondary_cleaner.state.floatbank6_a_air            14147 non-null  float64\n",
      " 85  secondary_cleaner.state.floatbank6_a_level          14148 non-null  float64\n",
      "dtypes: float64(86)\n",
      "memory usage: 9.4+ MB\n"
     ]
    }
   ],
   "source": [
    "gold_train.info()"
   ]
  },
  {
   "cell_type": "code",
   "execution_count": 6,
   "id": "a3ea4a36",
   "metadata": {
    "scrolled": true
   },
   "outputs": [
    {
     "data": {
      "text/html": [
       "<div>\n",
       "<style scoped>\n",
       "    .dataframe tbody tr th:only-of-type {\n",
       "        vertical-align: middle;\n",
       "    }\n",
       "\n",
       "    .dataframe tbody tr th {\n",
       "        vertical-align: top;\n",
       "    }\n",
       "\n",
       "    .dataframe thead th {\n",
       "        text-align: right;\n",
       "    }\n",
       "</style>\n",
       "<table border=\"1\" class=\"dataframe\">\n",
       "  <thead>\n",
       "    <tr style=\"text-align: right;\">\n",
       "      <th></th>\n",
       "      <th>primary_cleaner.input.sulfate</th>\n",
       "      <th>primary_cleaner.input.depressant</th>\n",
       "      <th>primary_cleaner.input.feed_size</th>\n",
       "      <th>primary_cleaner.input.xanthate</th>\n",
       "      <th>primary_cleaner.state.floatbank8_a_air</th>\n",
       "      <th>primary_cleaner.state.floatbank8_a_level</th>\n",
       "      <th>primary_cleaner.state.floatbank8_b_air</th>\n",
       "      <th>primary_cleaner.state.floatbank8_b_level</th>\n",
       "      <th>primary_cleaner.state.floatbank8_c_air</th>\n",
       "      <th>primary_cleaner.state.floatbank8_c_level</th>\n",
       "      <th>...</th>\n",
       "      <th>secondary_cleaner.state.floatbank4_a_air</th>\n",
       "      <th>secondary_cleaner.state.floatbank4_a_level</th>\n",
       "      <th>secondary_cleaner.state.floatbank4_b_air</th>\n",
       "      <th>secondary_cleaner.state.floatbank4_b_level</th>\n",
       "      <th>secondary_cleaner.state.floatbank5_a_air</th>\n",
       "      <th>secondary_cleaner.state.floatbank5_a_level</th>\n",
       "      <th>secondary_cleaner.state.floatbank5_b_air</th>\n",
       "      <th>secondary_cleaner.state.floatbank5_b_level</th>\n",
       "      <th>secondary_cleaner.state.floatbank6_a_air</th>\n",
       "      <th>secondary_cleaner.state.floatbank6_a_level</th>\n",
       "    </tr>\n",
       "    <tr>\n",
       "      <th>date</th>\n",
       "      <th></th>\n",
       "      <th></th>\n",
       "      <th></th>\n",
       "      <th></th>\n",
       "      <th></th>\n",
       "      <th></th>\n",
       "      <th></th>\n",
       "      <th></th>\n",
       "      <th></th>\n",
       "      <th></th>\n",
       "      <th></th>\n",
       "      <th></th>\n",
       "      <th></th>\n",
       "      <th></th>\n",
       "      <th></th>\n",
       "      <th></th>\n",
       "      <th></th>\n",
       "      <th></th>\n",
       "      <th></th>\n",
       "      <th></th>\n",
       "      <th></th>\n",
       "    </tr>\n",
       "  </thead>\n",
       "  <tbody>\n",
       "    <tr>\n",
       "      <th>2016-09-01 00:59:59</th>\n",
       "      <td>210.800909</td>\n",
       "      <td>14.993118</td>\n",
       "      <td>8.080000</td>\n",
       "      <td>1.005021</td>\n",
       "      <td>1398.981301</td>\n",
       "      <td>-500.225577</td>\n",
       "      <td>1399.144926</td>\n",
       "      <td>-499.919735</td>\n",
       "      <td>1400.102998</td>\n",
       "      <td>-500.704369</td>\n",
       "      <td>...</td>\n",
       "      <td>12.023554</td>\n",
       "      <td>-497.795834</td>\n",
       "      <td>8.016656</td>\n",
       "      <td>-501.289139</td>\n",
       "      <td>7.946562</td>\n",
       "      <td>-432.317850</td>\n",
       "      <td>4.872511</td>\n",
       "      <td>-500.037437</td>\n",
       "      <td>26.705889</td>\n",
       "      <td>-499.709414</td>\n",
       "    </tr>\n",
       "    <tr>\n",
       "      <th>2016-09-01 01:59:59</th>\n",
       "      <td>215.392455</td>\n",
       "      <td>14.987471</td>\n",
       "      <td>8.080000</td>\n",
       "      <td>0.990469</td>\n",
       "      <td>1398.777912</td>\n",
       "      <td>-500.057435</td>\n",
       "      <td>1398.055362</td>\n",
       "      <td>-499.778182</td>\n",
       "      <td>1396.151033</td>\n",
       "      <td>-499.240168</td>\n",
       "      <td>...</td>\n",
       "      <td>12.058140</td>\n",
       "      <td>-498.695773</td>\n",
       "      <td>8.130979</td>\n",
       "      <td>-499.634209</td>\n",
       "      <td>7.958270</td>\n",
       "      <td>-525.839648</td>\n",
       "      <td>4.878850</td>\n",
       "      <td>-500.162375</td>\n",
       "      <td>25.019940</td>\n",
       "      <td>-499.819438</td>\n",
       "    </tr>\n",
       "    <tr>\n",
       "      <th>2016-09-01 02:59:59</th>\n",
       "      <td>215.259946</td>\n",
       "      <td>12.884934</td>\n",
       "      <td>7.786667</td>\n",
       "      <td>0.996043</td>\n",
       "      <td>1398.493666</td>\n",
       "      <td>-500.868360</td>\n",
       "      <td>1398.860436</td>\n",
       "      <td>-499.764529</td>\n",
       "      <td>1398.075709</td>\n",
       "      <td>-502.151509</td>\n",
       "      <td>...</td>\n",
       "      <td>11.962366</td>\n",
       "      <td>-498.767484</td>\n",
       "      <td>8.096893</td>\n",
       "      <td>-500.827423</td>\n",
       "      <td>8.071056</td>\n",
       "      <td>-500.801673</td>\n",
       "      <td>4.905125</td>\n",
       "      <td>-499.828510</td>\n",
       "      <td>24.994862</td>\n",
       "      <td>-500.622559</td>\n",
       "    </tr>\n",
       "    <tr>\n",
       "      <th>2016-09-01 03:59:59</th>\n",
       "      <td>215.336236</td>\n",
       "      <td>12.006805</td>\n",
       "      <td>7.640000</td>\n",
       "      <td>0.863514</td>\n",
       "      <td>1399.618111</td>\n",
       "      <td>-498.863574</td>\n",
       "      <td>1397.440120</td>\n",
       "      <td>-499.211024</td>\n",
       "      <td>1400.129303</td>\n",
       "      <td>-498.355873</td>\n",
       "      <td>...</td>\n",
       "      <td>12.033091</td>\n",
       "      <td>-498.350935</td>\n",
       "      <td>8.074946</td>\n",
       "      <td>-499.474407</td>\n",
       "      <td>7.897085</td>\n",
       "      <td>-500.868509</td>\n",
       "      <td>4.931400</td>\n",
       "      <td>-499.963623</td>\n",
       "      <td>24.948919</td>\n",
       "      <td>-498.709987</td>\n",
       "    </tr>\n",
       "    <tr>\n",
       "      <th>2016-09-01 04:59:59</th>\n",
       "      <td>199.099327</td>\n",
       "      <td>10.682530</td>\n",
       "      <td>7.530000</td>\n",
       "      <td>0.805575</td>\n",
       "      <td>1401.268123</td>\n",
       "      <td>-500.808305</td>\n",
       "      <td>1398.128818</td>\n",
       "      <td>-499.504543</td>\n",
       "      <td>1402.172226</td>\n",
       "      <td>-500.810606</td>\n",
       "      <td>...</td>\n",
       "      <td>12.025367</td>\n",
       "      <td>-500.786497</td>\n",
       "      <td>8.054678</td>\n",
       "      <td>-500.397500</td>\n",
       "      <td>8.107890</td>\n",
       "      <td>-509.526725</td>\n",
       "      <td>4.957674</td>\n",
       "      <td>-500.360026</td>\n",
       "      <td>25.003331</td>\n",
       "      <td>-500.856333</td>\n",
       "    </tr>\n",
       "  </tbody>\n",
       "</table>\n",
       "<p>5 rows × 52 columns</p>\n",
       "</div>"
      ],
      "text/plain": [
       "                     primary_cleaner.input.sulfate  \\\n",
       "date                                                 \n",
       "2016-09-01 00:59:59                     210.800909   \n",
       "2016-09-01 01:59:59                     215.392455   \n",
       "2016-09-01 02:59:59                     215.259946   \n",
       "2016-09-01 03:59:59                     215.336236   \n",
       "2016-09-01 04:59:59                     199.099327   \n",
       "\n",
       "                     primary_cleaner.input.depressant  \\\n",
       "date                                                    \n",
       "2016-09-01 00:59:59                         14.993118   \n",
       "2016-09-01 01:59:59                         14.987471   \n",
       "2016-09-01 02:59:59                         12.884934   \n",
       "2016-09-01 03:59:59                         12.006805   \n",
       "2016-09-01 04:59:59                         10.682530   \n",
       "\n",
       "                     primary_cleaner.input.feed_size  \\\n",
       "date                                                   \n",
       "2016-09-01 00:59:59                         8.080000   \n",
       "2016-09-01 01:59:59                         8.080000   \n",
       "2016-09-01 02:59:59                         7.786667   \n",
       "2016-09-01 03:59:59                         7.640000   \n",
       "2016-09-01 04:59:59                         7.530000   \n",
       "\n",
       "                     primary_cleaner.input.xanthate  \\\n",
       "date                                                  \n",
       "2016-09-01 00:59:59                        1.005021   \n",
       "2016-09-01 01:59:59                        0.990469   \n",
       "2016-09-01 02:59:59                        0.996043   \n",
       "2016-09-01 03:59:59                        0.863514   \n",
       "2016-09-01 04:59:59                        0.805575   \n",
       "\n",
       "                     primary_cleaner.state.floatbank8_a_air  \\\n",
       "date                                                          \n",
       "2016-09-01 00:59:59                             1398.981301   \n",
       "2016-09-01 01:59:59                             1398.777912   \n",
       "2016-09-01 02:59:59                             1398.493666   \n",
       "2016-09-01 03:59:59                             1399.618111   \n",
       "2016-09-01 04:59:59                             1401.268123   \n",
       "\n",
       "                     primary_cleaner.state.floatbank8_a_level  \\\n",
       "date                                                            \n",
       "2016-09-01 00:59:59                               -500.225577   \n",
       "2016-09-01 01:59:59                               -500.057435   \n",
       "2016-09-01 02:59:59                               -500.868360   \n",
       "2016-09-01 03:59:59                               -498.863574   \n",
       "2016-09-01 04:59:59                               -500.808305   \n",
       "\n",
       "                     primary_cleaner.state.floatbank8_b_air  \\\n",
       "date                                                          \n",
       "2016-09-01 00:59:59                             1399.144926   \n",
       "2016-09-01 01:59:59                             1398.055362   \n",
       "2016-09-01 02:59:59                             1398.860436   \n",
       "2016-09-01 03:59:59                             1397.440120   \n",
       "2016-09-01 04:59:59                             1398.128818   \n",
       "\n",
       "                     primary_cleaner.state.floatbank8_b_level  \\\n",
       "date                                                            \n",
       "2016-09-01 00:59:59                               -499.919735   \n",
       "2016-09-01 01:59:59                               -499.778182   \n",
       "2016-09-01 02:59:59                               -499.764529   \n",
       "2016-09-01 03:59:59                               -499.211024   \n",
       "2016-09-01 04:59:59                               -499.504543   \n",
       "\n",
       "                     primary_cleaner.state.floatbank8_c_air  \\\n",
       "date                                                          \n",
       "2016-09-01 00:59:59                             1400.102998   \n",
       "2016-09-01 01:59:59                             1396.151033   \n",
       "2016-09-01 02:59:59                             1398.075709   \n",
       "2016-09-01 03:59:59                             1400.129303   \n",
       "2016-09-01 04:59:59                             1402.172226   \n",
       "\n",
       "                     primary_cleaner.state.floatbank8_c_level  ...  \\\n",
       "date                                                           ...   \n",
       "2016-09-01 00:59:59                               -500.704369  ...   \n",
       "2016-09-01 01:59:59                               -499.240168  ...   \n",
       "2016-09-01 02:59:59                               -502.151509  ...   \n",
       "2016-09-01 03:59:59                               -498.355873  ...   \n",
       "2016-09-01 04:59:59                               -500.810606  ...   \n",
       "\n",
       "                     secondary_cleaner.state.floatbank4_a_air  \\\n",
       "date                                                            \n",
       "2016-09-01 00:59:59                                 12.023554   \n",
       "2016-09-01 01:59:59                                 12.058140   \n",
       "2016-09-01 02:59:59                                 11.962366   \n",
       "2016-09-01 03:59:59                                 12.033091   \n",
       "2016-09-01 04:59:59                                 12.025367   \n",
       "\n",
       "                     secondary_cleaner.state.floatbank4_a_level  \\\n",
       "date                                                              \n",
       "2016-09-01 00:59:59                                 -497.795834   \n",
       "2016-09-01 01:59:59                                 -498.695773   \n",
       "2016-09-01 02:59:59                                 -498.767484   \n",
       "2016-09-01 03:59:59                                 -498.350935   \n",
       "2016-09-01 04:59:59                                 -500.786497   \n",
       "\n",
       "                     secondary_cleaner.state.floatbank4_b_air  \\\n",
       "date                                                            \n",
       "2016-09-01 00:59:59                                  8.016656   \n",
       "2016-09-01 01:59:59                                  8.130979   \n",
       "2016-09-01 02:59:59                                  8.096893   \n",
       "2016-09-01 03:59:59                                  8.074946   \n",
       "2016-09-01 04:59:59                                  8.054678   \n",
       "\n",
       "                     secondary_cleaner.state.floatbank4_b_level  \\\n",
       "date                                                              \n",
       "2016-09-01 00:59:59                                 -501.289139   \n",
       "2016-09-01 01:59:59                                 -499.634209   \n",
       "2016-09-01 02:59:59                                 -500.827423   \n",
       "2016-09-01 03:59:59                                 -499.474407   \n",
       "2016-09-01 04:59:59                                 -500.397500   \n",
       "\n",
       "                     secondary_cleaner.state.floatbank5_a_air  \\\n",
       "date                                                            \n",
       "2016-09-01 00:59:59                                  7.946562   \n",
       "2016-09-01 01:59:59                                  7.958270   \n",
       "2016-09-01 02:59:59                                  8.071056   \n",
       "2016-09-01 03:59:59                                  7.897085   \n",
       "2016-09-01 04:59:59                                  8.107890   \n",
       "\n",
       "                     secondary_cleaner.state.floatbank5_a_level  \\\n",
       "date                                                              \n",
       "2016-09-01 00:59:59                                 -432.317850   \n",
       "2016-09-01 01:59:59                                 -525.839648   \n",
       "2016-09-01 02:59:59                                 -500.801673   \n",
       "2016-09-01 03:59:59                                 -500.868509   \n",
       "2016-09-01 04:59:59                                 -509.526725   \n",
       "\n",
       "                     secondary_cleaner.state.floatbank5_b_air  \\\n",
       "date                                                            \n",
       "2016-09-01 00:59:59                                  4.872511   \n",
       "2016-09-01 01:59:59                                  4.878850   \n",
       "2016-09-01 02:59:59                                  4.905125   \n",
       "2016-09-01 03:59:59                                  4.931400   \n",
       "2016-09-01 04:59:59                                  4.957674   \n",
       "\n",
       "                     secondary_cleaner.state.floatbank5_b_level  \\\n",
       "date                                                              \n",
       "2016-09-01 00:59:59                                 -500.037437   \n",
       "2016-09-01 01:59:59                                 -500.162375   \n",
       "2016-09-01 02:59:59                                 -499.828510   \n",
       "2016-09-01 03:59:59                                 -499.963623   \n",
       "2016-09-01 04:59:59                                 -500.360026   \n",
       "\n",
       "                     secondary_cleaner.state.floatbank6_a_air  \\\n",
       "date                                                            \n",
       "2016-09-01 00:59:59                                 26.705889   \n",
       "2016-09-01 01:59:59                                 25.019940   \n",
       "2016-09-01 02:59:59                                 24.994862   \n",
       "2016-09-01 03:59:59                                 24.948919   \n",
       "2016-09-01 04:59:59                                 25.003331   \n",
       "\n",
       "                     secondary_cleaner.state.floatbank6_a_level  \n",
       "date                                                             \n",
       "2016-09-01 00:59:59                                 -499.709414  \n",
       "2016-09-01 01:59:59                                 -499.819438  \n",
       "2016-09-01 02:59:59                                 -500.622559  \n",
       "2016-09-01 03:59:59                                 -498.709987  \n",
       "2016-09-01 04:59:59                                 -500.856333  \n",
       "\n",
       "[5 rows x 52 columns]"
      ]
     },
     "execution_count": 6,
     "metadata": {},
     "output_type": "execute_result"
    }
   ],
   "source": [
    "gold_test.head()"
   ]
  },
  {
   "cell_type": "code",
   "execution_count": 7,
   "id": "a0094def",
   "metadata": {},
   "outputs": [
    {
     "name": "stdout",
     "output_type": "stream",
     "text": [
      "<class 'pandas.core.frame.DataFrame'>\n",
      "Index: 5290 entries, 2016-09-01 00:59:59 to 2017-12-31 23:59:59\n",
      "Data columns (total 52 columns):\n",
      " #   Column                                      Non-Null Count  Dtype  \n",
      "---  ------                                      --------------  -----  \n",
      " 0   primary_cleaner.input.sulfate               5286 non-null   float64\n",
      " 1   primary_cleaner.input.depressant            5285 non-null   float64\n",
      " 2   primary_cleaner.input.feed_size             5290 non-null   float64\n",
      " 3   primary_cleaner.input.xanthate              5286 non-null   float64\n",
      " 4   primary_cleaner.state.floatbank8_a_air      5290 non-null   float64\n",
      " 5   primary_cleaner.state.floatbank8_a_level    5290 non-null   float64\n",
      " 6   primary_cleaner.state.floatbank8_b_air      5290 non-null   float64\n",
      " 7   primary_cleaner.state.floatbank8_b_level    5290 non-null   float64\n",
      " 8   primary_cleaner.state.floatbank8_c_air      5290 non-null   float64\n",
      " 9   primary_cleaner.state.floatbank8_c_level    5290 non-null   float64\n",
      " 10  primary_cleaner.state.floatbank8_d_air      5290 non-null   float64\n",
      " 11  primary_cleaner.state.floatbank8_d_level    5290 non-null   float64\n",
      " 12  rougher.input.feed_ag                       5290 non-null   float64\n",
      " 13  rougher.input.feed_pb                       5290 non-null   float64\n",
      " 14  rougher.input.feed_rate                     5287 non-null   float64\n",
      " 15  rougher.input.feed_size                     5289 non-null   float64\n",
      " 16  rougher.input.feed_sol                      5269 non-null   float64\n",
      " 17  rougher.input.feed_au                       5290 non-null   float64\n",
      " 18  rougher.input.floatbank10_sulfate           5285 non-null   float64\n",
      " 19  rougher.input.floatbank10_xanthate          5290 non-null   float64\n",
      " 20  rougher.input.floatbank11_sulfate           5282 non-null   float64\n",
      " 21  rougher.input.floatbank11_xanthate          5265 non-null   float64\n",
      " 22  rougher.state.floatbank10_a_air             5290 non-null   float64\n",
      " 23  rougher.state.floatbank10_a_level           5290 non-null   float64\n",
      " 24  rougher.state.floatbank10_b_air             5290 non-null   float64\n",
      " 25  rougher.state.floatbank10_b_level           5290 non-null   float64\n",
      " 26  rougher.state.floatbank10_c_air             5290 non-null   float64\n",
      " 27  rougher.state.floatbank10_c_level           5290 non-null   float64\n",
      " 28  rougher.state.floatbank10_d_air             5290 non-null   float64\n",
      " 29  rougher.state.floatbank10_d_level           5290 non-null   float64\n",
      " 30  rougher.state.floatbank10_e_air             5290 non-null   float64\n",
      " 31  rougher.state.floatbank10_e_level           5290 non-null   float64\n",
      " 32  rougher.state.floatbank10_f_air             5290 non-null   float64\n",
      " 33  rougher.state.floatbank10_f_level           5290 non-null   float64\n",
      " 34  secondary_cleaner.state.floatbank2_a_air    5287 non-null   float64\n",
      " 35  secondary_cleaner.state.floatbank2_a_level  5290 non-null   float64\n",
      " 36  secondary_cleaner.state.floatbank2_b_air    5288 non-null   float64\n",
      " 37  secondary_cleaner.state.floatbank2_b_level  5290 non-null   float64\n",
      " 38  secondary_cleaner.state.floatbank3_a_air    5281 non-null   float64\n",
      " 39  secondary_cleaner.state.floatbank3_a_level  5290 non-null   float64\n",
      " 40  secondary_cleaner.state.floatbank3_b_air    5290 non-null   float64\n",
      " 41  secondary_cleaner.state.floatbank3_b_level  5290 non-null   float64\n",
      " 42  secondary_cleaner.state.floatbank4_a_air    5290 non-null   float64\n",
      " 43  secondary_cleaner.state.floatbank4_a_level  5290 non-null   float64\n",
      " 44  secondary_cleaner.state.floatbank4_b_air    5290 non-null   float64\n",
      " 45  secondary_cleaner.state.floatbank4_b_level  5290 non-null   float64\n",
      " 46  secondary_cleaner.state.floatbank5_a_air    5290 non-null   float64\n",
      " 47  secondary_cleaner.state.floatbank5_a_level  5290 non-null   float64\n",
      " 48  secondary_cleaner.state.floatbank5_b_air    5290 non-null   float64\n",
      " 49  secondary_cleaner.state.floatbank5_b_level  5290 non-null   float64\n",
      " 50  secondary_cleaner.state.floatbank6_a_air    5290 non-null   float64\n",
      " 51  secondary_cleaner.state.floatbank6_a_level  5290 non-null   float64\n",
      "dtypes: float64(52)\n",
      "memory usage: 2.1+ MB\n"
     ]
    }
   ],
   "source": [
    "gold_test.info()"
   ]
  },
  {
   "cell_type": "code",
   "execution_count": 8,
   "id": "9027d049",
   "metadata": {},
   "outputs": [
    {
     "data": {
      "text/html": [
       "<div>\n",
       "<style scoped>\n",
       "    .dataframe tbody tr th:only-of-type {\n",
       "        vertical-align: middle;\n",
       "    }\n",
       "\n",
       "    .dataframe tbody tr th {\n",
       "        vertical-align: top;\n",
       "    }\n",
       "\n",
       "    .dataframe thead th {\n",
       "        text-align: right;\n",
       "    }\n",
       "</style>\n",
       "<table border=\"1\" class=\"dataframe\">\n",
       "  <thead>\n",
       "    <tr style=\"text-align: right;\">\n",
       "      <th></th>\n",
       "      <th>final.output.concentrate_ag</th>\n",
       "      <th>final.output.concentrate_pb</th>\n",
       "      <th>final.output.concentrate_sol</th>\n",
       "      <th>final.output.concentrate_au</th>\n",
       "      <th>final.output.recovery</th>\n",
       "      <th>final.output.tail_ag</th>\n",
       "      <th>final.output.tail_pb</th>\n",
       "      <th>final.output.tail_sol</th>\n",
       "      <th>final.output.tail_au</th>\n",
       "      <th>primary_cleaner.input.sulfate</th>\n",
       "      <th>...</th>\n",
       "      <th>secondary_cleaner.state.floatbank4_a_air</th>\n",
       "      <th>secondary_cleaner.state.floatbank4_a_level</th>\n",
       "      <th>secondary_cleaner.state.floatbank4_b_air</th>\n",
       "      <th>secondary_cleaner.state.floatbank4_b_level</th>\n",
       "      <th>secondary_cleaner.state.floatbank5_a_air</th>\n",
       "      <th>secondary_cleaner.state.floatbank5_a_level</th>\n",
       "      <th>secondary_cleaner.state.floatbank5_b_air</th>\n",
       "      <th>secondary_cleaner.state.floatbank5_b_level</th>\n",
       "      <th>secondary_cleaner.state.floatbank6_a_air</th>\n",
       "      <th>secondary_cleaner.state.floatbank6_a_level</th>\n",
       "    </tr>\n",
       "    <tr>\n",
       "      <th>date</th>\n",
       "      <th></th>\n",
       "      <th></th>\n",
       "      <th></th>\n",
       "      <th></th>\n",
       "      <th></th>\n",
       "      <th></th>\n",
       "      <th></th>\n",
       "      <th></th>\n",
       "      <th></th>\n",
       "      <th></th>\n",
       "      <th></th>\n",
       "      <th></th>\n",
       "      <th></th>\n",
       "      <th></th>\n",
       "      <th></th>\n",
       "      <th></th>\n",
       "      <th></th>\n",
       "      <th></th>\n",
       "      <th></th>\n",
       "      <th></th>\n",
       "      <th></th>\n",
       "    </tr>\n",
       "  </thead>\n",
       "  <tbody>\n",
       "    <tr>\n",
       "      <th>2016-01-15 00:00:00</th>\n",
       "      <td>6.055403</td>\n",
       "      <td>9.889648</td>\n",
       "      <td>5.507324</td>\n",
       "      <td>42.192020</td>\n",
       "      <td>70.541216</td>\n",
       "      <td>10.411962</td>\n",
       "      <td>0.895447</td>\n",
       "      <td>16.904297</td>\n",
       "      <td>2.143149</td>\n",
       "      <td>127.092003</td>\n",
       "      <td>...</td>\n",
       "      <td>14.016835</td>\n",
       "      <td>-502.488007</td>\n",
       "      <td>12.099931</td>\n",
       "      <td>-504.715942</td>\n",
       "      <td>9.925633</td>\n",
       "      <td>-498.310211</td>\n",
       "      <td>8.079666</td>\n",
       "      <td>-500.470978</td>\n",
       "      <td>14.151341</td>\n",
       "      <td>-605.841980</td>\n",
       "    </tr>\n",
       "    <tr>\n",
       "      <th>2016-01-15 01:00:00</th>\n",
       "      <td>6.029369</td>\n",
       "      <td>9.968944</td>\n",
       "      <td>5.257781</td>\n",
       "      <td>42.701629</td>\n",
       "      <td>69.266198</td>\n",
       "      <td>10.462676</td>\n",
       "      <td>0.927452</td>\n",
       "      <td>16.634514</td>\n",
       "      <td>2.224930</td>\n",
       "      <td>125.629232</td>\n",
       "      <td>...</td>\n",
       "      <td>13.992281</td>\n",
       "      <td>-505.503262</td>\n",
       "      <td>11.950531</td>\n",
       "      <td>-501.331529</td>\n",
       "      <td>10.039245</td>\n",
       "      <td>-500.169983</td>\n",
       "      <td>7.984757</td>\n",
       "      <td>-500.582168</td>\n",
       "      <td>13.998353</td>\n",
       "      <td>-599.787184</td>\n",
       "    </tr>\n",
       "    <tr>\n",
       "      <th>2016-01-15 02:00:00</th>\n",
       "      <td>6.055926</td>\n",
       "      <td>10.213995</td>\n",
       "      <td>5.383759</td>\n",
       "      <td>42.657501</td>\n",
       "      <td>68.116445</td>\n",
       "      <td>10.507046</td>\n",
       "      <td>0.953716</td>\n",
       "      <td>16.208849</td>\n",
       "      <td>2.257889</td>\n",
       "      <td>123.819808</td>\n",
       "      <td>...</td>\n",
       "      <td>14.015015</td>\n",
       "      <td>-502.520901</td>\n",
       "      <td>11.912783</td>\n",
       "      <td>-501.133383</td>\n",
       "      <td>10.070913</td>\n",
       "      <td>-500.129135</td>\n",
       "      <td>8.013877</td>\n",
       "      <td>-500.517572</td>\n",
       "      <td>14.028663</td>\n",
       "      <td>-601.427363</td>\n",
       "    </tr>\n",
       "    <tr>\n",
       "      <th>2016-01-15 03:00:00</th>\n",
       "      <td>6.047977</td>\n",
       "      <td>9.977019</td>\n",
       "      <td>4.858634</td>\n",
       "      <td>42.689819</td>\n",
       "      <td>68.347543</td>\n",
       "      <td>10.422762</td>\n",
       "      <td>0.883763</td>\n",
       "      <td>16.532835</td>\n",
       "      <td>2.146849</td>\n",
       "      <td>122.270188</td>\n",
       "      <td>...</td>\n",
       "      <td>14.036510</td>\n",
       "      <td>-500.857308</td>\n",
       "      <td>11.999550</td>\n",
       "      <td>-501.193686</td>\n",
       "      <td>9.970366</td>\n",
       "      <td>-499.201640</td>\n",
       "      <td>7.977324</td>\n",
       "      <td>-500.255908</td>\n",
       "      <td>14.005551</td>\n",
       "      <td>-599.996129</td>\n",
       "    </tr>\n",
       "    <tr>\n",
       "      <th>2016-01-15 04:00:00</th>\n",
       "      <td>6.148599</td>\n",
       "      <td>10.142511</td>\n",
       "      <td>4.939416</td>\n",
       "      <td>42.774141</td>\n",
       "      <td>66.927016</td>\n",
       "      <td>10.360302</td>\n",
       "      <td>0.792826</td>\n",
       "      <td>16.525686</td>\n",
       "      <td>2.055292</td>\n",
       "      <td>117.988169</td>\n",
       "      <td>...</td>\n",
       "      <td>14.027298</td>\n",
       "      <td>-499.838632</td>\n",
       "      <td>11.953070</td>\n",
       "      <td>-501.053894</td>\n",
       "      <td>9.925709</td>\n",
       "      <td>-501.686727</td>\n",
       "      <td>7.894242</td>\n",
       "      <td>-500.356035</td>\n",
       "      <td>13.996647</td>\n",
       "      <td>-601.496691</td>\n",
       "    </tr>\n",
       "  </tbody>\n",
       "</table>\n",
       "<p>5 rows × 86 columns</p>\n",
       "</div>"
      ],
      "text/plain": [
       "                     final.output.concentrate_ag  final.output.concentrate_pb  \\\n",
       "date                                                                            \n",
       "2016-01-15 00:00:00                     6.055403                     9.889648   \n",
       "2016-01-15 01:00:00                     6.029369                     9.968944   \n",
       "2016-01-15 02:00:00                     6.055926                    10.213995   \n",
       "2016-01-15 03:00:00                     6.047977                     9.977019   \n",
       "2016-01-15 04:00:00                     6.148599                    10.142511   \n",
       "\n",
       "                     final.output.concentrate_sol  \\\n",
       "date                                                \n",
       "2016-01-15 00:00:00                      5.507324   \n",
       "2016-01-15 01:00:00                      5.257781   \n",
       "2016-01-15 02:00:00                      5.383759   \n",
       "2016-01-15 03:00:00                      4.858634   \n",
       "2016-01-15 04:00:00                      4.939416   \n",
       "\n",
       "                     final.output.concentrate_au  final.output.recovery  \\\n",
       "date                                                                      \n",
       "2016-01-15 00:00:00                    42.192020              70.541216   \n",
       "2016-01-15 01:00:00                    42.701629              69.266198   \n",
       "2016-01-15 02:00:00                    42.657501              68.116445   \n",
       "2016-01-15 03:00:00                    42.689819              68.347543   \n",
       "2016-01-15 04:00:00                    42.774141              66.927016   \n",
       "\n",
       "                     final.output.tail_ag  final.output.tail_pb  \\\n",
       "date                                                              \n",
       "2016-01-15 00:00:00             10.411962              0.895447   \n",
       "2016-01-15 01:00:00             10.462676              0.927452   \n",
       "2016-01-15 02:00:00             10.507046              0.953716   \n",
       "2016-01-15 03:00:00             10.422762              0.883763   \n",
       "2016-01-15 04:00:00             10.360302              0.792826   \n",
       "\n",
       "                     final.output.tail_sol  final.output.tail_au  \\\n",
       "date                                                               \n",
       "2016-01-15 00:00:00              16.904297              2.143149   \n",
       "2016-01-15 01:00:00              16.634514              2.224930   \n",
       "2016-01-15 02:00:00              16.208849              2.257889   \n",
       "2016-01-15 03:00:00              16.532835              2.146849   \n",
       "2016-01-15 04:00:00              16.525686              2.055292   \n",
       "\n",
       "                     primary_cleaner.input.sulfate  ...  \\\n",
       "date                                                ...   \n",
       "2016-01-15 00:00:00                     127.092003  ...   \n",
       "2016-01-15 01:00:00                     125.629232  ...   \n",
       "2016-01-15 02:00:00                     123.819808  ...   \n",
       "2016-01-15 03:00:00                     122.270188  ...   \n",
       "2016-01-15 04:00:00                     117.988169  ...   \n",
       "\n",
       "                     secondary_cleaner.state.floatbank4_a_air  \\\n",
       "date                                                            \n",
       "2016-01-15 00:00:00                                 14.016835   \n",
       "2016-01-15 01:00:00                                 13.992281   \n",
       "2016-01-15 02:00:00                                 14.015015   \n",
       "2016-01-15 03:00:00                                 14.036510   \n",
       "2016-01-15 04:00:00                                 14.027298   \n",
       "\n",
       "                     secondary_cleaner.state.floatbank4_a_level  \\\n",
       "date                                                              \n",
       "2016-01-15 00:00:00                                 -502.488007   \n",
       "2016-01-15 01:00:00                                 -505.503262   \n",
       "2016-01-15 02:00:00                                 -502.520901   \n",
       "2016-01-15 03:00:00                                 -500.857308   \n",
       "2016-01-15 04:00:00                                 -499.838632   \n",
       "\n",
       "                     secondary_cleaner.state.floatbank4_b_air  \\\n",
       "date                                                            \n",
       "2016-01-15 00:00:00                                 12.099931   \n",
       "2016-01-15 01:00:00                                 11.950531   \n",
       "2016-01-15 02:00:00                                 11.912783   \n",
       "2016-01-15 03:00:00                                 11.999550   \n",
       "2016-01-15 04:00:00                                 11.953070   \n",
       "\n",
       "                     secondary_cleaner.state.floatbank4_b_level  \\\n",
       "date                                                              \n",
       "2016-01-15 00:00:00                                 -504.715942   \n",
       "2016-01-15 01:00:00                                 -501.331529   \n",
       "2016-01-15 02:00:00                                 -501.133383   \n",
       "2016-01-15 03:00:00                                 -501.193686   \n",
       "2016-01-15 04:00:00                                 -501.053894   \n",
       "\n",
       "                     secondary_cleaner.state.floatbank5_a_air  \\\n",
       "date                                                            \n",
       "2016-01-15 00:00:00                                  9.925633   \n",
       "2016-01-15 01:00:00                                 10.039245   \n",
       "2016-01-15 02:00:00                                 10.070913   \n",
       "2016-01-15 03:00:00                                  9.970366   \n",
       "2016-01-15 04:00:00                                  9.925709   \n",
       "\n",
       "                     secondary_cleaner.state.floatbank5_a_level  \\\n",
       "date                                                              \n",
       "2016-01-15 00:00:00                                 -498.310211   \n",
       "2016-01-15 01:00:00                                 -500.169983   \n",
       "2016-01-15 02:00:00                                 -500.129135   \n",
       "2016-01-15 03:00:00                                 -499.201640   \n",
       "2016-01-15 04:00:00                                 -501.686727   \n",
       "\n",
       "                     secondary_cleaner.state.floatbank5_b_air  \\\n",
       "date                                                            \n",
       "2016-01-15 00:00:00                                  8.079666   \n",
       "2016-01-15 01:00:00                                  7.984757   \n",
       "2016-01-15 02:00:00                                  8.013877   \n",
       "2016-01-15 03:00:00                                  7.977324   \n",
       "2016-01-15 04:00:00                                  7.894242   \n",
       "\n",
       "                     secondary_cleaner.state.floatbank5_b_level  \\\n",
       "date                                                              \n",
       "2016-01-15 00:00:00                                 -500.470978   \n",
       "2016-01-15 01:00:00                                 -500.582168   \n",
       "2016-01-15 02:00:00                                 -500.517572   \n",
       "2016-01-15 03:00:00                                 -500.255908   \n",
       "2016-01-15 04:00:00                                 -500.356035   \n",
       "\n",
       "                     secondary_cleaner.state.floatbank6_a_air  \\\n",
       "date                                                            \n",
       "2016-01-15 00:00:00                                 14.151341   \n",
       "2016-01-15 01:00:00                                 13.998353   \n",
       "2016-01-15 02:00:00                                 14.028663   \n",
       "2016-01-15 03:00:00                                 14.005551   \n",
       "2016-01-15 04:00:00                                 13.996647   \n",
       "\n",
       "                     secondary_cleaner.state.floatbank6_a_level  \n",
       "date                                                             \n",
       "2016-01-15 00:00:00                                 -605.841980  \n",
       "2016-01-15 01:00:00                                 -599.787184  \n",
       "2016-01-15 02:00:00                                 -601.427363  \n",
       "2016-01-15 03:00:00                                 -599.996129  \n",
       "2016-01-15 04:00:00                                 -601.496691  \n",
       "\n",
       "[5 rows x 86 columns]"
      ]
     },
     "execution_count": 8,
     "metadata": {},
     "output_type": "execute_result"
    }
   ],
   "source": [
    "gold_full.head()"
   ]
  },
  {
   "cell_type": "code",
   "execution_count": 9,
   "id": "79ab0677",
   "metadata": {},
   "outputs": [
    {
     "name": "stdout",
     "output_type": "stream",
     "text": [
      "<class 'pandas.core.frame.DataFrame'>\n",
      "Index: 19439 entries, 2016-01-15 00:00:00 to 2018-08-18 10:59:59\n",
      "Data columns (total 86 columns):\n",
      " #   Column                                              Non-Null Count  Dtype  \n",
      "---  ------                                              --------------  -----  \n",
      " 0   final.output.concentrate_ag                         19438 non-null  float64\n",
      " 1   final.output.concentrate_pb                         19438 non-null  float64\n",
      " 2   final.output.concentrate_sol                        19228 non-null  float64\n",
      " 3   final.output.concentrate_au                         19439 non-null  float64\n",
      " 4   final.output.recovery                               19439 non-null  float64\n",
      " 5   final.output.tail_ag                                19438 non-null  float64\n",
      " 6   final.output.tail_pb                                19338 non-null  float64\n",
      " 7   final.output.tail_sol                               19433 non-null  float64\n",
      " 8   final.output.tail_au                                19439 non-null  float64\n",
      " 9   primary_cleaner.input.sulfate                       19415 non-null  float64\n",
      " 10  primary_cleaner.input.depressant                    19402 non-null  float64\n",
      " 11  primary_cleaner.input.feed_size                     19439 non-null  float64\n",
      " 12  primary_cleaner.input.xanthate                      19335 non-null  float64\n",
      " 13  primary_cleaner.output.concentrate_ag               19439 non-null  float64\n",
      " 14  primary_cleaner.output.concentrate_pb               19323 non-null  float64\n",
      " 15  primary_cleaner.output.concentrate_sol              19069 non-null  float64\n",
      " 16  primary_cleaner.output.concentrate_au               19439 non-null  float64\n",
      " 17  primary_cleaner.output.tail_ag                      19435 non-null  float64\n",
      " 18  primary_cleaner.output.tail_pb                      19418 non-null  float64\n",
      " 19  primary_cleaner.output.tail_sol                     19377 non-null  float64\n",
      " 20  primary_cleaner.output.tail_au                      19439 non-null  float64\n",
      " 21  primary_cleaner.state.floatbank8_a_air              19435 non-null  float64\n",
      " 22  primary_cleaner.state.floatbank8_a_level            19438 non-null  float64\n",
      " 23  primary_cleaner.state.floatbank8_b_air              19435 non-null  float64\n",
      " 24  primary_cleaner.state.floatbank8_b_level            19438 non-null  float64\n",
      " 25  primary_cleaner.state.floatbank8_c_air              19437 non-null  float64\n",
      " 26  primary_cleaner.state.floatbank8_c_level            19438 non-null  float64\n",
      " 27  primary_cleaner.state.floatbank8_d_air              19436 non-null  float64\n",
      " 28  primary_cleaner.state.floatbank8_d_level            19438 non-null  float64\n",
      " 29  rougher.calculation.sulfate_to_au_concentrate       19437 non-null  float64\n",
      " 30  rougher.calculation.floatbank10_sulfate_to_au_feed  19437 non-null  float64\n",
      " 31  rougher.calculation.floatbank11_sulfate_to_au_feed  19437 non-null  float64\n",
      " 32  rougher.calculation.au_pb_ratio                     19439 non-null  float64\n",
      " 33  rougher.input.feed_ag                               19439 non-null  float64\n",
      " 34  rougher.input.feed_pb                               19339 non-null  float64\n",
      " 35  rougher.input.feed_rate                             19428 non-null  float64\n",
      " 36  rougher.input.feed_size                             19294 non-null  float64\n",
      " 37  rougher.input.feed_sol                              19340 non-null  float64\n",
      " 38  rougher.input.feed_au                               19439 non-null  float64\n",
      " 39  rougher.input.floatbank10_sulfate                   19405 non-null  float64\n",
      " 40  rougher.input.floatbank10_xanthate                  19431 non-null  float64\n",
      " 41  rougher.input.floatbank11_sulfate                   19395 non-null  float64\n",
      " 42  rougher.input.floatbank11_xanthate                  18986 non-null  float64\n",
      " 43  rougher.output.concentrate_ag                       19439 non-null  float64\n",
      " 44  rougher.output.concentrate_pb                       19439 non-null  float64\n",
      " 45  rougher.output.concentrate_sol                      19416 non-null  float64\n",
      " 46  rougher.output.concentrate_au                       19439 non-null  float64\n",
      " 47  rougher.output.recovery                             19439 non-null  float64\n",
      " 48  rougher.output.tail_ag                              19438 non-null  float64\n",
      " 49  rougher.output.tail_pb                              19439 non-null  float64\n",
      " 50  rougher.output.tail_sol                             19439 non-null  float64\n",
      " 51  rougher.output.tail_au                              19439 non-null  float64\n",
      " 52  rougher.state.floatbank10_a_air                     19438 non-null  float64\n",
      " 53  rougher.state.floatbank10_a_level                   19438 non-null  float64\n",
      " 54  rougher.state.floatbank10_b_air                     19438 non-null  float64\n",
      " 55  rougher.state.floatbank10_b_level                   19438 non-null  float64\n",
      " 56  rougher.state.floatbank10_c_air                     19438 non-null  float64\n",
      " 57  rougher.state.floatbank10_c_level                   19438 non-null  float64\n",
      " 58  rougher.state.floatbank10_d_air                     19439 non-null  float64\n",
      " 59  rougher.state.floatbank10_d_level                   19439 non-null  float64\n",
      " 60  rougher.state.floatbank10_e_air                     19003 non-null  float64\n",
      " 61  rougher.state.floatbank10_e_level                   19439 non-null  float64\n",
      " 62  rougher.state.floatbank10_f_air                     19439 non-null  float64\n",
      " 63  rougher.state.floatbank10_f_level                   19439 non-null  float64\n",
      " 64  secondary_cleaner.output.tail_ag                    19437 non-null  float64\n",
      " 65  secondary_cleaner.output.tail_pb                    19427 non-null  float64\n",
      " 66  secondary_cleaner.output.tail_sol                   17691 non-null  float64\n",
      " 67  secondary_cleaner.output.tail_au                    19439 non-null  float64\n",
      " 68  secondary_cleaner.state.floatbank2_a_air            19219 non-null  float64\n",
      " 69  secondary_cleaner.state.floatbank2_a_level          19438 non-null  float64\n",
      " 70  secondary_cleaner.state.floatbank2_b_air            19416 non-null  float64\n",
      " 71  secondary_cleaner.state.floatbank2_b_level          19438 non-null  float64\n",
      " 72  secondary_cleaner.state.floatbank3_a_air            19426 non-null  float64\n",
      " 73  secondary_cleaner.state.floatbank3_a_level          19438 non-null  float64\n",
      " 74  secondary_cleaner.state.floatbank3_b_air            19438 non-null  float64\n",
      " 75  secondary_cleaner.state.floatbank3_b_level          19438 non-null  float64\n",
      " 76  secondary_cleaner.state.floatbank4_a_air            19433 non-null  float64\n",
      " 77  secondary_cleaner.state.floatbank4_a_level          19438 non-null  float64\n",
      " 78  secondary_cleaner.state.floatbank4_b_air            19438 non-null  float64\n",
      " 79  secondary_cleaner.state.floatbank4_b_level          19438 non-null  float64\n",
      " 80  secondary_cleaner.state.floatbank5_a_air            19438 non-null  float64\n",
      " 81  secondary_cleaner.state.floatbank5_a_level          19438 non-null  float64\n",
      " 82  secondary_cleaner.state.floatbank5_b_air            19438 non-null  float64\n",
      " 83  secondary_cleaner.state.floatbank5_b_level          19438 non-null  float64\n",
      " 84  secondary_cleaner.state.floatbank6_a_air            19437 non-null  float64\n",
      " 85  secondary_cleaner.state.floatbank6_a_level          19438 non-null  float64\n",
      "dtypes: float64(86)\n",
      "memory usage: 12.9+ MB\n"
     ]
    }
   ],
   "source": [
    "gold_full.info()"
   ]
  },
  {
   "cell_type": "markdown",
   "id": "aa31d534",
   "metadata": {},
   "source": [
    "<font color='blue'><b>Комментарий ревьюера: </b></font> ✔️\\\n",
    "<font color='green'>Данные загружены корректно, первичный осмотр проведен.</font>"
   ]
  },
  {
   "cell_type": "markdown",
   "id": "aa10c19e",
   "metadata": {},
   "source": [
    "**Проверим корректность расчета эффективности обогащения, вычислите её на обучающей выборке для признака rougher.output.recovery. Найдем MAE между нашими расчётами и значением признака**"
   ]
  },
  {
   "cell_type": "code",
   "execution_count": 10,
   "id": "3649a75d",
   "metadata": {},
   "outputs": [],
   "source": [
    "C = gold_train[\"rougher.output.concentrate_au\"]\n",
    "F = gold_train[\"rougher.input.feed_au\"]\n",
    "T = gold_train[\"rougher.output.tail_au\"]"
   ]
  },
  {
   "cell_type": "code",
   "execution_count": 11,
   "id": "52fb9ee2",
   "metadata": {},
   "outputs": [],
   "source": [
    "gold_train[\"rougher.output.recovery.calculated\"] = (C * (F - T)) / (F * (C - T)) * 100"
   ]
  },
  {
   "cell_type": "markdown",
   "id": "c99a3e39",
   "metadata": {},
   "source": [
    "<font color='blue'><b>Комментарий ревьюера: </b></font> ✔️\\\n",
    "<font color='green'>Расчёт верный!</font>"
   ]
  },
  {
   "cell_type": "code",
   "execution_count": 12,
   "id": "b5338441",
   "metadata": {},
   "outputs": [
    {
     "name": "stdout",
     "output_type": "stream",
     "text": [
      "MAE : 9.73512347450521e-15\n"
     ]
    }
   ],
   "source": [
    "mae = (gold_train[\"rougher.output.recovery.calculated\"] - gold_train[\"rougher.output.recovery\"]).abs().sum() / len(gold_train)\n",
    "print(\"MAE\", \":\", mae)"
   ]
  },
  {
   "cell_type": "code",
   "execution_count": 13,
   "id": "48af34c1",
   "metadata": {},
   "outputs": [],
   "source": [
    "gold_train = gold_train.drop(\"rougher.output.recovery.calculated\", axis= 1)"
   ]
  },
  {
   "cell_type": "markdown",
   "id": "dcd09114",
   "metadata": {},
   "source": [
    "**Показатель MAE очень мал, из чего можно сделать вывод, что расчеты верны.**"
   ]
  },
  {
   "cell_type": "markdown",
   "id": "d47e1a58",
   "metadata": {},
   "source": [
    "<font color='blue'><b>Комментарий ревьюера: </b></font> ✔️\\\n",
    "<font color='green'>👍</font>"
   ]
  },
  {
   "cell_type": "markdown",
   "id": "19b3ab22",
   "metadata": {},
   "source": [
    "**Проанализируем признаки, недоступные в тестовой выборке. Выясним, что это за параметры и к какому типу относятся?**"
   ]
  },
  {
   "cell_type": "code",
   "execution_count": 14,
   "id": "faaa2d83",
   "metadata": {},
   "outputs": [
    {
     "data": {
      "text/plain": [
       "{'final.output.concentrate_ag',\n",
       " 'final.output.concentrate_au',\n",
       " 'final.output.concentrate_pb',\n",
       " 'final.output.concentrate_sol',\n",
       " 'final.output.recovery',\n",
       " 'final.output.tail_ag',\n",
       " 'final.output.tail_au',\n",
       " 'final.output.tail_pb',\n",
       " 'final.output.tail_sol',\n",
       " 'primary_cleaner.output.concentrate_ag',\n",
       " 'primary_cleaner.output.concentrate_au',\n",
       " 'primary_cleaner.output.concentrate_pb',\n",
       " 'primary_cleaner.output.concentrate_sol',\n",
       " 'primary_cleaner.output.tail_ag',\n",
       " 'primary_cleaner.output.tail_au',\n",
       " 'primary_cleaner.output.tail_pb',\n",
       " 'primary_cleaner.output.tail_sol',\n",
       " 'rougher.calculation.au_pb_ratio',\n",
       " 'rougher.calculation.floatbank10_sulfate_to_au_feed',\n",
       " 'rougher.calculation.floatbank11_sulfate_to_au_feed',\n",
       " 'rougher.calculation.sulfate_to_au_concentrate',\n",
       " 'rougher.output.concentrate_ag',\n",
       " 'rougher.output.concentrate_au',\n",
       " 'rougher.output.concentrate_pb',\n",
       " 'rougher.output.concentrate_sol',\n",
       " 'rougher.output.recovery',\n",
       " 'rougher.output.tail_ag',\n",
       " 'rougher.output.tail_au',\n",
       " 'rougher.output.tail_pb',\n",
       " 'rougher.output.tail_sol',\n",
       " 'secondary_cleaner.output.tail_ag',\n",
       " 'secondary_cleaner.output.tail_au',\n",
       " 'secondary_cleaner.output.tail_pb',\n",
       " 'secondary_cleaner.output.tail_sol'}"
      ]
     },
     "execution_count": 14,
     "metadata": {},
     "output_type": "execute_result"
    }
   ],
   "source": [
    "no_need = set(gold_train.columns)-set(gold_test.columns)\n",
    "no_need"
   ]
  },
  {
   "cell_type": "markdown",
   "id": "6efdde9b",
   "metadata": {},
   "source": [
    "**Полученные параметры являются результатами степени обработки металлов на разных этапах. Тестовая выборка содержит в себе результаты до начала обработки.**"
   ]
  },
  {
   "cell_type": "markdown",
   "id": "5c024fc8",
   "metadata": {},
   "source": [
    "<font color='blue'><b>Комментарий ревьюера: </b></font> ✔️\\\n",
    "<font color='green'> Верно!</font>"
   ]
  },
  {
   "cell_type": "markdown",
   "id": "2e794902",
   "metadata": {},
   "source": [
    "**Проведем предобработку данных.**"
   ]
  },
  {
   "cell_type": "code",
   "execution_count": 15,
   "id": "21102da6",
   "metadata": {},
   "outputs": [
    {
     "data": {
      "text/plain": [
       "0"
      ]
     },
     "metadata": {},
     "output_type": "display_data"
    }
   ],
   "source": [
    "display(gold_test.duplicated().sum())"
   ]
  },
  {
   "cell_type": "code",
   "execution_count": 16,
   "id": "eafdb36b",
   "metadata": {},
   "outputs": [
    {
     "data": {
      "text/plain": [
       "0"
      ]
     },
     "metadata": {},
     "output_type": "display_data"
    }
   ],
   "source": [
    "display(gold_train.duplicated().sum())"
   ]
  },
  {
   "cell_type": "code",
   "execution_count": 17,
   "id": "b4270817",
   "metadata": {},
   "outputs": [
    {
     "data": {
      "text/plain": [
       "0"
      ]
     },
     "metadata": {},
     "output_type": "display_data"
    }
   ],
   "source": [
    "display(gold_full.duplicated().sum())"
   ]
  },
  {
   "cell_type": "code",
   "execution_count": 18,
   "id": "5a6e3691",
   "metadata": {},
   "outputs": [
    {
     "data": {
      "text/plain": [
       "primary_cleaner.input.sulfate                4\n",
       "primary_cleaner.input.depressant             5\n",
       "primary_cleaner.input.xanthate               4\n",
       "rougher.input.feed_rate                      3\n",
       "rougher.input.feed_size                      1\n",
       "rougher.input.feed_sol                      21\n",
       "rougher.input.floatbank10_sulfate            5\n",
       "rougher.input.floatbank11_sulfate            8\n",
       "rougher.input.floatbank11_xanthate          25\n",
       "secondary_cleaner.state.floatbank2_a_air     3\n",
       "secondary_cleaner.state.floatbank2_b_air     2\n",
       "secondary_cleaner.state.floatbank3_a_air     9\n",
       "dtype: int64"
      ]
     },
     "metadata": {},
     "output_type": "display_data"
    }
   ],
   "source": [
    "display(gold_test.isna().sum()[gold_test.isna().sum() > 0])"
   ]
  },
  {
   "cell_type": "code",
   "execution_count": 19,
   "id": "a444ac33",
   "metadata": {},
   "outputs": [
    {
     "data": {
      "text/plain": [
       "final.output.concentrate_ag                     1\n",
       "final.output.concentrate_pb                     1\n",
       "final.output.concentrate_sol                  211\n",
       "final.output.tail_pb                          100\n",
       "final.output.tail_sol                           5\n",
       "                                             ... \n",
       "secondary_cleaner.state.floatbank5_a_level      1\n",
       "secondary_cleaner.state.floatbank5_b_air        1\n",
       "secondary_cleaner.state.floatbank5_b_level      1\n",
       "secondary_cleaner.state.floatbank6_a_air        2\n",
       "secondary_cleaner.state.floatbank6_a_level      1\n",
       "Length: 62, dtype: int64"
      ]
     },
     "metadata": {},
     "output_type": "display_data"
    }
   ],
   "source": [
    "display(gold_train.isna().sum()[gold_train.isna().sum() > 0])"
   ]
  },
  {
   "cell_type": "code",
   "execution_count": 20,
   "id": "542e346c",
   "metadata": {},
   "outputs": [
    {
     "data": {
      "text/plain": [
       "final.output.concentrate_ag                     1\n",
       "final.output.concentrate_pb                     1\n",
       "final.output.concentrate_sol                  211\n",
       "final.output.tail_ag                            1\n",
       "final.output.tail_pb                          101\n",
       "                                             ... \n",
       "secondary_cleaner.state.floatbank5_a_level      1\n",
       "secondary_cleaner.state.floatbank5_b_air        1\n",
       "secondary_cleaner.state.floatbank5_b_level      1\n",
       "secondary_cleaner.state.floatbank6_a_air        2\n",
       "secondary_cleaner.state.floatbank6_a_level      1\n",
       "Length: 63, dtype: int64"
      ]
     },
     "metadata": {},
     "output_type": "display_data"
    }
   ],
   "source": [
    "display(gold_full.isna().sum()[gold_full.isna().sum() > 0])"
   ]
  },
  {
   "cell_type": "code",
   "execution_count": 21,
   "id": "25a0bf2a",
   "metadata": {},
   "outputs": [
    {
     "data": {
      "text/plain": [
       "primary_cleaner.input.sulfate                  4\n",
       "primary_cleaner.input.depressant               5\n",
       "primary_cleaner.input.feed_size                0\n",
       "primary_cleaner.input.xanthate                 4\n",
       "primary_cleaner.state.floatbank8_a_air         0\n",
       "primary_cleaner.state.floatbank8_a_level       0\n",
       "primary_cleaner.state.floatbank8_b_air         0\n",
       "primary_cleaner.state.floatbank8_b_level       0\n",
       "primary_cleaner.state.floatbank8_c_air         0\n",
       "primary_cleaner.state.floatbank8_c_level       0\n",
       "primary_cleaner.state.floatbank8_d_air         0\n",
       "primary_cleaner.state.floatbank8_d_level       0\n",
       "rougher.input.feed_ag                          0\n",
       "rougher.input.feed_pb                          0\n",
       "rougher.input.feed_rate                        3\n",
       "rougher.input.feed_size                        1\n",
       "rougher.input.feed_sol                        21\n",
       "rougher.input.feed_au                          0\n",
       "rougher.input.floatbank10_sulfate              5\n",
       "rougher.input.floatbank10_xanthate             0\n",
       "rougher.input.floatbank11_sulfate              8\n",
       "rougher.input.floatbank11_xanthate            25\n",
       "rougher.state.floatbank10_a_air                0\n",
       "rougher.state.floatbank10_a_level              0\n",
       "rougher.state.floatbank10_b_air                0\n",
       "rougher.state.floatbank10_b_level              0\n",
       "rougher.state.floatbank10_c_air                0\n",
       "rougher.state.floatbank10_c_level              0\n",
       "rougher.state.floatbank10_d_air                0\n",
       "rougher.state.floatbank10_d_level              0\n",
       "rougher.state.floatbank10_e_air                0\n",
       "rougher.state.floatbank10_e_level              0\n",
       "rougher.state.floatbank10_f_air                0\n",
       "rougher.state.floatbank10_f_level              0\n",
       "secondary_cleaner.state.floatbank2_a_air       3\n",
       "secondary_cleaner.state.floatbank2_a_level     0\n",
       "secondary_cleaner.state.floatbank2_b_air       2\n",
       "secondary_cleaner.state.floatbank2_b_level     0\n",
       "secondary_cleaner.state.floatbank3_a_air       9\n",
       "secondary_cleaner.state.floatbank3_a_level     0\n",
       "secondary_cleaner.state.floatbank3_b_air       0\n",
       "secondary_cleaner.state.floatbank3_b_level     0\n",
       "secondary_cleaner.state.floatbank4_a_air       0\n",
       "secondary_cleaner.state.floatbank4_a_level     0\n",
       "secondary_cleaner.state.floatbank4_b_air       0\n",
       "secondary_cleaner.state.floatbank4_b_level     0\n",
       "secondary_cleaner.state.floatbank5_a_air       0\n",
       "secondary_cleaner.state.floatbank5_a_level     0\n",
       "secondary_cleaner.state.floatbank5_b_air       0\n",
       "secondary_cleaner.state.floatbank5_b_level     0\n",
       "secondary_cleaner.state.floatbank6_a_air       0\n",
       "secondary_cleaner.state.floatbank6_a_level     0\n",
       "dtype: int64"
      ]
     },
     "execution_count": 21,
     "metadata": {},
     "output_type": "execute_result"
    }
   ],
   "source": [
    "gold_test.isna().sum()"
   ]
  },
  {
   "cell_type": "code",
   "execution_count": 22,
   "id": "4b13b4c1",
   "metadata": {},
   "outputs": [
    {
     "data": {
      "text/plain": [
       "final.output.concentrate_ag                     1\n",
       "final.output.concentrate_pb                     1\n",
       "final.output.concentrate_sol                  211\n",
       "final.output.concentrate_au                     0\n",
       "final.output.recovery                           0\n",
       "                                             ... \n",
       "secondary_cleaner.state.floatbank5_a_level      1\n",
       "secondary_cleaner.state.floatbank5_b_air        1\n",
       "secondary_cleaner.state.floatbank5_b_level      1\n",
       "secondary_cleaner.state.floatbank6_a_air        2\n",
       "secondary_cleaner.state.floatbank6_a_level      1\n",
       "Length: 86, dtype: int64"
      ]
     },
     "execution_count": 22,
     "metadata": {},
     "output_type": "execute_result"
    }
   ],
   "source": [
    "gold_train.isna().sum()"
   ]
  },
  {
   "cell_type": "code",
   "execution_count": 23,
   "id": "e688275d",
   "metadata": {},
   "outputs": [
    {
     "data": {
      "text/plain": [
       "final.output.concentrate_ag                     1\n",
       "final.output.concentrate_pb                     1\n",
       "final.output.concentrate_sol                  211\n",
       "final.output.concentrate_au                     0\n",
       "final.output.recovery                           0\n",
       "                                             ... \n",
       "secondary_cleaner.state.floatbank5_a_level      1\n",
       "secondary_cleaner.state.floatbank5_b_air        1\n",
       "secondary_cleaner.state.floatbank5_b_level      1\n",
       "secondary_cleaner.state.floatbank6_a_air        2\n",
       "secondary_cleaner.state.floatbank6_a_level      1\n",
       "Length: 86, dtype: int64"
      ]
     },
     "execution_count": 23,
     "metadata": {},
     "output_type": "execute_result"
    }
   ],
   "source": [
    "gold_full.isna().sum()"
   ]
  },
  {
   "cell_type": "markdown",
   "id": "28f405ae",
   "metadata": {},
   "source": [
    "**Заполнение пропусков медианой или средним значением может привести к искажению данных, поэтому применим способ ffill, заполнив пропуски предыдущим и следующим значением**"
   ]
  },
  {
   "cell_type": "code",
   "execution_count": 24,
   "id": "06176d33",
   "metadata": {},
   "outputs": [],
   "source": [
    "gold_test.fillna(method='ffill', inplace=True)"
   ]
  },
  {
   "cell_type": "code",
   "execution_count": 25,
   "id": "b4f279c2",
   "metadata": {},
   "outputs": [],
   "source": [
    "gold_train.fillna(method='ffill', inplace=True)"
   ]
  },
  {
   "cell_type": "code",
   "execution_count": 26,
   "id": "6f45683e",
   "metadata": {},
   "outputs": [],
   "source": [
    "gold_full.fillna(method='ffill', inplace=True)"
   ]
  },
  {
   "cell_type": "markdown",
   "id": "ac9c9d00",
   "metadata": {},
   "source": [
    "<font color='blue'><b>Комментарий ревьюера: </b></font> ✔️\\\n",
    "<font color='green'> Пропуски заполнены согласно условию задачи!</font>"
   ]
  },
  {
   "cell_type": "markdown",
   "id": "d920705e",
   "metadata": {},
   "source": [
    "# 2. Анализ данных"
   ]
  },
  {
   "cell_type": "markdown",
   "id": "52b2f74d",
   "metadata": {},
   "source": [
    "**Посмотрим, как меняется концентрация металлов (Au, Ag, Pb) на различных этапах очистки**"
   ]
  },
  {
   "cell_type": "markdown",
   "id": "8b93e61c",
   "metadata": {},
   "source": [
    "<font color='purple'><b>Комментарий студента V2: Тут решил для удобства создать переменные и построить немного иную гистограмму.</b></font>"
   ]
  },
  {
   "cell_type": "markdown",
   "id": "b9811475",
   "metadata": {},
   "source": [
    "<font color='blue'><b>Комментарий ревьюера 2: </b></font> ✔️\\\n",
    "<font color='green'>👍</font>"
   ]
  },
  {
   "cell_type": "markdown",
   "id": "4f200e26",
   "metadata": {},
   "source": [
    "**Создадим переменные концентрации металлов и простроим гистограмму для отображения изменения концетрации на каждом этапе очистки**"
   ]
  },
  {
   "cell_type": "code",
   "execution_count": 27,
   "id": "eb19373f",
   "metadata": {},
   "outputs": [],
   "source": [
    "rougher_input = ['rougher.input.feed_ag','rougher.input.feed_pb','rougher.input.feed_au','rougher.input.feed_sol']\n",
    "rougher_output = ['rougher.output.concentrate_ag','rougher.output.concentrate_pb','rougher.output.concentrate_au','rougher.output.concentrate_sol']\n",
    "primary_cleaner = ['primary_cleaner.output.concentrate_ag','primary_cleaner.output.concentrate_pb','primary_cleaner.output.concentrate_au','primary_cleaner.output.concentrate_sol']\n",
    "final_output = ['final.output.concentrate_ag','final.output.concentrate_pb','final.output.concentrate_au','final.output.concentrate_sol']\n",
    "name = ['Серебро','Свинец','Золото']"
   ]
  },
  {
   "cell_type": "code",
   "execution_count": 28,
   "id": "52435d48",
   "metadata": {},
   "outputs": [
    {
     "data": {
      "image/png": "[encoded data removed]",
      "text/plain": [
       "<Figure size 864x432 with 1 Axes>"
      ]
     },
     "metadata": {
      "needs_background": "light"
     },
     "output_type": "display_data"
    },
    {
     "data": {
      "image/png": "[encoded data removed]",
      "text/plain": [
       "<Figure size 864x432 with 1 Axes>"
      ]
     },
     "metadata": {
      "needs_background": "light"
     },
     "output_type": "display_data"
    },
    {
     "data": {
      "image/png": "[encoded data removed]",
      "text/plain": [
       "<Figure size 864x432 with 1 Axes>"
      ]
     },
     "metadata": {
      "needs_background": "light"
     },
     "output_type": "display_data"
    }
   ],
   "source": [
    "def hist_metal(r_input, output, primary, final, name): \n",
    "    plt.figure(figsize=(12, 6))\n",
    "    plt.hist(r_input, bins=50, alpha=0.5, label='Исходное сырьё')\n",
    "    plt.hist(output, bins=50, alpha=0.5, label='Концентрация исходного сырья')\n",
    "    plt.hist(primary, bins=50, alpha=0.5, label='Концентрация первой очистки')\n",
    "    plt.hist(final, bins=50, alpha=0.5, label='Финальная концентрация')\n",
    "    plt.title(name)\n",
    "    plt.xlabel('Концентрация %')\n",
    "    plt.ylabel('Количество')\n",
    "    plt.legend()\n",
    "    plt.show()\n",
    "for i in range(3):\n",
    "    hist_metal(gold_full[rougher_input[i]],gold_full[rougher_output[i]],gold_full[primary_cleaner[i]],gold_full[final_output[i]],name[i])"
   ]
  },
  {
   "cell_type": "markdown",
   "id": "fdf249f6",
   "metadata": {},
   "source": [
    "**Концентрация Золота равномерно увеличивается на протяжении всей стадии очистки. Концентрация Серебра увеличивается и немного уменьшается на протяжении всей стадии, что приводит к общему снижению. Концентрация Свинца незначительно увеличивается на протяжении всей стадии, что приводит к чистому увеличению, аналогичному концентрату на этапе первичной очистки.**"
   ]
  },
  {
   "cell_type": "markdown",
   "id": "bc327bc2",
   "metadata": {},
   "source": [
    "<font color='blue'><b>Комментарий ревьюера: </b></font> ✔️\\\n",
    "<font color='green'> Всё верно!</font>"
   ]
  },
  {
   "cell_type": "markdown",
   "id": "67af61b6",
   "metadata": {},
   "source": [
    "**Сравните распределения размеров гранул сырья на обучающей и тестовой выборках.**"
   ]
  },
  {
   "cell_type": "code",
   "execution_count": 29,
   "id": "9251a3f8",
   "metadata": {},
   "outputs": [
    {
     "data": {
      "image/png": "[encoded data removed]",
      "text/plain": [
       "<Figure size 720x1080 with 2 Axes>"
      ]
     },
     "metadata": {
      "needs_background": "light"
     },
     "output_type": "display_data"
    }
   ],
   "source": [
    "fig, axes = plt.subplots(2,1, figsize=(10, 15))\n",
    "axes[0].hist(gold_train[\"primary_cleaner.input.feed_size\"], density=True, alpha=0.5, bins=50)\n",
    "axes[0].hist(gold_test[\"primary_cleaner.input.feed_size\"], density=True, alpha=0.5, bins=50)\n",
    "axes[0].set(title=\"Размер гранул на первичной очистке\", xlabel=\"Количество\", ylabel=\"Размер\")\n",
    "axes[1].hist(gold_train[\"rougher.input.feed_size\"], density=True, alpha=0.5, bins=50)\n",
    "axes[1].hist(gold_test[\"rougher.input.feed_size\"], density=True, alpha=0.5, bins=50)\n",
    "axes[1].set(title=\"Размер гранул исходного сырья\", xlabel=\"Количество\", ylabel=\"Размер\")\n",
    "fig.suptitle(\"Распределение размеров гранул сырья\")\n",
    "fig.legend([\"Тренировочная выборка\", \"Тестовая выборка\"])\n",
    "fig.show()"
   ]
  },
  {
   "cell_type": "markdown",
   "id": "3ff9e065",
   "metadata": {},
   "source": [
    "**Распределение размеров гранул сырья показывает, что существенного отличия размеров в тренировочной и тестовой выборках нет. Следовательно, оценка модели может быть правильной.**"
   ]
  },
  {
   "cell_type": "markdown",
   "id": "bf6c3080",
   "metadata": {},
   "source": [
    "<font color='blue'><b>Комментарий ревьюера: </b></font> ✔️\\\n",
    "<font color='green'> Вывод верный!</font>"
   ]
  },
  {
   "cell_type": "markdown",
   "id": "8e0dc199",
   "metadata": {},
   "source": [
    "**Исследуем суммарную концентрацию всех веществ на разных стадиях: в сырье, в черновом и финальном концентратах.**"
   ]
  },
  {
   "cell_type": "code",
   "execution_count": 30,
   "id": "bd9a48bb",
   "metadata": {},
   "outputs": [],
   "source": [
    "def raw_feed(df):\n",
    "    return df[\"rougher.input.feed_au\"] + df[\"rougher.input.feed_ag\"] + df[\"rougher.input.feed_pb\"] + df[\"rougher.input.feed_sol\"]"
   ]
  },
  {
   "cell_type": "markdown",
   "id": "0c61f8cd",
   "metadata": {},
   "source": [
    "<font color='blue'><b>Комментарий ревьюера : </b></font> ⚠️\\\n",
    "<font color='darkorange'> Старайся разбивать код на строчки так, что бы всё было перед глазами. По стандарту строка кода не должна превышать 79 символов.</font>"
   ]
  },
  {
   "cell_type": "code",
   "execution_count": 31,
   "id": "8abbbe6d",
   "metadata": {},
   "outputs": [],
   "source": [
    "def rougher_conc(df):\n",
    "    return df[\"rougher.output.concentrate_au\"] + df[\"rougher.output.concentrate_ag\"] + df[\"rougher.output.concentrate_pb\"] + df[\"rougher.output.concentrate_sol\"]"
   ]
  },
  {
   "cell_type": "code",
   "execution_count": 32,
   "id": "c2ae1430",
   "metadata": {},
   "outputs": [],
   "source": [
    "def final_conc(df):\n",
    "    return df[\"final.output.concentrate_au\"] + df[\"final.output.concentrate_ag\"] + df[\"final.output.concentrate_pb\"] + df[\"final.output.concentrate_sol\"]"
   ]
  },
  {
   "cell_type": "code",
   "execution_count": 33,
   "id": "f60f3628",
   "metadata": {},
   "outputs": [],
   "source": [
    "gold_train[\"rougher.input.feed\"] = raw_feed(gold_train)\n",
    "gold_train[\"rougher.output.concentrate\"] = rougher_conc(gold_train)\n",
    "gold_train[\"final.output.concentrate\"] = final_conc(gold_train)\n",
    "total_conc = gold_train[[\"rougher.input.feed\", \"rougher.output.concentrate\", \"final.output.concentrate\"]]"
   ]
  },
  {
   "cell_type": "code",
   "execution_count": 34,
   "id": "118fc36d",
   "metadata": {
    "scrolled": true
   },
   "outputs": [
    {
     "name": "stderr",
     "output_type": "stream",
     "text": [
      "/opt/conda/lib/python3.9/site-packages/seaborn/distributions.py:2557: FutureWarning: `distplot` is a deprecated function and will be removed in a future version. Please adapt your code to use either `displot` (a figure-level function with similar flexibility) or `histplot` (an axes-level function for histograms).\n",
      "  warnings.warn(msg, FutureWarning)\n"
     ]
    },
    {
     "data": {
      "image/png": "[encoded data removed]",
      "text/plain": [
       "<Figure size 720x432 with 1 Axes>"
      ]
     },
     "metadata": {
      "needs_background": "light"
     },
     "output_type": "display_data"
    }
   ],
   "source": [
    "fig = plt.figure(figsize=(10, 6))\n",
    "for column in list(total_conc):\n",
    "    sns.distplot(total_conc[column], kde=False)\n",
    "plt.legend(list(total_conc))\n",
    "plt.title(\"Суммарная концентрация на разных стадиях\")\n",
    "plt.xlabel(\"Концентрация %\")\n",
    "plt.ylabel(\"Количество\")\n",
    "fig.show()"
   ]
  },
  {
   "cell_type": "markdown",
   "id": "f3310aa8",
   "metadata": {},
   "source": [
    "<font color='blue'><b>Комментарий ревьюера 4: </b></font> ✔️\\\n",
    "<font color='blue'>`distplot` в следующих версиях поддерживаться не будет, советуют переходить на `displot` или `histplot` для сохранения работоспособности кода. </font>"
   ]
  },
  {
   "cell_type": "markdown",
   "id": "2eeb8ad2",
   "metadata": {},
   "source": [
    "**Все распределения концентрации на различных стадиях показывают аномальные значения при 0%. Поэтому стоит удалить эти значения из обеих выборок (< 20%), чтобы обеспечить точность модели.**"
   ]
  },
  {
   "cell_type": "code",
   "execution_count": 35,
   "id": "ab6e95cd",
   "metadata": {},
   "outputs": [
    {
     "data": {
      "text/plain": [
       "(13741, 89)"
      ]
     },
     "execution_count": 35,
     "metadata": {},
     "output_type": "execute_result"
    }
   ],
   "source": [
    "gold_train = gold_train[gold_train[\"rougher.input.feed\"] > 20]  \n",
    "gold_train = gold_train[gold_train[\"rougher.output.concentrate\"]> 20] \n",
    "gold_train = gold_train[gold_train[\"final.output.concentrate\"] > 20]\n",
    "gold_train.shape"
   ]
  },
  {
   "cell_type": "code",
   "execution_count": 36,
   "id": "90766b67",
   "metadata": {},
   "outputs": [
    {
     "data": {
      "text/html": [
       "<div>\n",
       "<style scoped>\n",
       "    .dataframe tbody tr th:only-of-type {\n",
       "        vertical-align: middle;\n",
       "    }\n",
       "\n",
       "    .dataframe tbody tr th {\n",
       "        vertical-align: top;\n",
       "    }\n",
       "\n",
       "    .dataframe thead th {\n",
       "        text-align: right;\n",
       "    }\n",
       "</style>\n",
       "<table border=\"1\" class=\"dataframe\">\n",
       "  <thead>\n",
       "    <tr style=\"text-align: right;\">\n",
       "      <th></th>\n",
       "      <th>rougher.output.recovery</th>\n",
       "      <th>final.output.recovery</th>\n",
       "    </tr>\n",
       "    <tr>\n",
       "      <th>date</th>\n",
       "      <th></th>\n",
       "      <th></th>\n",
       "    </tr>\n",
       "  </thead>\n",
       "  <tbody>\n",
       "    <tr>\n",
       "      <th>2016-09-01 00:59:59</th>\n",
       "      <td>89.993421</td>\n",
       "      <td>70.273583</td>\n",
       "    </tr>\n",
       "    <tr>\n",
       "      <th>2016-09-01 01:59:59</th>\n",
       "      <td>88.089657</td>\n",
       "      <td>68.910432</td>\n",
       "    </tr>\n",
       "    <tr>\n",
       "      <th>2016-09-01 02:59:59</th>\n",
       "      <td>88.412756</td>\n",
       "      <td>68.143213</td>\n",
       "    </tr>\n",
       "    <tr>\n",
       "      <th>2016-09-01 03:59:59</th>\n",
       "      <td>87.360133</td>\n",
       "      <td>67.776393</td>\n",
       "    </tr>\n",
       "    <tr>\n",
       "      <th>2016-09-01 04:59:59</th>\n",
       "      <td>83.236367</td>\n",
       "      <td>61.467078</td>\n",
       "    </tr>\n",
       "  </tbody>\n",
       "</table>\n",
       "</div>"
      ],
      "text/plain": [
       "                     rougher.output.recovery  final.output.recovery\n",
       "date                                                               \n",
       "2016-09-01 00:59:59                89.993421              70.273583\n",
       "2016-09-01 01:59:59                88.089657              68.910432\n",
       "2016-09-01 02:59:59                88.412756              68.143213\n",
       "2016-09-01 03:59:59                87.360133              67.776393\n",
       "2016-09-01 04:59:59                83.236367              61.467078"
      ]
     },
     "execution_count": 36,
     "metadata": {},
     "output_type": "execute_result"
    }
   ],
   "source": [
    "targets = ['rougher.output.recovery', 'final.output.recovery']\n",
    "target_test = gold_full[targets].loc[gold_full.index.intersection(gold_test.index),:]\n",
    "target_test.head()"
   ]
  },
  {
   "cell_type": "code",
   "execution_count": 37,
   "id": "acef956a",
   "metadata": {},
   "outputs": [
    {
     "data": {
      "text/html": [
       "<div>\n",
       "<style scoped>\n",
       "    .dataframe tbody tr th:only-of-type {\n",
       "        vertical-align: middle;\n",
       "    }\n",
       "\n",
       "    .dataframe tbody tr th {\n",
       "        vertical-align: top;\n",
       "    }\n",
       "\n",
       "    .dataframe thead th {\n",
       "        text-align: right;\n",
       "    }\n",
       "</style>\n",
       "<table border=\"1\" class=\"dataframe\">\n",
       "  <thead>\n",
       "    <tr style=\"text-align: right;\">\n",
       "      <th></th>\n",
       "      <th>rougher.output.recovery</th>\n",
       "      <th>final.output.recovery</th>\n",
       "    </tr>\n",
       "    <tr>\n",
       "      <th>date</th>\n",
       "      <th></th>\n",
       "      <th></th>\n",
       "    </tr>\n",
       "  </thead>\n",
       "  <tbody>\n",
       "    <tr>\n",
       "      <th>2016-01-15 00:00:00</th>\n",
       "      <td>87.107763</td>\n",
       "      <td>70.541216</td>\n",
       "    </tr>\n",
       "    <tr>\n",
       "      <th>2016-01-15 01:00:00</th>\n",
       "      <td>86.843261</td>\n",
       "      <td>69.266198</td>\n",
       "    </tr>\n",
       "    <tr>\n",
       "      <th>2016-01-15 02:00:00</th>\n",
       "      <td>86.842308</td>\n",
       "      <td>68.116445</td>\n",
       "    </tr>\n",
       "    <tr>\n",
       "      <th>2016-01-15 03:00:00</th>\n",
       "      <td>87.226430</td>\n",
       "      <td>68.347543</td>\n",
       "    </tr>\n",
       "    <tr>\n",
       "      <th>2016-01-15 04:00:00</th>\n",
       "      <td>86.688794</td>\n",
       "      <td>66.927016</td>\n",
       "    </tr>\n",
       "  </tbody>\n",
       "</table>\n",
       "</div>"
      ],
      "text/plain": [
       "                     rougher.output.recovery  final.output.recovery\n",
       "date                                                               \n",
       "2016-01-15 00:00:00                87.107763              70.541216\n",
       "2016-01-15 01:00:00                86.843261              69.266198\n",
       "2016-01-15 02:00:00                86.842308              68.116445\n",
       "2016-01-15 03:00:00                87.226430              68.347543\n",
       "2016-01-15 04:00:00                86.688794              66.927016"
      ]
     },
     "execution_count": 37,
     "metadata": {},
     "output_type": "execute_result"
    }
   ],
   "source": [
    "target_train = gold_train[targets]\n",
    "target_train.head()"
   ]
  },
  {
   "cell_type": "code",
   "execution_count": 38,
   "id": "6117d00d",
   "metadata": {},
   "outputs": [],
   "source": [
    "gold_train = gold_train.drop(no_need, axis=1)\n",
    "gold_train = gold_train.drop(total_conc.columns, axis=1)"
   ]
  },
  {
   "cell_type": "markdown",
   "id": "c52cc1ae",
   "metadata": {},
   "source": [
    "**Уберем нулевые значения**"
   ]
  },
  {
   "cell_type": "code",
   "execution_count": 39,
   "id": "829a6b27",
   "metadata": {},
   "outputs": [
    {
     "data": {
      "text/plain": [
       "(13741, 52)"
      ]
     },
     "execution_count": 39,
     "metadata": {},
     "output_type": "execute_result"
    }
   ],
   "source": [
    "gold_train.shape"
   ]
  },
  {
   "cell_type": "code",
   "execution_count": 40,
   "id": "d203ff48",
   "metadata": {},
   "outputs": [],
   "source": [
    "# gold_train = gold_train[gold_train[rougher_input].sum(1)>0]"
   ]
  },
  {
   "cell_type": "markdown",
   "id": "a4502763",
   "metadata": {},
   "source": [
    "<font color='blue'><b>Комментарий ревьюера 2: </b></font> ❌\\\n",
    "<font color='red'><s> Выбросы нужно почистить в обучающих данных.</s></font>"
   ]
  },
  {
   "cell_type": "markdown",
   "id": "14ce0552",
   "metadata": {},
   "source": [
    "<font color='purple'><b>Комментарий студента V3: Павел, извини, не мог бы подсказать как правильно сделать? а то сегодня дедлайн, боюсь накосячить еще больше, голова и так уже не варит.</b></font>"
   ]
  },
  {
   "cell_type": "markdown",
   "id": "91a59045",
   "metadata": {},
   "source": [
    "<font color='purple'><b>Комментарий студента V4: Павел, подскажи пожалуйста, сейчас верно? </b></font>"
   ]
  },
  {
   "cell_type": "markdown",
   "id": "37025671",
   "metadata": {},
   "source": [
    "<font color='blue'><b>Комментарий ревьюера 4: </b></font> ✔️\\\n",
    "<font color='green'>Сейчас верно.</font>"
   ]
  },
  {
   "cell_type": "markdown",
   "id": "88354fbb",
   "metadata": {},
   "source": [
    "<font color='blue'><b>Комментарий ревьюера 3: </b></font> \\\n",
    "<font color='blue'>Проще всего Заменить все `gold_full` на `gold_train` в этом блоке, но для этого нужно сделать удаление ненужных столбцов из gold_train(ячейка 14), позже этого блока (Исследуем суммарную концентрацию...), и переназначить таргеты (ячейка 18) .</font>"
   ]
  },
  {
   "cell_type": "code",
   "execution_count": 41,
   "id": "98dcfefc",
   "metadata": {},
   "outputs": [
    {
     "name": "stdout",
     "output_type": "stream",
     "text": [
      "(13741, 4)\n"
     ]
    }
   ],
   "source": [
    "print(gold_train[rougher_input].shape)"
   ]
  },
  {
   "cell_type": "code",
   "execution_count": 42,
   "id": "8fb03a62",
   "metadata": {},
   "outputs": [],
   "source": [
    "# display(gold_train[gold_train[rougher_input].sum(1)==0][rougher_input].count())\n",
    "# gold_test[gold_test[rougher_input].sum(1)==0][rougher_input].count()"
   ]
  },
  {
   "cell_type": "markdown",
   "id": "abf47750",
   "metadata": {},
   "source": [
    "<font color='blue'><b>Комментарий ревьюера: </b></font> ❌\\\n",
    "<font color='red'><s> Обрати внимание на нулевые и около нулевые значения концентраций. Это явная аномалия. Скорее всего это связано со сбоем измерительного оборудования. Такие наблюдения нужно удалить из данных.\\\n",
    "Модель планируется использовать для подбора параметров оборудования, поэтому примеры со сбоями не интересные для моделирования.</s></font>"
   ]
  },
  {
   "cell_type": "markdown",
   "id": "f57d2360",
   "metadata": {},
   "source": [
    "# 3. Построение модели"
   ]
  },
  {
   "cell_type": "markdown",
   "id": "c13d4297",
   "metadata": {},
   "source": [
    "<font color='purple'><b>Комментарий студента V2: Тут тоже поизучал разные варианты и пришел к немного другому решению.</b></font>"
   ]
  },
  {
   "cell_type": "markdown",
   "id": "624ae6d5",
   "metadata": {},
   "source": [
    "**Напишем функцию для вычисления итоговой sMAPE**"
   ]
  },
  {
   "cell_type": "code",
   "execution_count": 51,
   "id": "a2f22cb4",
   "metadata": {},
   "outputs": [],
   "source": [
    "def smape(target_actual, target_predictions):\n",
    "    numerator = np.abs(target_actual - target_predictions)\n",
    "    denominator = (np.abs(target_actual) + np.abs(target_predictions)) / 2 \n",
    "    return 1 / len(target_actual) * np.sum(numerator / denominator) * 100 "
   ]
  },
  {
   "cell_type": "markdown",
   "id": "47c0a65e",
   "metadata": {},
   "source": [
    "<font color='blue'><b>Комментарий ревьюера: </b></font> ⚠️\\\n",
    "<font color='orange'> Цикл сильно тормозит вычисления. Для суммы в Pyhton есть отличные методы!</font>"
   ]
  },
  {
   "cell_type": "markdown",
   "id": "86c429b5",
   "metadata": {},
   "source": [
    "<font color='blue'><b>Комментарий ревьюера 2: </b></font> ✔️\\\n",
    "<font color='green'> `smape` расчитана верно.</font>"
   ]
  },
  {
   "cell_type": "code",
   "execution_count": 44,
   "id": "987bef36",
   "metadata": {},
   "outputs": [],
   "source": [
    "features_train = gold_train.reset_index(drop=True) \n",
    "target_train = target_train.reset_index(drop=True)\n",
    "features_test = gold_test.reset_index(drop=True) \n",
    "target_test = target_test.reset_index(drop=True) \n",
    "target_train_rougher = target_train['rougher.output.recovery']\n",
    "target_train_final = target_train['final.output.recovery']\n",
    "target_test_rougher = target_test['rougher.output.recovery']\n",
    "target_test_final = target_test['final.output.recovery']"
   ]
  },
  {
   "cell_type": "code",
   "execution_count": 45,
   "id": "e33573dd",
   "metadata": {},
   "outputs": [],
   "source": [
    "smape_score = make_scorer(smape, greater_is_better=False)\n",
    "cv = KFold(n_splits=3)"
   ]
  },
  {
   "cell_type": "markdown",
   "id": "ed0e49e7",
   "metadata": {},
   "source": [
    "<font color='blue'><b>Комментарий ревьюера : </b></font> ✔️ <br>\n",
    "<font color='green'>Верно, что не забываешь указать greater_is_better=False, Это пригодится для SearchCV. SMAPE — ошибка, её минимизируем.</font>"
   ]
  },
  {
   "cell_type": "markdown",
   "id": "08912e99",
   "metadata": {},
   "source": [
    "**Обучим разные модели и оценим их качество кросс-валидацией. Выберем лучшую модель и проверим её на тестовой выборке**"
   ]
  },
  {
   "cell_type": "markdown",
   "id": "aa405f22",
   "metadata": {},
   "source": [
    "**Линейная регрессия**"
   ]
  },
  {
   "cell_type": "code",
   "execution_count": 46,
   "id": "59809668",
   "metadata": {},
   "outputs": [
    {
     "name": "stdout",
     "output_type": "stream",
     "text": [
      " sMAPE исходной концентрации: -10.475530807623933\n",
      " Финальное sMAPE: -13.532403396283959\n",
      " Итоговое sMAPE:-12.768185249118952\n"
     ]
    }
   ],
   "source": [
    "lr = LinearRegression()\n",
    "\n",
    "rougher_smape = cross_val_score(lr, features_train, target_train_rougher, scoring = smape_score, cv=cv)\n",
    "final_smape = cross_val_score(lr, features_train, target_train_final, scoring = smape_score, cv=cv)\n",
    "smape_weighted = 0.25 * rougher_smape.mean() + 0.75 * final_smape.mean()\n",
    "\n",
    "print(f' sMAPE исходной концентрации: {rougher_smape.mean()}')\n",
    "print(f' Финальное sMAPE: {final_smape.mean()}')\n",
    "print(f' Итоговое sMAPE:{smape_weighted}')"
   ]
  },
  {
   "cell_type": "markdown",
   "id": "5364da16",
   "metadata": {},
   "source": [
    "<font color='blue'><b>Комментарий ревьюера 2: </b></font> ✔️\\\n",
    "<font color='green'> Отлично, что оценка по целевой метрике!</font>"
   ]
  },
  {
   "cell_type": "markdown",
   "id": "5073c9df",
   "metadata": {},
   "source": [
    "**Дерево решений**"
   ]
  },
  {
   "cell_type": "code",
   "execution_count": 47,
   "id": "30c56c53",
   "metadata": {},
   "outputs": [
    {
     "name": "stdout",
     "output_type": "stream",
     "text": [
      "sMAPE исходной концентрации: -8.106184371656886\n",
      "Гиперпараметры: {'max_depth': 2}\n",
      "sMAPE исходной концентрации: -9.90048702420814\n",
      "Гиперпараметры: {'max_depth': 2}\n",
      "Итоговый sMAPE: -9.451911361070326\n"
     ]
    }
   ],
   "source": [
    "dtr = DecisionTreeRegressor(random_state=12345)\n",
    " \n",
    "parametrs = {'max_depth': range (1,10)}\n",
    " \n",
    "rougher_smape = GridSearchCV(dtr, parametrs, scoring=smape_score, cv=cv, n_jobs=4)\n",
    "rougher_smape.fit(features_train, target_train_rougher)\n",
    "\n",
    "print(f'sMAPE исходной концентрации: {rougher_smape.best_score_}')\n",
    "print(f'Гиперпараметры: {rougher_smape.best_params_}')\n",
    " \n",
    "final_smape = GridSearchCV(dtr, parametrs, scoring=smape_score, cv=cv, n_jobs=4)\n",
    "final_smape.fit(features_train, target_train_final)\n",
    " \n",
    "print(f'sMAPE исходной концентрации: {final_smape.best_score_}' )\n",
    "print(f'Гиперпараметры: {final_smape.best_params_}')\n",
    "smape_weighted = 0.25 * rougher_smape.best_score_ + 0.75 * final_smape.best_score_\n",
    "\n",
    "print(\"Итоговый sMAPE:\", smape_weighted)"
   ]
  },
  {
   "cell_type": "markdown",
   "id": "c5fe9fe0",
   "metadata": {},
   "source": [
    "<font color='blue'><b>Комментарий ревьюера 2: </b></font> ✔️\\\n",
    "<font color='green'>Подбор гиперпараметров проведён верно. Использована целевая метрика, направление отбора верное ).</font>"
   ]
  },
  {
   "cell_type": "markdown",
   "id": "4c08196e",
   "metadata": {},
   "source": [
    "**Случайный лес**"
   ]
  },
  {
   "cell_type": "code",
   "execution_count": null,
   "id": "da83c93f",
   "metadata": {},
   "outputs": [],
   "source": [
    "rfr = RandomForestRegressor(random_state=12345)\n",
    " \n",
    "parametrs = {'n_estimators': range (10, 71, 10),  'max_depth': range (1,4)}       \n",
    " \n",
    "rougher_smape = GridSearchCV(rfr, parametrs, scoring=smape_score, cv=cv, n_jobs=4)\n",
    "rougher_smape.fit(features_train, target_train_rougher)\n",
    " \n",
    "print(f'sMAPE исходной концентрации: {rougher_smape.best_score_}')\n",
    "print(f'Гиперпараметры: {rougher_smape.best_params_}')\n",
    " \n",
    "final_smape = GridSearchCV(rfr, parametrs, scoring=smape_score, cv=cv, n_jobs=4)\n",
    "final_smape.fit(features_train, target_train_final)\n",
    " \n",
    "print(f'sMAPE исходной концентрации: {final_smape.best_score_}' )\n",
    "print(f'Гиперпараметры: {final_smape.best_params_}')\n",
    "smape_weighted = 0.25 * rougher_smape.best_score_ + 0.75 * final_smape.best_score_\n",
    "\n",
    "print(\"Итоговый sMAPE:\", smape_weighted)"
   ]
  },
  {
   "cell_type": "markdown",
   "id": "11915633",
   "metadata": {},
   "source": [
    "<font color='blue'><b>Комментарий ревьюера 2: </b></font> ✔️\\\n",
    "<font color='green'>👍</font>"
   ]
  },
  {
   "cell_type": "markdown",
   "id": "8106947b",
   "metadata": {},
   "source": [
    "**Лучшая модель - Случайный лес, проверим ее качество на тестовой выборке**"
   ]
  },
  {
   "cell_type": "code",
   "execution_count": 48,
   "id": "c44a6590",
   "metadata": {
    "scrolled": true
   },
   "outputs": [
    {
     "name": "stdout",
     "output_type": "stream",
     "text": [
      "8.393357855754441\n",
      "9.551294407781121\n",
      "Итоговый sMAPE: 9.26181026977445\n"
     ]
    }
   ],
   "source": [
    "test_model_rougher = RandomForestRegressor(random_state=12345, max_depth=2, n_estimators=10)\n",
    "rf = test_model_rougher.fit(features_train, target_train_rougher) \n",
    "predictions_rougher = rf.predict(features_test) \n",
    "res_rougher = smape(target_test_rougher, predictions_rougher)\n",
    "print(res_rougher)\n",
    " \n",
    "test_model_final = RandomForestRegressor(random_state=12345, max_depth=1, n_estimators=30)\n",
    "rff = test_model_final.fit(features_train, target_train_final) \n",
    "predictions_final = rff.predict(features_test)  \n",
    "res_final = smape(target_test_final, predictions_final)\n",
    "print(res_final)\n",
    "smape_weighted_final = 0.25 * res_rougher + 0.75 * res_final\n",
    "print(\"Итоговый sMAPE:\", smape_weighted_final)"
   ]
  },
  {
   "cell_type": "markdown",
   "id": "7080fe4a",
   "metadata": {},
   "source": [
    "<font color='blue'><b>Комментарий ревьюера: </b></font> ✔️\\\n",
    "<font color='green'>Тестирование проведено верно.</font>"
   ]
  },
  {
   "cell_type": "markdown",
   "id": "a5c4e6d8",
   "metadata": {},
   "source": [
    "**Проверим модель на адекватность при помощи DummyRegressor'а**"
   ]
  },
  {
   "cell_type": "code",
   "execution_count": 53,
   "id": "6cf86410",
   "metadata": {},
   "outputs": [
    {
     "name": "stdout",
     "output_type": "stream",
     "text": [
      "DR SMAPE: 9.441911631456723\n"
     ]
    }
   ],
   "source": [
    "dr_r = DummyRegressor(strategy = \"median\")\n",
    "predict_r = dr_r.fit(features_train, target_train_rougher).predict(features_test)\n",
    "smape_r = smape(predict_r, np.array(target_test_rougher))\n",
    "\n",
    "dr_f = DummyRegressor(strategy = \"median\")\n",
    "predict_f = dr_f.fit(features_train, target_train_final).predict(features_test)\n",
    "smape_f = smape(predict_f, np.array(target_test_final))\n",
    "\n",
    "smape_weighted_dummy = 0.25 * smape_r + 0.75 * smape_f\n",
    "print('DR SMAPE:', smape_weighted_dummy)"
   ]
  },
  {
   "cell_type": "markdown",
   "id": "40ba46dc",
   "metadata": {},
   "source": [
    "<font color='purple'><b>Комментарий студента V3: Павел, проверил адекватность модели, надеюсь, что правильно. Юпитер сегодня очень медленно работает и постоянно выдает ошибки без причины. Если сверхкритических замечаний больше нет, не мог бы зачесть проект, а то за дедлайн переживаю? И еще, посоветуй пожалуйста, есть ли среда постабильней Юпитера? Постоянно перезапускать ядра и ячейки очень мешает продуктивной работе. Заранее благодарен </b></font>"
   ]
  },
  {
   "cell_type": "markdown",
   "id": "98461392",
   "metadata": {},
   "source": [
    "<font color='blue'><b>Комментарий ревьюера 3: </b></font> ✔️\\\n",
    "<font color='green'> Наивная модель применена правильно, но пока она выигрывает по метрике у нашей лучшей модели."
   ]
  },
  {
   "cell_type": "markdown",
   "id": "fd2c3bea",
   "metadata": {},
   "source": [
    "<font color='blue'><b>Комментарий ревьюера 3: </b></font> \\\n",
    "<font color='blue'>Если под Юпитером ты имеешь ввиду JupyterHub, то можно попробовать кодить в Колабе Гугла, он пошустрее и понадёжней.</font>"
   ]
  },
  {
   "cell_type": "markdown",
   "id": "79ff290d",
   "metadata": {},
   "source": [
    "<font color='blue'><b>Комментарий ревьюера 2: </b></font> ❌\\\n",
    "<font color='red'><s> Нужно сравнить с константной моделью, например с `DummyRegressor`, из одного значения метрики не ясно насколько адекватно предсказание моделей. )</s></font>"
   ]
  },
  {
   "cell_type": "markdown",
   "id": "d379fc16",
   "metadata": {},
   "source": [
    "# Вывод"
   ]
  },
  {
   "cell_type": "markdown",
   "id": "7aae180e",
   "metadata": {},
   "source": [
    "-**В ходе исследования была обработаны данные по добыче с параметрами на разных этапах обработки сырья. Данные были проверены путем вычисления эффективности обогащения и подготовлены для анализа.**\n",
    "\n",
    "-**С помощью sMAPE удалось обучить и проверить несколько моделей - Линейная регрессия, Дерево решений и Случайный лес. Лучшая модель - Случайный лес, ее качесво проверено на тестовой выборке.**"
   ]
  },
  {
   "cell_type": "markdown",
   "id": "9098fd98",
   "metadata": {},
   "source": [
    "<font color='blue'><b>Комментарий ревьюера 2: </b></font> ✔️\\\n",
    "<font color='green'> Очень приятно видеть вывод в конце проекта!\\\n",
    "Приведены ответы на главные вопросы проекта.</font>"
   ]
  },
  {
   "cell_type": "markdown",
   "id": "46ade78f",
   "metadata": {},
   "source": [
    "<font color='blue'><b>Итоговый комментарий ревьюера 4</b></font>\\\n",
    "<font color='green'>  Иван, проект принят! \\\n",
    "Все этапы пройдены. Все критичные рекомендации учтены.\\\n",
    "Надеюсь, тебе понравился процесс выполнения и результат.</font> \\\n",
    "<font color='blue'><b>Спасибо, удачи в освоении профессии!</b></font>"
   ]
  },
  {
   "cell_type": "raw",
   "id": "f7a19627",
   "metadata": {},
   "source": []
  },
  {
   "cell_type": "raw",
   "id": "236ad5d5",
   "metadata": {},
   "source": []
  },
  {
   "cell_type": "raw",
   "id": "83e79327",
   "metadata": {},
   "source": []
  },
  {
   "cell_type": "markdown",
   "id": "4a495ce1",
   "metadata": {},
   "source": [
    "<font color='blue'><b>Итоговый комментарий ревьюера 3</b></font>\\\n",
    "<font color='green'>Иван, большое спасибо за доработку. Появилась Наивная модель.\n",
    "</font>\n",
    "\n",
    "<font color='blue'>Что нужно исправить:</font>\n",
    "<ul><font color='red'>Попробуй обучить модели на очищенных от выбросов данных.</font></ul>\n",
    "\n",
    "<font color='blue'>Что можно сделать лучше:</font>\n",
    "<font color='orange'>В работе я оставил несколько советов. Буду рад, если ты учтешь их.</font></ul>\n",
    "\n",
    "<font color='blue'><b>Жду новую версию проекта :)</b></font>"
   ]
  },
  {
   "cell_type": "markdown",
   "id": "dfa86c2f",
   "metadata": {},
   "source": [
    "<font color='blue'><b>Итоговый комментарий ревьюера 2</b></font>\\\n",
    "<font color='green'>Иван, хороший проект получился!\n",
    "Большое спасибо за проделанную работу. Видно, что приложено много усилий.\n",
    "</font>\n",
    "\n",
    "<font color='blue'>Что нужно исправить:</font>\n",
    "<ul><font color='red'>Попробуй обучить модели на очищенных от выбросов данных.</font></ul>\n",
    "<ul><font color='red'>Добавь тест константной модели для оценки адекватности работы моделей.</font></ul>\n",
    "\n",
    "<font color='blue'>Что можно сделать лучше:</font>\n",
    "<font color='orange'>В работе я оставил несколько советов. Буду рад, если ты учтешь их.</font></ul>\n",
    "\n",
    "<font color='blue'><b>Жду новую версию проекта :)</b></font>"
   ]
  },
  {
   "cell_type": "markdown",
   "id": "b7cf4e66",
   "metadata": {},
   "source": [
    "<font color='purple'><b>Комментарий студента V2: Павел, извини, проект переделывал в новом файле, без твоих комментариев, вернул, но хронолия может быть нарушена. .</b></font>"
   ]
  },
  {
   "cell_type": "markdown",
   "id": "65f39b00",
   "metadata": {},
   "source": [
    "<font color='blue'><b>Комментарий ревьюера 2: </b></font> ✔️\\\n",
    "<font color='green'>👍</font>"
   ]
  },
  {
   "cell_type": "markdown",
   "id": "fdd73f0c",
   "metadata": {},
   "source": [
    "<font color='blue'><b>Комментарий ревьюера: </b></font> ❌\\\n",
    "<font color='red'> В момент предполгаемого применения модели в продакте, доступны только признаки собранные в тестовом датасете. Нужно построить модель работающую только с этими признаками.  </font>"
   ]
  },
  {
   "cell_type": "markdown",
   "id": "1c46a777",
   "metadata": {},
   "source": [
    "<font color='blue'><b>Комментарий ревьюера: </b></font> \\\n",
    "<font color='blue'>В функции метрики происхоят деления на ноль. Можно добавить небольшую константу в знаменатель.</font>"
   ]
  },
  {
   "cell_type": "markdown",
   "id": "e8109030",
   "metadata": {},
   "source": [
    "<font color='blue'><b>Итоговый комментарий ревьюера</b></font>\n",
    "\n",
    "<font color='blue'>К сожалению, проект не готов. Присылай законченную версию. По всем непонятным моментам можно обращаться за помощью наставникам и преподавателям, а также комьюнити студентов. Буду ждать :)\n",
    "\n",
    "</font>"
   ]
  }
 ],
 "metadata": {
  "ExecuteTimeLog": [
   {
    "duration": 2168,
    "start_time": "2022-10-19T19:03:37.764Z"
   },
   {
    "duration": 144,
    "start_time": "2022-10-19T19:03:39.935Z"
   },
   {
    "duration": 0,
    "start_time": "2022-10-19T19:03:40.081Z"
   },
   {
    "duration": 0,
    "start_time": "2022-10-19T19:03:40.083Z"
   },
   {
    "duration": 1,
    "start_time": "2022-10-19T19:03:40.083Z"
   },
   {
    "duration": 0,
    "start_time": "2022-10-19T19:03:40.085Z"
   },
   {
    "duration": 0,
    "start_time": "2022-10-19T19:03:40.094Z"
   },
   {
    "duration": 0,
    "start_time": "2022-10-19T19:03:40.096Z"
   },
   {
    "duration": 0,
    "start_time": "2022-10-19T19:03:40.097Z"
   },
   {
    "duration": 0,
    "start_time": "2022-10-19T19:03:40.098Z"
   },
   {
    "duration": 0,
    "start_time": "2022-10-19T19:03:40.099Z"
   },
   {
    "duration": 0,
    "start_time": "2022-10-19T19:03:40.100Z"
   },
   {
    "duration": 0,
    "start_time": "2022-10-19T19:03:40.102Z"
   },
   {
    "duration": 0,
    "start_time": "2022-10-19T19:03:40.103Z"
   },
   {
    "duration": 0,
    "start_time": "2022-10-19T19:03:40.104Z"
   },
   {
    "duration": 0,
    "start_time": "2022-10-19T19:03:40.105Z"
   },
   {
    "duration": 0,
    "start_time": "2022-10-19T19:03:40.106Z"
   },
   {
    "duration": 0,
    "start_time": "2022-10-19T19:03:40.108Z"
   },
   {
    "duration": 0,
    "start_time": "2022-10-19T19:03:40.109Z"
   },
   {
    "duration": 0,
    "start_time": "2022-10-19T19:03:40.111Z"
   },
   {
    "duration": 0,
    "start_time": "2022-10-19T19:03:40.112Z"
   },
   {
    "duration": 0,
    "start_time": "2022-10-19T19:03:40.113Z"
   },
   {
    "duration": 0,
    "start_time": "2022-10-19T19:03:40.114Z"
   },
   {
    "duration": 0,
    "start_time": "2022-10-19T19:03:40.115Z"
   },
   {
    "duration": 0,
    "start_time": "2022-10-19T19:03:40.116Z"
   },
   {
    "duration": 0,
    "start_time": "2022-10-19T19:03:40.117Z"
   },
   {
    "duration": 0,
    "start_time": "2022-10-19T19:03:40.118Z"
   },
   {
    "duration": 0,
    "start_time": "2022-10-19T19:03:40.119Z"
   },
   {
    "duration": 0,
    "start_time": "2022-10-19T19:03:40.120Z"
   },
   {
    "duration": 0,
    "start_time": "2022-10-19T19:03:40.122Z"
   },
   {
    "duration": 0,
    "start_time": "2022-10-19T19:03:40.123Z"
   },
   {
    "duration": 0,
    "start_time": "2022-10-19T19:03:40.124Z"
   },
   {
    "duration": 0,
    "start_time": "2022-10-19T19:03:40.125Z"
   },
   {
    "duration": 0,
    "start_time": "2022-10-19T19:03:40.126Z"
   },
   {
    "duration": 0,
    "start_time": "2022-10-19T19:03:40.127Z"
   },
   {
    "duration": 0,
    "start_time": "2022-10-19T19:03:40.130Z"
   },
   {
    "duration": 0,
    "start_time": "2022-10-19T19:03:40.131Z"
   },
   {
    "duration": 1898,
    "start_time": "2022-10-19T19:05:12.372Z"
   },
   {
    "duration": 2679,
    "start_time": "2022-10-19T19:05:14.273Z"
   },
   {
    "duration": 25,
    "start_time": "2022-10-19T19:05:16.954Z"
   },
   {
    "duration": 27,
    "start_time": "2022-10-19T19:05:16.981Z"
   },
   {
    "duration": 19,
    "start_time": "2022-10-19T19:05:17.010Z"
   },
   {
    "duration": 14,
    "start_time": "2022-10-19T19:05:17.030Z"
   },
   {
    "duration": 20,
    "start_time": "2022-10-19T19:05:17.046Z"
   },
   {
    "duration": 44,
    "start_time": "2022-10-19T19:05:17.067Z"
   },
   {
    "duration": 3,
    "start_time": "2022-10-19T19:05:17.112Z"
   },
   {
    "duration": 7,
    "start_time": "2022-10-19T19:05:17.118Z"
   },
   {
    "duration": 6,
    "start_time": "2022-10-19T19:05:17.127Z"
   },
   {
    "duration": 6,
    "start_time": "2022-10-19T19:05:17.134Z"
   },
   {
    "duration": 25,
    "start_time": "2022-10-19T19:05:17.142Z"
   },
   {
    "duration": 119,
    "start_time": "2022-10-19T19:05:17.194Z"
   },
   {
    "duration": 87,
    "start_time": "2022-10-19T19:05:17.315Z"
   },
   {
    "duration": 8,
    "start_time": "2022-10-19T19:05:17.403Z"
   },
   {
    "duration": 12,
    "start_time": "2022-10-19T19:05:17.413Z"
   },
   {
    "duration": 14,
    "start_time": "2022-10-19T19:05:17.427Z"
   },
   {
    "duration": 6,
    "start_time": "2022-10-19T19:05:17.443Z"
   },
   {
    "duration": 10,
    "start_time": "2022-10-19T19:05:17.450Z"
   },
   {
    "duration": 11,
    "start_time": "2022-10-19T19:05:17.494Z"
   },
   {
    "duration": 4,
    "start_time": "2022-10-19T19:05:17.506Z"
   },
   {
    "duration": 14,
    "start_time": "2022-10-19T19:05:17.511Z"
   },
   {
    "duration": 8,
    "start_time": "2022-10-19T19:05:17.526Z"
   },
   {
    "duration": 6,
    "start_time": "2022-10-19T19:05:17.536Z"
   },
   {
    "duration": 1253,
    "start_time": "2022-10-19T19:05:17.543Z"
   },
   {
    "duration": 522,
    "start_time": "2022-10-19T19:05:18.798Z"
   },
   {
    "duration": 3,
    "start_time": "2022-10-19T19:05:19.323Z"
   },
   {
    "duration": 6,
    "start_time": "2022-10-19T19:05:19.327Z"
   },
   {
    "duration": 12,
    "start_time": "2022-10-19T19:05:19.334Z"
   },
   {
    "duration": 21,
    "start_time": "2022-10-19T19:05:19.348Z"
   },
   {
    "duration": 493,
    "start_time": "2022-10-19T19:05:19.371Z"
   },
   {
    "duration": 4,
    "start_time": "2022-10-19T19:05:19.866Z"
   },
   {
    "duration": 18,
    "start_time": "2022-10-19T19:05:19.872Z"
   },
   {
    "duration": 41,
    "start_time": "2022-10-19T19:05:19.891Z"
   },
   {
    "duration": 2,
    "start_time": "2022-10-19T19:05:19.934Z"
   },
   {
    "duration": 460,
    "start_time": "2022-10-19T19:05:19.938Z"
   },
   {
    "duration": 309,
    "start_time": "2022-10-19T19:09:33.086Z"
   },
   {
    "duration": 4,
    "start_time": "2022-10-19T19:11:27.702Z"
   },
   {
    "duration": 145,
    "start_time": "2022-10-19T19:11:34.355Z"
   },
   {
    "duration": 3,
    "start_time": "2022-10-19T19:13:16.894Z"
   },
   {
    "duration": 191,
    "start_time": "2022-10-19T19:13:23.608Z"
   },
   {
    "duration": 297,
    "start_time": "2022-10-19T19:13:33.706Z"
   },
   {
    "duration": 3,
    "start_time": "2022-10-19T19:13:41.621Z"
   },
   {
    "duration": 1781,
    "start_time": "2022-10-19T19:13:44.520Z"
   },
   {
    "duration": 5,
    "start_time": "2022-10-19T19:15:03.884Z"
   },
   {
    "duration": 482,
    "start_time": "2022-10-19T19:15:11.724Z"
   },
   {
    "duration": 3,
    "start_time": "2022-10-19T19:15:17.397Z"
   },
   {
    "duration": 1849,
    "start_time": "2022-10-19T19:15:20.547Z"
   },
   {
    "duration": 4,
    "start_time": "2022-10-19T19:17:57.199Z"
   },
   {
    "duration": 1853,
    "start_time": "2022-10-19T19:22:05.108Z"
   },
   {
    "duration": 2081,
    "start_time": "2022-10-19T19:22:06.963Z"
   },
   {
    "duration": 24,
    "start_time": "2022-10-19T19:22:09.046Z"
   },
   {
    "duration": 27,
    "start_time": "2022-10-19T19:22:09.073Z"
   },
   {
    "duration": 19,
    "start_time": "2022-10-19T19:22:09.102Z"
   },
   {
    "duration": 13,
    "start_time": "2022-10-19T19:22:09.124Z"
   },
   {
    "duration": 19,
    "start_time": "2022-10-19T19:22:09.139Z"
   },
   {
    "duration": 48,
    "start_time": "2022-10-19T19:22:09.159Z"
   },
   {
    "duration": 3,
    "start_time": "2022-10-19T19:22:09.209Z"
   },
   {
    "duration": 8,
    "start_time": "2022-10-19T19:22:09.214Z"
   },
   {
    "duration": 4,
    "start_time": "2022-10-19T19:22:09.223Z"
   },
   {
    "duration": 6,
    "start_time": "2022-10-19T19:22:09.229Z"
   },
   {
    "duration": 27,
    "start_time": "2022-10-19T19:22:09.236Z"
   },
   {
    "duration": 125,
    "start_time": "2022-10-19T19:22:09.264Z"
   },
   {
    "duration": 85,
    "start_time": "2022-10-19T19:22:09.394Z"
   },
   {
    "duration": 21,
    "start_time": "2022-10-19T19:22:09.480Z"
   },
   {
    "duration": 23,
    "start_time": "2022-10-19T19:22:09.502Z"
   },
   {
    "duration": 18,
    "start_time": "2022-10-19T19:22:09.526Z"
   },
   {
    "duration": 5,
    "start_time": "2022-10-19T19:22:09.546Z"
   },
   {
    "duration": 26,
    "start_time": "2022-10-19T19:22:09.553Z"
   },
   {
    "duration": 10,
    "start_time": "2022-10-19T19:22:09.581Z"
   },
   {
    "duration": 16,
    "start_time": "2022-10-19T19:22:09.593Z"
   },
   {
    "duration": 27,
    "start_time": "2022-10-19T19:22:09.610Z"
   },
   {
    "duration": 26,
    "start_time": "2022-10-19T19:22:09.639Z"
   },
   {
    "duration": 13,
    "start_time": "2022-10-19T19:22:09.667Z"
   },
   {
    "duration": 1242,
    "start_time": "2022-10-19T19:22:09.682Z"
   },
   {
    "duration": 544,
    "start_time": "2022-10-19T19:22:10.926Z"
   },
   {
    "duration": 3,
    "start_time": "2022-10-19T19:22:11.473Z"
   },
   {
    "duration": 5,
    "start_time": "2022-10-19T19:22:11.477Z"
   },
   {
    "duration": 11,
    "start_time": "2022-10-19T19:22:11.483Z"
   },
   {
    "duration": 21,
    "start_time": "2022-10-19T19:22:11.496Z"
   },
   {
    "duration": 518,
    "start_time": "2022-10-19T19:22:11.518Z"
   },
   {
    "duration": 4,
    "start_time": "2022-10-19T19:22:12.038Z"
   },
   {
    "duration": 34,
    "start_time": "2022-10-19T19:22:12.043Z"
   },
   {
    "duration": 4,
    "start_time": "2022-10-19T19:22:12.079Z"
   },
   {
    "duration": 12,
    "start_time": "2022-10-19T19:22:12.084Z"
   },
   {
    "duration": 1702,
    "start_time": "2022-10-19T19:22:12.098Z"
   },
   {
    "duration": 2279,
    "start_time": "2022-10-29T05:48:18.381Z"
   },
   {
    "duration": 1894,
    "start_time": "2022-10-29T05:48:20.662Z"
   },
   {
    "duration": 23,
    "start_time": "2022-10-29T05:48:22.558Z"
   },
   {
    "duration": 16,
    "start_time": "2022-10-29T05:48:22.582Z"
   },
   {
    "duration": 46,
    "start_time": "2022-10-29T05:48:22.601Z"
   },
   {
    "duration": 18,
    "start_time": "2022-10-29T05:48:22.649Z"
   },
   {
    "duration": 19,
    "start_time": "2022-10-29T05:48:22.668Z"
   },
   {
    "duration": 16,
    "start_time": "2022-10-29T05:48:22.688Z"
   },
   {
    "duration": 2,
    "start_time": "2022-10-29T05:48:22.705Z"
   },
   {
    "duration": 40,
    "start_time": "2022-10-29T05:48:22.708Z"
   },
   {
    "duration": 9,
    "start_time": "2022-10-29T05:48:22.749Z"
   },
   {
    "duration": 5,
    "start_time": "2022-10-29T05:48:22.759Z"
   },
   {
    "duration": 16,
    "start_time": "2022-10-29T05:48:22.765Z"
   },
   {
    "duration": 11,
    "start_time": "2022-10-29T05:48:22.784Z"
   },
   {
    "duration": 18,
    "start_time": "2022-10-29T05:48:22.797Z"
   },
   {
    "duration": 30,
    "start_time": "2022-10-29T05:48:22.823Z"
   },
   {
    "duration": 15,
    "start_time": "2022-10-29T05:48:22.856Z"
   },
   {
    "duration": 5,
    "start_time": "2022-10-29T05:48:22.873Z"
   },
   {
    "duration": 23,
    "start_time": "2022-10-29T05:48:22.879Z"
   },
   {
    "duration": 91,
    "start_time": "2022-10-29T05:48:22.903Z"
   },
   {
    "duration": 111,
    "start_time": "2022-10-29T05:48:22.995Z"
   },
   {
    "duration": 9,
    "start_time": "2022-10-29T05:48:23.107Z"
   },
   {
    "duration": 28,
    "start_time": "2022-10-29T05:48:23.117Z"
   },
   {
    "duration": 27,
    "start_time": "2022-10-29T05:48:23.149Z"
   },
   {
    "duration": 6,
    "start_time": "2022-10-29T05:48:23.178Z"
   },
   {
    "duration": 14,
    "start_time": "2022-10-29T05:48:23.185Z"
   },
   {
    "duration": 10,
    "start_time": "2022-10-29T05:48:23.201Z"
   },
   {
    "duration": 4,
    "start_time": "2022-10-29T05:48:23.213Z"
   },
   {
    "duration": 38,
    "start_time": "2022-10-29T05:48:23.222Z"
   },
   {
    "duration": 13,
    "start_time": "2022-10-29T05:48:23.262Z"
   },
   {
    "duration": 3,
    "start_time": "2022-10-29T05:48:23.277Z"
   },
   {
    "duration": 1689,
    "start_time": "2022-10-29T05:48:23.281Z"
   },
   {
    "duration": 600,
    "start_time": "2022-10-29T05:48:24.971Z"
   },
   {
    "duration": 3,
    "start_time": "2022-10-29T05:48:25.573Z"
   },
   {
    "duration": 11,
    "start_time": "2022-10-29T05:48:25.578Z"
   },
   {
    "duration": 6,
    "start_time": "2022-10-29T05:48:25.590Z"
   },
   {
    "duration": 21,
    "start_time": "2022-10-29T05:48:25.597Z"
   },
   {
    "duration": 579,
    "start_time": "2022-10-29T05:48:25.635Z"
   },
   {
    "duration": 31,
    "start_time": "2022-10-29T05:48:26.215Z"
   },
   {
    "duration": 22,
    "start_time": "2022-10-29T05:48:26.252Z"
   },
   {
    "duration": 5,
    "start_time": "2022-10-29T05:48:26.277Z"
   },
   {
    "duration": 27,
    "start_time": "2022-10-29T05:48:26.283Z"
   },
   {
    "duration": 3,
    "start_time": "2022-10-29T05:48:26.313Z"
   },
   {
    "duration": 39,
    "start_time": "2022-10-29T05:48:26.318Z"
   },
   {
    "duration": 12,
    "start_time": "2022-10-29T05:48:26.359Z"
   },
   {
    "duration": 2316,
    "start_time": "2022-10-29T15:10:28.125Z"
   },
   {
    "duration": 173,
    "start_time": "2022-10-29T15:10:30.443Z"
   },
   {
    "duration": 0,
    "start_time": "2022-10-29T15:10:30.619Z"
   },
   {
    "duration": 0,
    "start_time": "2022-10-29T15:10:30.621Z"
   },
   {
    "duration": 0,
    "start_time": "2022-10-29T15:10:30.622Z"
   },
   {
    "duration": 0,
    "start_time": "2022-10-29T15:10:30.624Z"
   },
   {
    "duration": 0,
    "start_time": "2022-10-29T15:10:30.625Z"
   },
   {
    "duration": 0,
    "start_time": "2022-10-29T15:10:30.626Z"
   },
   {
    "duration": 0,
    "start_time": "2022-10-29T15:10:30.627Z"
   },
   {
    "duration": 0,
    "start_time": "2022-10-29T15:10:30.628Z"
   },
   {
    "duration": 0,
    "start_time": "2022-10-29T15:10:30.630Z"
   },
   {
    "duration": 0,
    "start_time": "2022-10-29T15:10:30.631Z"
   },
   {
    "duration": 0,
    "start_time": "2022-10-29T15:10:30.632Z"
   },
   {
    "duration": 0,
    "start_time": "2022-10-29T15:10:30.656Z"
   },
   {
    "duration": 0,
    "start_time": "2022-10-29T15:10:30.656Z"
   },
   {
    "duration": 0,
    "start_time": "2022-10-29T15:10:30.657Z"
   },
   {
    "duration": 0,
    "start_time": "2022-10-29T15:10:30.658Z"
   },
   {
    "duration": 0,
    "start_time": "2022-10-29T15:10:30.658Z"
   },
   {
    "duration": 0,
    "start_time": "2022-10-29T15:10:30.659Z"
   },
   {
    "duration": 0,
    "start_time": "2022-10-29T15:10:30.663Z"
   },
   {
    "duration": 0,
    "start_time": "2022-10-29T15:10:30.665Z"
   },
   {
    "duration": 0,
    "start_time": "2022-10-29T15:10:30.666Z"
   },
   {
    "duration": 0,
    "start_time": "2022-10-29T15:10:30.668Z"
   },
   {
    "duration": 0,
    "start_time": "2022-10-29T15:10:30.670Z"
   },
   {
    "duration": 0,
    "start_time": "2022-10-29T15:10:30.671Z"
   },
   {
    "duration": 0,
    "start_time": "2022-10-29T15:10:30.673Z"
   },
   {
    "duration": 0,
    "start_time": "2022-10-29T15:10:30.674Z"
   },
   {
    "duration": 0,
    "start_time": "2022-10-29T15:10:30.676Z"
   },
   {
    "duration": 0,
    "start_time": "2022-10-29T15:10:30.678Z"
   },
   {
    "duration": 0,
    "start_time": "2022-10-29T15:10:30.679Z"
   },
   {
    "duration": 0,
    "start_time": "2022-10-29T15:10:30.681Z"
   },
   {
    "duration": 0,
    "start_time": "2022-10-29T15:10:30.682Z"
   },
   {
    "duration": 0,
    "start_time": "2022-10-29T15:10:30.684Z"
   },
   {
    "duration": 0,
    "start_time": "2022-10-29T15:10:30.685Z"
   },
   {
    "duration": 0,
    "start_time": "2022-10-29T15:10:30.687Z"
   },
   {
    "duration": 0,
    "start_time": "2022-10-29T15:10:30.688Z"
   },
   {
    "duration": 0,
    "start_time": "2022-10-29T15:10:30.690Z"
   },
   {
    "duration": 0,
    "start_time": "2022-10-29T15:10:30.691Z"
   },
   {
    "duration": 0,
    "start_time": "2022-10-29T15:10:30.693Z"
   },
   {
    "duration": 0,
    "start_time": "2022-10-29T15:10:30.695Z"
   },
   {
    "duration": 0,
    "start_time": "2022-10-29T15:10:30.696Z"
   },
   {
    "duration": 0,
    "start_time": "2022-10-29T15:10:30.698Z"
   },
   {
    "duration": 1481,
    "start_time": "2022-10-29T15:12:50.579Z"
   },
   {
    "duration": 40,
    "start_time": "2022-10-29T15:12:52.062Z"
   },
   {
    "duration": 23,
    "start_time": "2022-10-29T15:12:52.105Z"
   },
   {
    "duration": 49,
    "start_time": "2022-10-29T15:12:52.129Z"
   },
   {
    "duration": 20,
    "start_time": "2022-10-29T15:12:52.182Z"
   },
   {
    "duration": 23,
    "start_time": "2022-10-29T15:12:52.204Z"
   },
   {
    "duration": 42,
    "start_time": "2022-10-29T15:12:52.228Z"
   },
   {
    "duration": 3,
    "start_time": "2022-10-29T15:12:52.273Z"
   },
   {
    "duration": 15,
    "start_time": "2022-10-29T15:12:52.278Z"
   },
   {
    "duration": 19,
    "start_time": "2022-10-29T15:12:52.294Z"
   },
   {
    "duration": 6,
    "start_time": "2022-10-29T15:12:52.315Z"
   },
   {
    "duration": 15,
    "start_time": "2022-10-29T15:12:52.323Z"
   },
   {
    "duration": 29,
    "start_time": "2022-10-29T15:12:52.340Z"
   },
   {
    "duration": 24,
    "start_time": "2022-10-29T15:12:52.373Z"
   },
   {
    "duration": 13,
    "start_time": "2022-10-29T15:12:52.400Z"
   },
   {
    "duration": 48,
    "start_time": "2022-10-29T15:12:52.415Z"
   },
   {
    "duration": 8,
    "start_time": "2022-10-29T15:12:52.465Z"
   },
   {
    "duration": 53,
    "start_time": "2022-10-29T15:12:52.474Z"
   },
   {
    "duration": 82,
    "start_time": "2022-10-29T15:12:52.529Z"
   },
   {
    "duration": 128,
    "start_time": "2022-10-29T15:12:52.612Z"
   },
   {
    "duration": 16,
    "start_time": "2022-10-29T15:12:52.742Z"
   },
   {
    "duration": 15,
    "start_time": "2022-10-29T15:12:52.759Z"
   },
   {
    "duration": 18,
    "start_time": "2022-10-29T15:12:52.777Z"
   },
   {
    "duration": 9,
    "start_time": "2022-10-29T15:12:52.797Z"
   },
   {
    "duration": 18,
    "start_time": "2022-10-29T15:12:52.807Z"
   },
   {
    "duration": 37,
    "start_time": "2022-10-29T15:12:52.826Z"
   },
   {
    "duration": 6,
    "start_time": "2022-10-29T15:12:52.864Z"
   },
   {
    "duration": 18,
    "start_time": "2022-10-29T15:12:52.871Z"
   },
   {
    "duration": 20,
    "start_time": "2022-10-29T15:12:52.891Z"
   },
   {
    "duration": 9,
    "start_time": "2022-10-29T15:12:52.913Z"
   },
   {
    "duration": 1671,
    "start_time": "2022-10-29T15:12:52.924Z"
   },
   {
    "duration": 692,
    "start_time": "2022-10-29T15:12:54.597Z"
   },
   {
    "duration": 3,
    "start_time": "2022-10-29T15:12:55.291Z"
   },
   {
    "duration": 17,
    "start_time": "2022-10-29T15:12:55.296Z"
   },
   {
    "duration": 6,
    "start_time": "2022-10-29T15:12:55.316Z"
   },
   {
    "duration": 30,
    "start_time": "2022-10-29T15:12:55.325Z"
   },
   {
    "duration": 650,
    "start_time": "2022-10-29T15:12:55.357Z"
   },
   {
    "duration": 7,
    "start_time": "2022-10-29T15:12:56.009Z"
   },
   {
    "duration": 10,
    "start_time": "2022-10-29T15:12:56.017Z"
   },
   {
    "duration": 35,
    "start_time": "2022-10-29T15:12:56.029Z"
   },
   {
    "duration": 5,
    "start_time": "2022-10-29T15:12:56.068Z"
   },
   {
    "duration": 17,
    "start_time": "2022-10-29T15:12:56.074Z"
   },
   {
    "duration": 46,
    "start_time": "2022-10-30T12:06:09.251Z"
   },
   {
    "duration": 2083,
    "start_time": "2022-10-30T12:06:50.297Z"
   },
   {
    "duration": 122,
    "start_time": "2022-10-30T12:06:52.385Z"
   },
   {
    "duration": 0,
    "start_time": "2022-10-30T12:06:52.511Z"
   },
   {
    "duration": 0,
    "start_time": "2022-10-30T12:06:52.513Z"
   },
   {
    "duration": 0,
    "start_time": "2022-10-30T12:06:52.513Z"
   },
   {
    "duration": 0,
    "start_time": "2022-10-30T12:06:52.515Z"
   },
   {
    "duration": 0,
    "start_time": "2022-10-30T12:06:52.517Z"
   },
   {
    "duration": 0,
    "start_time": "2022-10-30T12:06:52.518Z"
   },
   {
    "duration": 0,
    "start_time": "2022-10-30T12:06:52.534Z"
   },
   {
    "duration": 0,
    "start_time": "2022-10-30T12:06:52.535Z"
   },
   {
    "duration": 0,
    "start_time": "2022-10-30T12:06:52.536Z"
   },
   {
    "duration": 0,
    "start_time": "2022-10-30T12:06:52.538Z"
   },
   {
    "duration": 0,
    "start_time": "2022-10-30T12:06:52.539Z"
   },
   {
    "duration": 0,
    "start_time": "2022-10-30T12:06:52.541Z"
   },
   {
    "duration": 0,
    "start_time": "2022-10-30T12:06:52.542Z"
   },
   {
    "duration": 0,
    "start_time": "2022-10-30T12:06:52.544Z"
   },
   {
    "duration": 0,
    "start_time": "2022-10-30T12:06:52.545Z"
   },
   {
    "duration": 0,
    "start_time": "2022-10-30T12:06:52.547Z"
   },
   {
    "duration": 0,
    "start_time": "2022-10-30T12:06:52.548Z"
   },
   {
    "duration": 0,
    "start_time": "2022-10-30T12:06:52.549Z"
   },
   {
    "duration": 0,
    "start_time": "2022-10-30T12:06:52.551Z"
   },
   {
    "duration": 0,
    "start_time": "2022-10-30T12:06:52.552Z"
   },
   {
    "duration": 0,
    "start_time": "2022-10-30T12:06:52.554Z"
   },
   {
    "duration": 0,
    "start_time": "2022-10-30T12:06:52.556Z"
   },
   {
    "duration": 0,
    "start_time": "2022-10-30T12:06:52.557Z"
   },
   {
    "duration": 0,
    "start_time": "2022-10-30T12:06:52.559Z"
   },
   {
    "duration": 0,
    "start_time": "2022-10-30T12:06:52.560Z"
   },
   {
    "duration": 0,
    "start_time": "2022-10-30T12:06:52.562Z"
   },
   {
    "duration": 0,
    "start_time": "2022-10-30T12:06:52.563Z"
   },
   {
    "duration": 0,
    "start_time": "2022-10-30T12:06:52.565Z"
   },
   {
    "duration": 0,
    "start_time": "2022-10-30T12:06:52.566Z"
   },
   {
    "duration": 0,
    "start_time": "2022-10-30T12:06:52.567Z"
   },
   {
    "duration": 0,
    "start_time": "2022-10-30T12:06:52.569Z"
   },
   {
    "duration": 0,
    "start_time": "2022-10-30T12:06:52.570Z"
   },
   {
    "duration": 0,
    "start_time": "2022-10-30T12:06:52.572Z"
   },
   {
    "duration": 0,
    "start_time": "2022-10-30T12:06:52.573Z"
   },
   {
    "duration": 0,
    "start_time": "2022-10-30T12:06:52.633Z"
   },
   {
    "duration": 0,
    "start_time": "2022-10-30T12:06:52.635Z"
   },
   {
    "duration": 0,
    "start_time": "2022-10-30T12:06:52.636Z"
   },
   {
    "duration": 0,
    "start_time": "2022-10-30T12:06:52.638Z"
   },
   {
    "duration": 0,
    "start_time": "2022-10-30T12:06:52.640Z"
   },
   {
    "duration": 0,
    "start_time": "2022-10-30T12:06:52.641Z"
   },
   {
    "duration": 0,
    "start_time": "2022-10-30T12:06:52.642Z"
   },
   {
    "duration": 0,
    "start_time": "2022-10-30T12:06:52.643Z"
   },
   {
    "duration": 0,
    "start_time": "2022-10-30T12:06:52.645Z"
   },
   {
    "duration": 0,
    "start_time": "2022-10-30T12:06:52.647Z"
   },
   {
    "duration": 0,
    "start_time": "2022-10-30T12:06:52.648Z"
   },
   {
    "duration": 0,
    "start_time": "2022-10-30T12:06:52.649Z"
   },
   {
    "duration": 0,
    "start_time": "2022-10-30T12:06:52.651Z"
   },
   {
    "duration": 0,
    "start_time": "2022-10-30T12:06:52.654Z"
   },
   {
    "duration": 9,
    "start_time": "2022-10-30T12:09:04.938Z"
   },
   {
    "duration": 1840,
    "start_time": "2022-10-30T12:10:15.599Z"
   },
   {
    "duration": 8,
    "start_time": "2022-10-30T12:10:22.831Z"
   },
   {
    "duration": 5,
    "start_time": "2022-10-30T12:10:38.990Z"
   },
   {
    "duration": 8,
    "start_time": "2022-10-30T12:10:39.454Z"
   },
   {
    "duration": 11,
    "start_time": "2022-10-30T12:10:39.938Z"
   },
   {
    "duration": 4,
    "start_time": "2022-10-30T12:10:44.746Z"
   },
   {
    "duration": 587,
    "start_time": "2022-10-30T12:10:49.312Z"
   },
   {
    "duration": 6,
    "start_time": "2022-10-30T12:10:55.122Z"
   },
   {
    "duration": 4,
    "start_time": "2022-10-30T12:10:56.146Z"
   },
   {
    "duration": 3,
    "start_time": "2022-10-30T12:10:56.651Z"
   },
   {
    "duration": 25,
    "start_time": "2022-10-30T12:10:57.170Z"
   },
   {
    "duration": 514,
    "start_time": "2022-10-30T12:10:58.306Z"
   },
   {
    "duration": 6,
    "start_time": "2022-10-30T12:11:01.682Z"
   },
   {
    "duration": 13,
    "start_time": "2022-10-30T12:11:03.040Z"
   },
   {
    "duration": 9,
    "start_time": "2022-10-30T12:12:29.944Z"
   },
   {
    "duration": 8,
    "start_time": "2022-10-30T12:12:41.833Z"
   },
   {
    "duration": 12,
    "start_time": "2022-10-30T12:12:44.999Z"
   },
   {
    "duration": 13,
    "start_time": "2022-10-30T12:12:49.687Z"
   },
   {
    "duration": 7,
    "start_time": "2022-10-30T12:12:51.655Z"
   },
   {
    "duration": 4,
    "start_time": "2022-10-30T12:12:53.329Z"
   },
   {
    "duration": 3,
    "start_time": "2022-10-30T12:13:50.057Z"
   },
   {
    "duration": 7,
    "start_time": "2022-10-30T12:13:53.891Z"
   },
   {
    "duration": 3,
    "start_time": "2022-10-30T12:13:56.474Z"
   },
   {
    "duration": 206,
    "start_time": "2022-10-30T12:14:00.859Z"
   },
   {
    "duration": 4,
    "start_time": "2022-10-30T12:15:55.068Z"
   },
   {
    "duration": 12,
    "start_time": "2022-10-30T12:15:55.075Z"
   },
   {
    "duration": 2351,
    "start_time": "2022-10-30T12:15:55.089Z"
   },
   {
    "duration": 22,
    "start_time": "2022-10-30T12:15:57.441Z"
   },
   {
    "duration": 19,
    "start_time": "2022-10-30T12:15:57.465Z"
   },
   {
    "duration": 19,
    "start_time": "2022-10-30T12:15:57.485Z"
   },
   {
    "duration": 36,
    "start_time": "2022-10-30T12:15:57.506Z"
   },
   {
    "duration": 18,
    "start_time": "2022-10-30T12:15:57.544Z"
   },
   {
    "duration": 20,
    "start_time": "2022-10-30T12:15:57.564Z"
   },
   {
    "duration": 3,
    "start_time": "2022-10-30T12:15:57.585Z"
   },
   {
    "duration": 7,
    "start_time": "2022-10-30T12:15:57.590Z"
   },
   {
    "duration": 34,
    "start_time": "2022-10-30T12:15:57.599Z"
   },
   {
    "duration": 5,
    "start_time": "2022-10-30T12:15:57.635Z"
   },
   {
    "duration": 25,
    "start_time": "2022-10-30T12:15:57.642Z"
   },
   {
    "duration": 136,
    "start_time": "2022-10-30T12:15:57.669Z"
   },
   {
    "duration": 105,
    "start_time": "2022-10-30T12:15:57.807Z"
   },
   {
    "duration": 9,
    "start_time": "2022-10-30T12:15:57.914Z"
   },
   {
    "duration": 23,
    "start_time": "2022-10-30T12:15:57.924Z"
   },
   {
    "duration": 20,
    "start_time": "2022-10-30T12:15:57.949Z"
   },
   {
    "duration": 9,
    "start_time": "2022-10-30T12:15:57.971Z"
   },
   {
    "duration": 19,
    "start_time": "2022-10-30T12:15:57.982Z"
   },
   {
    "duration": 43,
    "start_time": "2022-10-30T12:15:58.003Z"
   },
   {
    "duration": 5,
    "start_time": "2022-10-30T12:15:58.048Z"
   },
   {
    "duration": 15,
    "start_time": "2022-10-30T12:15:58.055Z"
   },
   {
    "duration": 11,
    "start_time": "2022-10-30T12:15:58.072Z"
   },
   {
    "duration": 4,
    "start_time": "2022-10-30T12:15:58.085Z"
   },
   {
    "duration": 1727,
    "start_time": "2022-10-30T12:15:58.090Z"
   },
   {
    "duration": 555,
    "start_time": "2022-10-30T12:15:59.819Z"
   },
   {
    "duration": 4,
    "start_time": "2022-10-30T12:16:00.378Z"
   },
   {
    "duration": 24,
    "start_time": "2022-10-30T12:16:00.383Z"
   },
   {
    "duration": 33,
    "start_time": "2022-10-30T12:16:00.409Z"
   },
   {
    "duration": 42,
    "start_time": "2022-10-30T12:16:00.444Z"
   },
   {
    "duration": 418,
    "start_time": "2022-10-30T12:16:00.488Z"
   },
   {
    "duration": 5,
    "start_time": "2022-10-30T12:16:00.907Z"
   },
   {
    "duration": 22,
    "start_time": "2022-10-30T12:16:00.914Z"
   },
   {
    "duration": 38,
    "start_time": "2022-10-30T12:16:00.938Z"
   },
   {
    "duration": 0,
    "start_time": "2022-10-30T12:16:00.979Z"
   },
   {
    "duration": 0,
    "start_time": "2022-10-30T12:16:00.980Z"
   },
   {
    "duration": 0,
    "start_time": "2022-10-30T12:16:00.981Z"
   },
   {
    "duration": 0,
    "start_time": "2022-10-30T12:16:00.983Z"
   },
   {
    "duration": 0,
    "start_time": "2022-10-30T12:16:00.984Z"
   },
   {
    "duration": 0,
    "start_time": "2022-10-30T12:16:00.985Z"
   },
   {
    "duration": 0,
    "start_time": "2022-10-30T12:16:00.986Z"
   },
   {
    "duration": 0,
    "start_time": "2022-10-30T12:16:00.988Z"
   },
   {
    "duration": 0,
    "start_time": "2022-10-30T12:16:00.989Z"
   },
   {
    "duration": 18,
    "start_time": "2022-10-30T12:17:29.916Z"
   },
   {
    "duration": 14,
    "start_time": "2022-10-30T12:19:51.164Z"
   },
   {
    "duration": 6,
    "start_time": "2022-10-30T12:20:02.726Z"
   },
   {
    "duration": 15,
    "start_time": "2022-10-30T12:20:04.910Z"
   },
   {
    "duration": 1938,
    "start_time": "2022-10-30T12:22:50.915Z"
   },
   {
    "duration": 2,
    "start_time": "2022-10-30T12:22:52.855Z"
   },
   {
    "duration": 1459,
    "start_time": "2022-10-30T12:22:52.859Z"
   },
   {
    "duration": 32,
    "start_time": "2022-10-30T12:22:54.320Z"
   },
   {
    "duration": 19,
    "start_time": "2022-10-30T12:22:54.354Z"
   },
   {
    "duration": 21,
    "start_time": "2022-10-30T12:22:54.374Z"
   },
   {
    "duration": 44,
    "start_time": "2022-10-30T12:22:54.397Z"
   },
   {
    "duration": 22,
    "start_time": "2022-10-30T12:22:54.442Z"
   },
   {
    "duration": 20,
    "start_time": "2022-10-30T12:22:54.466Z"
   },
   {
    "duration": 4,
    "start_time": "2022-10-30T12:22:54.489Z"
   },
   {
    "duration": 12,
    "start_time": "2022-10-30T12:22:54.495Z"
   },
   {
    "duration": 28,
    "start_time": "2022-10-30T12:22:54.509Z"
   },
   {
    "duration": 18,
    "start_time": "2022-10-30T12:22:54.539Z"
   },
   {
    "duration": 5,
    "start_time": "2022-10-30T12:22:54.559Z"
   },
   {
    "duration": 32,
    "start_time": "2022-10-30T12:22:54.566Z"
   },
   {
    "duration": 172,
    "start_time": "2022-10-30T12:22:54.600Z"
   },
   {
    "duration": 104,
    "start_time": "2022-10-30T12:22:54.774Z"
   },
   {
    "duration": 9,
    "start_time": "2022-10-30T12:22:54.880Z"
   },
   {
    "duration": 21,
    "start_time": "2022-10-30T12:22:54.890Z"
   },
   {
    "duration": 20,
    "start_time": "2022-10-30T12:22:54.933Z"
   },
   {
    "duration": 10,
    "start_time": "2022-10-30T12:22:54.955Z"
   },
   {
    "duration": 11,
    "start_time": "2022-10-30T12:22:54.967Z"
   },
   {
    "duration": 14,
    "start_time": "2022-10-30T12:22:54.979Z"
   },
   {
    "duration": 5,
    "start_time": "2022-10-30T12:22:55.033Z"
   },
   {
    "duration": 16,
    "start_time": "2022-10-30T12:22:55.039Z"
   },
   {
    "duration": 12,
    "start_time": "2022-10-30T12:22:55.056Z"
   },
   {
    "duration": 4,
    "start_time": "2022-10-30T12:22:55.069Z"
   },
   {
    "duration": 1709,
    "start_time": "2022-10-30T12:22:55.076Z"
   },
   {
    "duration": 627,
    "start_time": "2022-10-30T12:22:56.788Z"
   },
   {
    "duration": 5,
    "start_time": "2022-10-30T12:22:57.418Z"
   },
   {
    "duration": 8,
    "start_time": "2022-10-30T12:22:57.433Z"
   },
   {
    "duration": 8,
    "start_time": "2022-10-30T12:22:57.442Z"
   },
   {
    "duration": 25,
    "start_time": "2022-10-30T12:22:57.452Z"
   },
   {
    "duration": 543,
    "start_time": "2022-10-30T12:22:57.479Z"
   },
   {
    "duration": 10,
    "start_time": "2022-10-30T12:22:58.024Z"
   },
   {
    "duration": 8,
    "start_time": "2022-10-30T12:22:58.036Z"
   },
   {
    "duration": 7,
    "start_time": "2022-10-30T12:22:58.046Z"
   },
   {
    "duration": 13,
    "start_time": "2022-10-30T12:22:58.056Z"
   },
   {
    "duration": 19,
    "start_time": "2022-10-30T12:22:58.071Z"
   },
   {
    "duration": 6,
    "start_time": "2022-10-30T12:22:58.092Z"
   },
   {
    "duration": 36,
    "start_time": "2022-10-30T12:22:58.100Z"
   },
   {
    "duration": 114,
    "start_time": "2022-10-30T12:26:33.896Z"
   },
   {
    "duration": 54,
    "start_time": "2022-10-30T12:26:56.199Z"
   },
   {
    "duration": 7,
    "start_time": "2022-10-30T12:27:06.404Z"
   },
   {
    "duration": 6,
    "start_time": "2022-10-30T12:27:07.171Z"
   },
   {
    "duration": 9,
    "start_time": "2022-10-30T12:27:08.356Z"
   },
   {
    "duration": 10,
    "start_time": "2022-10-30T12:27:08.892Z"
   },
   {
    "duration": 7,
    "start_time": "2022-10-30T12:27:10.485Z"
   },
   {
    "duration": 4,
    "start_time": "2022-10-30T12:27:11.695Z"
   },
   {
    "duration": 62,
    "start_time": "2022-10-30T12:28:38.346Z"
   },
   {
    "duration": 49,
    "start_time": "2022-10-30T12:28:57.332Z"
   },
   {
    "duration": 4,
    "start_time": "2022-10-30T12:29:15.056Z"
   },
   {
    "duration": 14,
    "start_time": "2022-10-30T12:29:15.846Z"
   },
   {
    "duration": 8,
    "start_time": "2022-10-30T12:54:20.605Z"
   },
   {
    "duration": 6,
    "start_time": "2022-10-30T12:54:23.792Z"
   },
   {
    "duration": 16,
    "start_time": "2022-10-30T12:54:24.901Z"
   },
   {
    "duration": 9,
    "start_time": "2022-10-30T12:54:57.953Z"
   },
   {
    "duration": 19,
    "start_time": "2022-10-30T12:54:58.730Z"
   },
   {
    "duration": 9,
    "start_time": "2022-10-30T12:55:14.865Z"
   },
   {
    "duration": 6,
    "start_time": "2022-10-30T12:55:21.549Z"
   },
   {
    "duration": 4,
    "start_time": "2022-10-30T12:55:22.749Z"
   },
   {
    "duration": 3,
    "start_time": "2022-10-30T12:55:34.468Z"
   },
   {
    "duration": 23,
    "start_time": "2022-10-30T12:57:06.938Z"
   },
   {
    "duration": 5,
    "start_time": "2022-10-30T12:57:16.145Z"
   },
   {
    "duration": 13,
    "start_time": "2022-10-30T12:57:16.153Z"
   },
   {
    "duration": 1718,
    "start_time": "2022-10-30T12:57:16.168Z"
   },
   {
    "duration": 22,
    "start_time": "2022-10-30T12:57:17.888Z"
   },
   {
    "duration": 28,
    "start_time": "2022-10-30T12:57:17.913Z"
   },
   {
    "duration": 22,
    "start_time": "2022-10-30T12:57:17.942Z"
   },
   {
    "duration": 19,
    "start_time": "2022-10-30T12:57:17.966Z"
   },
   {
    "duration": 47,
    "start_time": "2022-10-30T12:57:17.987Z"
   },
   {
    "duration": 17,
    "start_time": "2022-10-30T12:57:18.035Z"
   },
   {
    "duration": 2,
    "start_time": "2022-10-30T12:57:18.054Z"
   },
   {
    "duration": 6,
    "start_time": "2022-10-30T12:57:18.059Z"
   },
   {
    "duration": 5,
    "start_time": "2022-10-30T12:57:18.067Z"
   },
   {
    "duration": 11,
    "start_time": "2022-10-30T12:57:18.073Z"
   },
   {
    "duration": 5,
    "start_time": "2022-10-30T12:57:18.087Z"
   },
   {
    "duration": 60,
    "start_time": "2022-10-30T12:57:18.094Z"
   },
   {
    "duration": 147,
    "start_time": "2022-10-30T12:57:18.156Z"
   },
   {
    "duration": 146,
    "start_time": "2022-10-30T12:57:18.306Z"
   },
   {
    "duration": 11,
    "start_time": "2022-10-30T12:57:18.455Z"
   },
   {
    "duration": 16,
    "start_time": "2022-10-30T12:57:18.469Z"
   },
   {
    "duration": 18,
    "start_time": "2022-10-30T12:57:18.488Z"
   },
   {
    "duration": 10,
    "start_time": "2022-10-30T12:57:18.534Z"
   },
   {
    "duration": 14,
    "start_time": "2022-10-30T12:57:18.546Z"
   },
   {
    "duration": 10,
    "start_time": "2022-10-30T12:57:18.562Z"
   },
   {
    "duration": 3,
    "start_time": "2022-10-30T12:57:18.574Z"
   },
   {
    "duration": 10,
    "start_time": "2022-10-30T12:57:18.579Z"
   },
   {
    "duration": 44,
    "start_time": "2022-10-30T12:57:18.590Z"
   },
   {
    "duration": 7,
    "start_time": "2022-10-30T12:57:18.636Z"
   },
   {
    "duration": 1731,
    "start_time": "2022-10-30T12:57:18.645Z"
   },
   {
    "duration": 594,
    "start_time": "2022-10-30T12:57:20.381Z"
   },
   {
    "duration": 3,
    "start_time": "2022-10-30T12:57:20.977Z"
   },
   {
    "duration": 19,
    "start_time": "2022-10-30T12:57:20.984Z"
   },
   {
    "duration": 11,
    "start_time": "2022-10-30T12:57:21.005Z"
   },
   {
    "duration": 20,
    "start_time": "2022-10-30T12:57:21.018Z"
   },
   {
    "duration": 415,
    "start_time": "2022-10-30T12:57:21.040Z"
   },
   {
    "duration": 46,
    "start_time": "2022-10-30T12:57:21.457Z"
   },
   {
    "duration": 5,
    "start_time": "2022-10-30T12:57:21.505Z"
   },
   {
    "duration": 40,
    "start_time": "2022-10-30T12:57:21.512Z"
   },
   {
    "duration": 8,
    "start_time": "2022-10-30T12:57:54.258Z"
   },
   {
    "duration": 23,
    "start_time": "2022-10-30T12:57:58.512Z"
   },
   {
    "duration": 11,
    "start_time": "2022-10-30T12:58:39.791Z"
   },
   {
    "duration": 6,
    "start_time": "2022-10-30T12:58:41.550Z"
   },
   {
    "duration": 15,
    "start_time": "2022-10-30T12:58:43.302Z"
   },
   {
    "duration": 14,
    "start_time": "2022-10-30T12:58:44.071Z"
   },
   {
    "duration": 8,
    "start_time": "2022-10-30T12:58:45.581Z"
   },
   {
    "duration": 5,
    "start_time": "2022-10-30T12:58:46.325Z"
   },
   {
    "duration": 3,
    "start_time": "2022-10-30T12:58:52.005Z"
   },
   {
    "duration": 6,
    "start_time": "2022-10-30T12:58:55.287Z"
   },
   {
    "duration": 3,
    "start_time": "2022-10-30T12:58:56.022Z"
   },
   {
    "duration": 3,
    "start_time": "2022-10-30T12:58:59.036Z"
   },
   {
    "duration": 4,
    "start_time": "2022-10-30T12:59:00.908Z"
   },
   {
    "duration": 3,
    "start_time": "2022-10-30T12:59:01.748Z"
   },
   {
    "duration": 11,
    "start_time": "2022-10-30T12:59:05.876Z"
   },
   {
    "duration": 7,
    "start_time": "2022-10-30T12:59:19.945Z"
   },
   {
    "duration": 3,
    "start_time": "2022-10-30T12:59:20.645Z"
   },
   {
    "duration": 52,
    "start_time": "2022-10-30T12:59:22.829Z"
   },
   {
    "duration": 16,
    "start_time": "2022-10-30T13:05:48.389Z"
   },
   {
    "duration": 5,
    "start_time": "2022-10-30T13:05:51.864Z"
   },
   {
    "duration": 24,
    "start_time": "2022-10-30T13:05:56.477Z"
   },
   {
    "duration": 27,
    "start_time": "2022-10-30T13:06:44.705Z"
   },
   {
    "duration": 19,
    "start_time": "2022-10-30T13:07:38.960Z"
   },
   {
    "duration": 6,
    "start_time": "2022-10-30T13:07:42.664Z"
   },
   {
    "duration": 5,
    "start_time": "2022-10-30T13:07:44.128Z"
   },
   {
    "duration": 2,
    "start_time": "2022-10-30T13:07:46.784Z"
   },
   {
    "duration": 5,
    "start_time": "2022-10-30T13:07:49.593Z"
   },
   {
    "duration": 2,
    "start_time": "2022-10-30T13:07:49.987Z"
   },
   {
    "duration": 4,
    "start_time": "2022-10-30T13:07:52.208Z"
   },
   {
    "duration": 8,
    "start_time": "2022-10-30T13:07:53.847Z"
   },
   {
    "duration": 3,
    "start_time": "2022-10-30T13:07:54.784Z"
   },
   {
    "duration": 2160,
    "start_time": "2022-10-30T13:07:57.472Z"
   },
   {
    "duration": 25829,
    "start_time": "2022-10-30T13:08:16.880Z"
   },
   {
    "duration": 1040,
    "start_time": "2022-10-30T13:08:58.133Z"
   },
   {
    "duration": 5,
    "start_time": "2022-10-30T13:09:58.113Z"
   },
   {
    "duration": 4,
    "start_time": "2022-10-30T13:10:31.489Z"
   },
   {
    "duration": 32,
    "start_time": "2022-10-30T13:13:05.897Z"
   },
   {
    "duration": 29,
    "start_time": "2022-10-30T13:13:35.162Z"
   },
   {
    "duration": 20,
    "start_time": "2022-10-30T13:13:41.858Z"
   },
   {
    "duration": 9,
    "start_time": "2022-10-30T13:13:42.570Z"
   },
   {
    "duration": 14,
    "start_time": "2022-10-30T13:13:43.307Z"
   },
   {
    "duration": 18,
    "start_time": "2022-10-30T13:13:43.818Z"
   },
   {
    "duration": 7,
    "start_time": "2022-10-30T13:13:45.088Z"
   },
   {
    "duration": 4,
    "start_time": "2022-10-30T13:13:46.650Z"
   },
   {
    "duration": 14,
    "start_time": "2022-10-30T13:14:12.423Z"
   },
   {
    "duration": 5,
    "start_time": "2022-10-30T13:18:53.498Z"
   },
   {
    "duration": 5,
    "start_time": "2022-10-30T13:19:54.307Z"
   },
   {
    "duration": 21,
    "start_time": "2022-10-30T13:20:05.912Z"
   },
   {
    "duration": 3,
    "start_time": "2022-10-30T13:20:19.361Z"
   },
   {
    "duration": 18,
    "start_time": "2022-10-30T13:20:20.176Z"
   },
   {
    "duration": 5,
    "start_time": "2022-10-30T13:20:20.833Z"
   },
   {
    "duration": 13,
    "start_time": "2022-10-30T13:20:21.556Z"
   },
   {
    "duration": 20,
    "start_time": "2022-10-30T13:20:22.255Z"
   },
   {
    "duration": 7,
    "start_time": "2022-10-30T13:20:23.790Z"
   },
   {
    "duration": 4,
    "start_time": "2022-10-30T13:20:24.502Z"
   },
   {
    "duration": 4,
    "start_time": "2022-10-30T13:20:25.632Z"
   },
   {
    "duration": 28,
    "start_time": "2022-10-30T13:21:05.433Z"
   },
   {
    "duration": 5,
    "start_time": "2022-10-30T13:21:06.328Z"
   },
   {
    "duration": 15,
    "start_time": "2022-10-30T13:21:08.839Z"
   },
   {
    "duration": 5,
    "start_time": "2022-10-30T13:21:09.480Z"
   },
   {
    "duration": 13,
    "start_time": "2022-10-30T13:21:10.096Z"
   },
   {
    "duration": 21,
    "start_time": "2022-10-30T13:21:10.720Z"
   },
   {
    "duration": 6,
    "start_time": "2022-10-30T13:21:12.087Z"
   },
   {
    "duration": 6,
    "start_time": "2022-10-30T13:21:13.141Z"
   },
   {
    "duration": 5,
    "start_time": "2022-10-30T13:21:14.192Z"
   },
   {
    "duration": 18,
    "start_time": "2022-10-30T13:21:54.780Z"
   },
   {
    "duration": 1766,
    "start_time": "2022-10-30T13:23:46.888Z"
   },
   {
    "duration": 2,
    "start_time": "2022-10-30T13:23:48.656Z"
   },
   {
    "duration": 1517,
    "start_time": "2022-10-30T13:23:48.660Z"
   },
   {
    "duration": 25,
    "start_time": "2022-10-30T13:23:50.180Z"
   },
   {
    "duration": 27,
    "start_time": "2022-10-30T13:23:50.207Z"
   },
   {
    "duration": 21,
    "start_time": "2022-10-30T13:23:50.236Z"
   },
   {
    "duration": 14,
    "start_time": "2022-10-30T13:23:50.259Z"
   },
   {
    "duration": 22,
    "start_time": "2022-10-30T13:23:50.274Z"
   },
   {
    "duration": 48,
    "start_time": "2022-10-30T13:23:50.298Z"
   },
   {
    "duration": 3,
    "start_time": "2022-10-30T13:23:50.349Z"
   },
   {
    "duration": 12,
    "start_time": "2022-10-30T13:23:50.354Z"
   },
   {
    "duration": 5,
    "start_time": "2022-10-30T13:23:50.367Z"
   },
   {
    "duration": 19,
    "start_time": "2022-10-30T13:23:50.373Z"
   },
   {
    "duration": 4,
    "start_time": "2022-10-30T13:23:50.394Z"
   },
   {
    "duration": 44,
    "start_time": "2022-10-30T13:23:50.400Z"
   },
   {
    "duration": 132,
    "start_time": "2022-10-30T13:23:50.445Z"
   },
   {
    "duration": 95,
    "start_time": "2022-10-30T13:23:50.579Z"
   },
   {
    "duration": 8,
    "start_time": "2022-10-30T13:23:50.676Z"
   },
   {
    "duration": 37,
    "start_time": "2022-10-30T13:23:50.685Z"
   },
   {
    "duration": 30,
    "start_time": "2022-10-30T13:23:50.724Z"
   },
   {
    "duration": 26,
    "start_time": "2022-10-30T13:23:50.756Z"
   },
   {
    "duration": 15,
    "start_time": "2022-10-30T13:23:50.784Z"
   },
   {
    "duration": 38,
    "start_time": "2022-10-30T13:23:50.801Z"
   },
   {
    "duration": 22,
    "start_time": "2022-10-30T13:23:50.842Z"
   },
   {
    "duration": 44,
    "start_time": "2022-10-30T13:23:50.866Z"
   },
   {
    "duration": 17,
    "start_time": "2022-10-30T13:23:50.912Z"
   },
   {
    "duration": 10,
    "start_time": "2022-10-30T13:23:50.931Z"
   },
   {
    "duration": 1569,
    "start_time": "2022-10-30T13:23:50.945Z"
   },
   {
    "duration": 569,
    "start_time": "2022-10-30T13:23:52.516Z"
   },
   {
    "duration": 3,
    "start_time": "2022-10-30T13:23:53.087Z"
   },
   {
    "duration": 6,
    "start_time": "2022-10-30T13:23:53.091Z"
   },
   {
    "duration": 4,
    "start_time": "2022-10-30T13:23:53.099Z"
   },
   {
    "duration": 36,
    "start_time": "2022-10-30T13:23:53.105Z"
   },
   {
    "duration": 486,
    "start_time": "2022-10-30T13:23:53.143Z"
   },
   {
    "duration": 22,
    "start_time": "2022-10-30T13:23:53.634Z"
   },
   {
    "duration": 17,
    "start_time": "2022-10-30T13:23:53.658Z"
   },
   {
    "duration": 4,
    "start_time": "2022-10-30T13:23:53.677Z"
   },
   {
    "duration": 28,
    "start_time": "2022-10-30T13:23:53.683Z"
   },
   {
    "duration": 24,
    "start_time": "2022-10-30T13:23:53.713Z"
   },
   {
    "duration": 20,
    "start_time": "2022-10-30T13:23:53.739Z"
   },
   {
    "duration": 18,
    "start_time": "2022-10-30T13:23:53.761Z"
   },
   {
    "duration": 6,
    "start_time": "2022-10-30T13:23:53.781Z"
   },
   {
    "duration": 7,
    "start_time": "2022-10-30T13:23:53.789Z"
   },
   {
    "duration": 19,
    "start_time": "2022-10-30T13:23:53.797Z"
   },
   {
    "duration": 3,
    "start_time": "2022-10-30T13:23:53.834Z"
   },
   {
    "duration": 23,
    "start_time": "2022-10-30T13:25:41.202Z"
   },
   {
    "duration": 18,
    "start_time": "2022-10-30T13:25:42.642Z"
   },
   {
    "duration": 4,
    "start_time": "2022-10-30T13:25:43.924Z"
   },
   {
    "duration": 16,
    "start_time": "2022-10-30T13:25:44.809Z"
   },
   {
    "duration": 111,
    "start_time": "2022-10-30T13:25:45.496Z"
   },
   {
    "duration": 15,
    "start_time": "2022-10-30T13:25:52.615Z"
   },
   {
    "duration": 8,
    "start_time": "2022-10-30T13:27:02.422Z"
   },
   {
    "duration": 13,
    "start_time": "2022-10-30T13:27:05.958Z"
   },
   {
    "duration": 19,
    "start_time": "2022-10-30T13:27:06.529Z"
   },
   {
    "duration": 6,
    "start_time": "2022-10-30T13:27:07.651Z"
   },
   {
    "duration": 4,
    "start_time": "2022-10-30T13:27:08.276Z"
   },
   {
    "duration": 4,
    "start_time": "2022-10-30T13:27:09.211Z"
   },
   {
    "duration": 2112,
    "start_time": "2022-10-30T13:28:05.421Z"
   },
   {
    "duration": 2,
    "start_time": "2022-10-30T13:28:07.535Z"
   },
   {
    "duration": 1583,
    "start_time": "2022-10-30T13:28:07.538Z"
   },
   {
    "duration": 28,
    "start_time": "2022-10-30T13:28:09.124Z"
   },
   {
    "duration": 17,
    "start_time": "2022-10-30T13:28:09.154Z"
   },
   {
    "duration": 19,
    "start_time": "2022-10-30T13:28:09.173Z"
   },
   {
    "duration": 40,
    "start_time": "2022-10-30T13:28:09.194Z"
   },
   {
    "duration": 22,
    "start_time": "2022-10-30T13:28:09.235Z"
   },
   {
    "duration": 19,
    "start_time": "2022-10-30T13:28:09.258Z"
   },
   {
    "duration": 2,
    "start_time": "2022-10-30T13:28:09.280Z"
   },
   {
    "duration": 9,
    "start_time": "2022-10-30T13:28:09.283Z"
   },
   {
    "duration": 4,
    "start_time": "2022-10-30T13:28:09.294Z"
   },
   {
    "duration": 43,
    "start_time": "2022-10-30T13:28:09.300Z"
   },
   {
    "duration": 5,
    "start_time": "2022-10-30T13:28:09.345Z"
   },
   {
    "duration": 24,
    "start_time": "2022-10-30T13:28:09.351Z"
   },
   {
    "duration": 136,
    "start_time": "2022-10-30T13:28:09.377Z"
   },
   {
    "duration": 96,
    "start_time": "2022-10-30T13:28:09.515Z"
   },
   {
    "duration": 8,
    "start_time": "2022-10-30T13:28:09.613Z"
   },
   {
    "duration": 22,
    "start_time": "2022-10-30T13:28:09.622Z"
   },
   {
    "duration": 14,
    "start_time": "2022-10-30T13:28:09.646Z"
   },
   {
    "duration": 7,
    "start_time": "2022-10-30T13:28:09.661Z"
   },
   {
    "duration": 14,
    "start_time": "2022-10-30T13:28:09.669Z"
   },
   {
    "duration": 9,
    "start_time": "2022-10-30T13:28:09.685Z"
   },
   {
    "duration": 37,
    "start_time": "2022-10-30T13:28:09.696Z"
   },
   {
    "duration": 5,
    "start_time": "2022-10-30T13:28:09.736Z"
   },
   {
    "duration": 15,
    "start_time": "2022-10-30T13:28:09.743Z"
   },
   {
    "duration": 4,
    "start_time": "2022-10-30T13:28:09.760Z"
   },
   {
    "duration": 1594,
    "start_time": "2022-10-30T13:28:09.768Z"
   },
   {
    "duration": 621,
    "start_time": "2022-10-30T13:28:11.364Z"
   },
   {
    "duration": 2,
    "start_time": "2022-10-30T13:28:11.987Z"
   },
   {
    "duration": 6,
    "start_time": "2022-10-30T13:28:11.991Z"
   },
   {
    "duration": 4,
    "start_time": "2022-10-30T13:28:11.998Z"
   },
   {
    "duration": 33,
    "start_time": "2022-10-30T13:28:12.004Z"
   },
   {
    "duration": 511,
    "start_time": "2022-10-30T13:28:12.038Z"
   },
   {
    "duration": 22,
    "start_time": "2022-10-30T13:28:12.551Z"
   },
   {
    "duration": 4,
    "start_time": "2022-10-30T13:28:12.574Z"
   },
   {
    "duration": 24,
    "start_time": "2022-10-30T13:28:12.579Z"
   },
   {
    "duration": 7,
    "start_time": "2022-10-30T13:28:12.605Z"
   },
   {
    "duration": 30,
    "start_time": "2022-10-30T13:28:12.614Z"
   },
   {
    "duration": 19,
    "start_time": "2022-10-30T13:28:12.646Z"
   },
   {
    "duration": 3,
    "start_time": "2022-10-30T13:28:12.667Z"
   },
   {
    "duration": 4,
    "start_time": "2022-10-30T13:28:12.672Z"
   },
   {
    "duration": 8,
    "start_time": "2022-10-30T13:28:12.677Z"
   },
   {
    "duration": 7,
    "start_time": "2022-10-30T13:28:12.686Z"
   },
   {
    "duration": 7,
    "start_time": "2022-10-30T13:28:12.694Z"
   },
   {
    "duration": 31,
    "start_time": "2022-10-30T13:28:12.702Z"
   },
   {
    "duration": 3,
    "start_time": "2022-10-30T13:28:12.735Z"
   },
   {
    "duration": 1595,
    "start_time": "2022-10-30T13:28:12.739Z"
   },
   {
    "duration": 1145,
    "start_time": "2022-10-30T13:28:34.727Z"
   },
   {
    "duration": 16,
    "start_time": "2022-10-30T13:30:22.394Z"
   },
   {
    "duration": 2209,
    "start_time": "2022-10-30T15:27:36.733Z"
   },
   {
    "duration": 3,
    "start_time": "2022-10-30T15:27:38.944Z"
   },
   {
    "duration": 2656,
    "start_time": "2022-10-30T15:27:38.949Z"
   },
   {
    "duration": 38,
    "start_time": "2022-10-30T15:27:41.608Z"
   },
   {
    "duration": 21,
    "start_time": "2022-10-30T15:27:41.648Z"
   },
   {
    "duration": 46,
    "start_time": "2022-10-30T15:27:41.671Z"
   },
   {
    "duration": 31,
    "start_time": "2022-10-30T15:27:41.719Z"
   },
   {
    "duration": 25,
    "start_time": "2022-10-30T15:27:41.752Z"
   },
   {
    "duration": 37,
    "start_time": "2022-10-30T15:27:41.780Z"
   },
   {
    "duration": 4,
    "start_time": "2022-10-30T15:27:41.821Z"
   },
   {
    "duration": 11,
    "start_time": "2022-10-30T15:27:41.828Z"
   },
   {
    "duration": 7,
    "start_time": "2022-10-30T15:27:41.841Z"
   },
   {
    "duration": 21,
    "start_time": "2022-10-30T15:27:41.850Z"
   },
   {
    "duration": 5,
    "start_time": "2022-10-30T15:27:41.873Z"
   },
   {
    "duration": 60,
    "start_time": "2022-10-30T15:27:41.880Z"
   },
   {
    "duration": 152,
    "start_time": "2022-10-30T15:27:41.942Z"
   },
   {
    "duration": 100,
    "start_time": "2022-10-30T15:27:42.095Z"
   },
   {
    "duration": 15,
    "start_time": "2022-10-30T15:27:42.197Z"
   },
   {
    "duration": 13,
    "start_time": "2022-10-30T15:27:42.214Z"
   },
   {
    "duration": 14,
    "start_time": "2022-10-30T15:27:42.229Z"
   },
   {
    "duration": 15,
    "start_time": "2022-10-30T15:27:42.244Z"
   },
   {
    "duration": 10,
    "start_time": "2022-10-30T15:27:42.261Z"
   },
   {
    "duration": 41,
    "start_time": "2022-10-30T15:27:42.272Z"
   },
   {
    "duration": 3,
    "start_time": "2022-10-30T15:27:42.315Z"
   },
   {
    "duration": 11,
    "start_time": "2022-10-30T15:27:42.320Z"
   },
   {
    "duration": 8,
    "start_time": "2022-10-30T15:27:42.333Z"
   },
   {
    "duration": 5,
    "start_time": "2022-10-30T15:27:42.342Z"
   },
   {
    "duration": 1570,
    "start_time": "2022-10-30T15:27:42.349Z"
   },
   {
    "duration": 620,
    "start_time": "2022-10-30T15:27:43.921Z"
   },
   {
    "duration": 3,
    "start_time": "2022-10-30T15:27:44.542Z"
   },
   {
    "duration": 8,
    "start_time": "2022-10-30T15:27:44.547Z"
   },
   {
    "duration": 10,
    "start_time": "2022-10-30T15:27:44.557Z"
   },
   {
    "duration": 19,
    "start_time": "2022-10-30T15:27:44.568Z"
   },
   {
    "duration": 538,
    "start_time": "2022-10-30T15:27:44.588Z"
   },
   {
    "duration": 119,
    "start_time": "2022-10-30T15:28:20.265Z"
   },
   {
    "duration": 15,
    "start_time": "2022-10-30T15:29:38.899Z"
   },
   {
    "duration": 16,
    "start_time": "2022-10-30T15:30:42.092Z"
   },
   {
    "duration": 8,
    "start_time": "2022-10-30T15:30:43.651Z"
   },
   {
    "duration": 4,
    "start_time": "2022-10-30T15:31:22.068Z"
   },
   {
    "duration": 19,
    "start_time": "2022-10-30T15:31:33.451Z"
   },
   {
    "duration": 16,
    "start_time": "2022-10-30T15:31:56.443Z"
   },
   {
    "duration": 4,
    "start_time": "2022-10-30T15:32:03.958Z"
   },
   {
    "duration": 2082,
    "start_time": "2022-10-30T15:33:03.686Z"
   },
   {
    "duration": 2,
    "start_time": "2022-10-30T15:33:05.770Z"
   },
   {
    "duration": 1764,
    "start_time": "2022-10-30T15:33:05.773Z"
   },
   {
    "duration": 25,
    "start_time": "2022-10-30T15:33:07.539Z"
   },
   {
    "duration": 16,
    "start_time": "2022-10-30T15:33:07.565Z"
   },
   {
    "duration": 35,
    "start_time": "2022-10-30T15:33:07.582Z"
   },
   {
    "duration": 14,
    "start_time": "2022-10-30T15:33:07.618Z"
   },
   {
    "duration": 20,
    "start_time": "2022-10-30T15:33:07.633Z"
   },
   {
    "duration": 18,
    "start_time": "2022-10-30T15:33:07.654Z"
   },
   {
    "duration": 32,
    "start_time": "2022-10-30T15:33:07.674Z"
   },
   {
    "duration": 9,
    "start_time": "2022-10-30T15:33:07.707Z"
   },
   {
    "duration": 5,
    "start_time": "2022-10-30T15:33:07.718Z"
   },
   {
    "duration": 16,
    "start_time": "2022-10-30T15:33:07.724Z"
   },
   {
    "duration": 4,
    "start_time": "2022-10-30T15:33:07.741Z"
   },
   {
    "duration": 22,
    "start_time": "2022-10-30T15:33:07.747Z"
   },
   {
    "duration": 157,
    "start_time": "2022-10-30T15:33:07.770Z"
   },
   {
    "duration": 111,
    "start_time": "2022-10-30T15:33:07.929Z"
   },
   {
    "duration": 8,
    "start_time": "2022-10-30T15:33:08.043Z"
   },
   {
    "duration": 15,
    "start_time": "2022-10-30T15:33:08.052Z"
   },
   {
    "duration": 12,
    "start_time": "2022-10-30T15:33:08.069Z"
   },
   {
    "duration": 26,
    "start_time": "2022-10-30T15:33:08.083Z"
   },
   {
    "duration": 8,
    "start_time": "2022-10-30T15:33:08.111Z"
   },
   {
    "duration": 10,
    "start_time": "2022-10-30T15:33:08.121Z"
   },
   {
    "duration": 4,
    "start_time": "2022-10-30T15:33:08.132Z"
   },
   {
    "duration": 7,
    "start_time": "2022-10-30T15:33:08.138Z"
   },
   {
    "duration": 7,
    "start_time": "2022-10-30T15:33:08.147Z"
   },
   {
    "duration": 4,
    "start_time": "2022-10-30T15:33:08.155Z"
   },
   {
    "duration": 1490,
    "start_time": "2022-10-30T15:33:08.162Z"
   },
   {
    "duration": 525,
    "start_time": "2022-10-30T15:33:09.654Z"
   },
   {
    "duration": 3,
    "start_time": "2022-10-30T15:33:10.181Z"
   },
   {
    "duration": 4,
    "start_time": "2022-10-30T15:33:10.186Z"
   },
   {
    "duration": 14,
    "start_time": "2022-10-30T15:33:10.192Z"
   },
   {
    "duration": 17,
    "start_time": "2022-10-30T15:33:10.208Z"
   },
   {
    "duration": 508,
    "start_time": "2022-10-30T15:33:10.227Z"
   },
   {
    "duration": 16,
    "start_time": "2022-10-30T15:33:10.737Z"
   },
   {
    "duration": 14,
    "start_time": "2022-10-30T15:33:10.755Z"
   },
   {
    "duration": 7,
    "start_time": "2022-10-30T15:33:10.771Z"
   },
   {
    "duration": 29,
    "start_time": "2022-10-30T15:33:10.780Z"
   },
   {
    "duration": 9,
    "start_time": "2022-10-30T15:33:10.811Z"
   },
   {
    "duration": 2,
    "start_time": "2022-10-30T15:33:16.703Z"
   },
   {
    "duration": 5,
    "start_time": "2022-10-30T15:33:27.879Z"
   },
   {
    "duration": 3,
    "start_time": "2022-10-30T15:33:29.079Z"
   },
   {
    "duration": 4,
    "start_time": "2022-10-30T15:33:33.899Z"
   },
   {
    "duration": 6,
    "start_time": "2022-10-30T15:33:35.855Z"
   },
   {
    "duration": 2,
    "start_time": "2022-10-30T15:33:36.599Z"
   },
   {
    "duration": 1699,
    "start_time": "2022-10-30T15:33:39.811Z"
   },
   {
    "duration": 22144,
    "start_time": "2022-10-30T15:33:45.568Z"
   },
   {
    "duration": 2087,
    "start_time": "2022-10-30T15:34:17.790Z"
   },
   {
    "duration": 5,
    "start_time": "2022-10-30T15:34:23.949Z"
   },
   {
    "duration": 107,
    "start_time": "2022-10-30T15:38:46.682Z"
   },
   {
    "duration": 3,
    "start_time": "2022-10-30T15:39:23.468Z"
   },
   {
    "duration": 7,
    "start_time": "2022-10-30T15:39:37.102Z"
   },
   {
    "duration": 9,
    "start_time": "2022-10-30T15:40:10.742Z"
   },
   {
    "duration": 1883,
    "start_time": "2022-10-30T15:43:41.680Z"
   },
   {
    "duration": 3,
    "start_time": "2022-10-30T15:43:43.565Z"
   },
   {
    "duration": 1593,
    "start_time": "2022-10-30T15:43:43.569Z"
   },
   {
    "duration": 25,
    "start_time": "2022-10-30T15:43:45.164Z"
   },
   {
    "duration": 26,
    "start_time": "2022-10-30T15:43:45.191Z"
   },
   {
    "duration": 20,
    "start_time": "2022-10-30T15:43:45.219Z"
   },
   {
    "duration": 14,
    "start_time": "2022-10-30T15:43:45.240Z"
   },
   {
    "duration": 20,
    "start_time": "2022-10-30T15:43:45.256Z"
   },
   {
    "duration": 39,
    "start_time": "2022-10-30T15:43:45.277Z"
   },
   {
    "duration": 4,
    "start_time": "2022-10-30T15:43:45.320Z"
   },
   {
    "duration": 12,
    "start_time": "2022-10-30T15:43:45.326Z"
   },
   {
    "duration": 5,
    "start_time": "2022-10-30T15:43:45.341Z"
   },
   {
    "duration": 17,
    "start_time": "2022-10-30T15:43:45.348Z"
   },
   {
    "duration": 4,
    "start_time": "2022-10-30T15:43:45.367Z"
   },
   {
    "duration": 49,
    "start_time": "2022-10-30T15:43:45.372Z"
   },
   {
    "duration": 126,
    "start_time": "2022-10-30T15:43:45.423Z"
   },
   {
    "duration": 86,
    "start_time": "2022-10-30T15:43:45.550Z"
   },
   {
    "duration": 8,
    "start_time": "2022-10-30T15:43:45.637Z"
   },
   {
    "duration": 15,
    "start_time": "2022-10-30T15:43:45.647Z"
   },
   {
    "duration": 14,
    "start_time": "2022-10-30T15:43:45.664Z"
   },
   {
    "duration": 31,
    "start_time": "2022-10-30T15:43:45.679Z"
   },
   {
    "duration": 9,
    "start_time": "2022-10-30T15:43:45.711Z"
   },
   {
    "duration": 8,
    "start_time": "2022-10-30T15:43:45.722Z"
   },
   {
    "duration": 3,
    "start_time": "2022-10-30T15:43:45.732Z"
   },
   {
    "duration": 10,
    "start_time": "2022-10-30T15:43:45.737Z"
   },
   {
    "duration": 7,
    "start_time": "2022-10-30T15:43:45.748Z"
   },
   {
    "duration": 3,
    "start_time": "2022-10-30T15:43:45.757Z"
   },
   {
    "duration": 1506,
    "start_time": "2022-10-30T15:43:45.762Z"
   },
   {
    "duration": 611,
    "start_time": "2022-10-30T15:43:47.270Z"
   },
   {
    "duration": 3,
    "start_time": "2022-10-30T15:43:47.882Z"
   },
   {
    "duration": 5,
    "start_time": "2022-10-30T15:43:47.886Z"
   },
   {
    "duration": 13,
    "start_time": "2022-10-30T15:43:47.892Z"
   },
   {
    "duration": 21,
    "start_time": "2022-10-30T15:43:47.907Z"
   },
   {
    "duration": 502,
    "start_time": "2022-10-30T15:43:47.930Z"
   },
   {
    "duration": 16,
    "start_time": "2022-10-30T15:43:48.434Z"
   },
   {
    "duration": 20,
    "start_time": "2022-10-30T15:43:48.451Z"
   },
   {
    "duration": 9,
    "start_time": "2022-10-30T15:43:48.473Z"
   },
   {
    "duration": 38,
    "start_time": "2022-10-30T15:43:48.483Z"
   },
   {
    "duration": 8,
    "start_time": "2022-10-30T15:43:48.524Z"
   }
  ],
  "kernelspec": {
   "display_name": "Python 3 (ipykernel)",
   "language": "python",
   "name": "python3"
  },
  "language_info": {
   "codemirror_mode": {
    "name": "ipython",
    "version": 3
   },
   "file_extension": ".py",
   "mimetype": "text/x-python",
   "name": "python",
   "nbconvert_exporter": "python",
   "pygments_lexer": "ipython3",
   "version": "3.9.5"
  },
  "toc": {
   "base_numbering": 1,
   "nav_menu": {},
   "number_sections": true,
   "sideBar": true,
   "skip_h1_title": true,
   "title_cell": "Table of Contents",
   "title_sidebar": "Contents",
   "toc_cell": false,
   "toc_position": {},
   "toc_section_display": true,
   "toc_window_display": true
  }
 },
 "nbformat": 4,
 "nbformat_minor": 5
}
